{
 "cells": [
  {
   "cell_type": "code",
   "execution_count": 1,
   "metadata": {},
   "outputs": [
    {
     "data": {
      "text/plain": [
       "'\\nfetch_covtype\\n대표 수종(나무의 종류) 데이터\\n미국 삼림을 30*30m 영역으로 나누어 각 영역으로부터 대표 수정을 예측하기 위한 데이터\\n수종 7종류, 특징 54종류, 표본데이터 58만개\\n'"
      ]
     },
     "execution_count": 1,
     "metadata": {},
     "output_type": "execute_result"
    }
   ],
   "source": [
    "from sklearn.datasets import fetch_covtype\n",
    "'''\n",
    "covtype\n",
    "대표 수종(나무의 종류) 데이터\n",
    "미국 삼림을 30*30m 영역으로 나누어 각 영역으로부터 대표 수정을 예측하기 위한 데이터\n",
    "수종 7종류, 특징 54종류, 표본데이터 58만개\n",
    "'''"
   ]
  },
  {
   "cell_type": "code",
   "execution_count": 2,
   "metadata": {},
   "outputs": [],
   "source": [
    "covtype = fetch_covtype(shuffle=True, random_state=0)\n",
    "data = covtype.data"
   ]
  },
  {
   "cell_type": "code",
   "execution_count": 4,
   "metadata": {},
   "outputs": [],
   "source": [
    "target = covtype.target-1"
   ]
  },
  {
   "cell_type": "code",
   "execution_count": 5,
   "metadata": {},
   "outputs": [
    {
     "name": "stderr",
     "output_type": "stream",
     "text": [
      "<frozen importlib._bootstrap>:219: RuntimeWarning: numpy.ufunc size changed, may indicate binary incompatibility. Expected 192 from C header, got 216 from PyObject\n"
     ]
    }
   ],
   "source": [
    "import numpy as np\n",
    "from sklearn.model_selection import train_test_split\n",
    "from sklearn.preprocessing import MinMaxScaler"
   ]
  },
  {
   "cell_type": "code",
   "execution_count": 6,
   "metadata": {},
   "outputs": [
    {
     "data": {
      "text/plain": [
       "array([0, 1, 2, 3, 4, 5, 6])"
      ]
     },
     "execution_count": 6,
     "metadata": {},
     "output_type": "execute_result"
    }
   ],
   "source": [
    "np.unique(target)"
   ]
  },
  {
   "cell_type": "code",
   "execution_count": 7,
   "metadata": {},
   "outputs": [
    {
     "data": {
      "text/plain": [
       "((435759, 54), (145253, 54), (435759,), (145253,))"
      ]
     },
     "execution_count": 7,
     "metadata": {},
     "output_type": "execute_result"
    }
   ],
   "source": [
    "x_train, x_test, y_train, y_test = train_test_split(data, target)\n",
    "x_train.shape, x_test.shape, y_train.shape, y_test.shape"
   ]
  },
  {
   "cell_type": "code",
   "execution_count": 8,
   "metadata": {},
   "outputs": [],
   "source": [
    "# minmax scaling\n",
    "scaler = MinMaxScaler()\n",
    "x_train = scaler.fit_transform(x_train)\n",
    "x_test = scaler.transform(x_test)"
   ]
  },
  {
   "cell_type": "code",
   "execution_count": 12,
   "metadata": {},
   "outputs": [],
   "source": [
    "# 특정범위만큼 데이터를 읽어오는 함수\n",
    "# 파일, 또는 DB에서 읽어오는 함수\n",
    "def read_data(start, end):\n",
    "    idx = list(range(start,min(end, len(x_train)-1)))\n",
    "    x = x_train[idx,:]\n",
    "    y = y_train[idx]\n",
    "    return x, y"
   ]
  },
  {
   "cell_type": "markdown",
   "metadata": {},
   "source": [
    "### SGD\n",
    "* 퍼셉트론 모형에서 가중치를 업데이트해가는 방식"
   ]
  },
  {
   "cell_type": "code",
   "execution_count": 20,
   "metadata": {
    "collapsed": true
   },
   "outputs": [
    {
     "name": "stdout",
     "output_type": "stream",
     "text": [
      "EPOCH : 0, ACC : 0.7097271657039785\n",
      "EPOCH : 1, ACC : 0.7107047702973432\n",
      "EPOCH : 2, ACC : 0.7108149229275815\n",
      "EPOCH : 3, ACC : 0.7100920462916429\n",
      "EPOCH : 4, ACC : 0.7097615884009281\n",
      "EPOCH : 5, ACC : 0.7097891265584876\n",
      "EPOCH : 6, ACC : 0.7101884298431014\n",
      "EPOCH : 7, ACC : 0.7098442028736067\n",
      "EPOCH : 8, ACC : 0.7102159680006609\n",
      "EPOCH : 9, ACC : 0.710085161752253\n"
     ]
    }
   ],
   "source": [
    "from sklearn.linear_model import SGDClassifier\n",
    "from sklearn.metrics import accuracy_score\n",
    "\n",
    "model = SGDClassifier(random_state=0)\n",
    "n = 10\n",
    "n_x = len(x_train) // n\n",
    "epochs = 10\n",
    "for epoch in range(epochs):\n",
    "    for nn in range(n):\n",
    "        x, y = read_data(n_x*nn, n_x*(nn+1))\n",
    "        model.partial_fit(x,y,classes=np.unique(target))\n",
    "    acc = accuracy_score(y_test, model.predict(x_test))\n",
    "    print('EPOCH : {}, ACC : {}'.format(epoch, acc))"
   ]
  },
  {
   "cell_type": "markdown",
   "metadata": {},
   "source": [
    "### NaiveBayes\n",
    "* 일부데이터를 이용해서 사전확률분포로 사용"
   ]
  },
  {
   "cell_type": "code",
   "execution_count": 23,
   "metadata": {},
   "outputs": [
    {
     "name": "stdout",
     "output_type": "stream",
     "text": [
      "EPOCH : 0, ACC : 0.6309129587684936\n",
      "EPOCH : 1, ACC : 0.6344653810936779\n",
      "EPOCH : 2, ACC : 0.6325790173008475\n",
      "EPOCH : 3, ACC : 0.6325032873675587\n",
      "EPOCH : 4, ACC : 0.6293914755633274\n",
      "EPOCH : 5, ACC : 0.6324482110524395\n",
      "EPOCH : 6, ACC : 0.6331710876883782\n",
      "EPOCH : 7, ACC : 0.6324619801312193\n",
      "EPOCH : 8, ACC : 0.6329645515066814\n",
      "EPOCH : 9, ACC : 0.6329783205854612\n"
     ]
    }
   ],
   "source": [
    "from sklearn.naive_bayes import BernoulliNB\n",
    "from sklearn.metrics import accuracy_score\n",
    "\n",
    "model = BernoulliNB()\n",
    "n = 10\n",
    "n_x = len(x_train) // n\n",
    "\n",
    "for nn in range(n):\n",
    "    x, y = read_data(n_x*nn, n_x*(nn+1))\n",
    "    model.partial_fit(x,y,classes=np.unique(target))\n",
    "    acc = accuracy_score(y_test, model.predict(x_test))\n",
    "    print('EPOCH : {}, ACC : {}'.format(nn, acc))"
   ]
  },
  {
   "cell_type": "code",
   "execution_count": null,
   "metadata": {},
   "outputs": [],
   "source": [
    "# 앙상블 모델에서 각 모델간의 다른 데이터를 사용해서 학습 가능"
   ]
  }
 ],
 "metadata": {
  "kernelspec": {
   "display_name": "Python 3",
   "language": "python",
   "name": "python3"
  },
  "language_info": {
   "codemirror_mode": {
    "name": "ipython",
    "version": 3
   },
   "file_extension": ".py",
   "mimetype": "text/x-python",
   "name": "python",
   "nbconvert_exporter": "python",
   "pygments_lexer": "ipython3",
   "version": "3.8.5"
  }
 },
 "nbformat": 4,
 "nbformat_minor": 4
}
