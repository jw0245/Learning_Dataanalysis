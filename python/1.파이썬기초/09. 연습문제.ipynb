{
 "cells": [
  {
   "cell_type": "markdown",
   "metadata": {},
   "source": [
    "1. 볼펜이 456개가 있다. 총 학생 수가 30명인데, 모든 학생이 똑같이 나눠가졌을 때,  \n",
    "한명 당 나눠갖는 볼펜 수와 나머지를 구하시오."
   ]
  },
  {
   "cell_type": "code",
   "execution_count": null,
   "metadata": {},
   "outputs": [],
   "source": [
    "pen = 456\n",
    "student = 30\n",
    "\n",
    "pen // student, pen % student"
   ]
  },
  {
   "cell_type": "markdown",
   "metadata": {},
   "source": [
    "2. 정수 1234에서 일의 자리를 버리는 코드를 작성하시오.  \n",
    "1234 -> 1230  \n",
    "4321 -> 4320"
   ]
  },
  {
   "cell_type": "code",
   "execution_count": null,
   "metadata": {},
   "outputs": [],
   "source": [
    "number = 1234\n",
    "\n",
    "number // 10 * 10"
   ]
  },
  {
   "cell_type": "markdown",
   "metadata": {},
   "source": [
    "3. 윗변의 길이가 5, 아랫변의 길이가 10, 높이가 7인 사다리꼴의 넓이를 구하시오.  \n",
    "사다리꼴 넓이 구하는 공식 : (윗변+아랫변) * 높이 / 2"
   ]
  },
  {
   "cell_type": "code",
   "execution_count": null,
   "metadata": {},
   "outputs": [],
   "source": [
    "top = 5\n",
    "bottom = 10\n",
    "height = 7\n",
    "\n",
    "(top+bottom) * height / 2"
   ]
  },
  {
   "cell_type": "markdown",
   "metadata": {},
   "source": [
    "4. 아래 리스트의 요소 중 가장 큰 수 찾기"
   ]
  },
  {
   "cell_type": "code",
   "execution_count": null,
   "metadata": {},
   "outputs": [],
   "source": [
    "a = [5, 10, 1, 20, 15, 3]\n",
    "\n",
    "m = 0\n",
    "for v in a :\n",
    "    if v > m :\n",
    "        m = v\n",
    "m"
   ]
  },
  {
   "cell_type": "code",
   "execution_count": null,
   "metadata": {},
   "outputs": [],
   "source": [
    "max(a)"
   ]
  },
  {
   "cell_type": "code",
   "execution_count": null,
   "metadata": {},
   "outputs": [],
   "source": [
    "min(a)"
   ]
  },
  {
   "cell_type": "markdown",
   "metadata": {},
   "source": [
    "for문을 이용하여 '*' 을 아래와 같이 출력하시오. (5~7번)"
   ]
  },
  {
   "cell_type": "code",
   "execution_count": null,
   "metadata": {},
   "outputs": [],
   "source": [
    "\"\"\"\n",
    "5번\n",
    "\n",
    "*\n",
    "**\n",
    "***\n",
    "****\n",
    "*****\n",
    "\"\"\""
   ]
  },
  {
   "cell_type": "code",
   "execution_count": null,
   "metadata": {},
   "outputs": [],
   "source": [
    "\n",
    "for i in range(1,6):\n",
    "    for j in range(1,i+1):\n",
    "        print('*',end='')\n",
    "    print()\n",
    "        \n"
   ]
  },
  {
   "cell_type": "code",
   "execution_count": null,
   "metadata": {},
   "outputs": [],
   "source": [
    "'''\n",
    "6번\n",
    "*****\n",
    "****\n",
    "***\n",
    "**\n",
    "*\n",
    "'''"
   ]
  },
  {
   "cell_type": "code",
   "execution_count": null,
   "metadata": {},
   "outputs": [],
   "source": [
    "\n",
    "for i in range(5,0,-1):\n",
    "    for j in range(1,i+1):\n",
    "        print('*',end='')\n",
    "    print()\n",
    "        \n"
   ]
  },
  {
   "cell_type": "code",
   "execution_count": null,
   "metadata": {},
   "outputs": [],
   "source": [
    "'''\n",
    "7번\n",
    "    *\n",
    "   ***\n",
    "  *****\n",
    " *******\n",
    "*********\n",
    "'''"
   ]
  },
  {
   "cell_type": "code",
   "execution_count": null,
   "metadata": {},
   "outputs": [],
   "source": [
    "\n",
    "for i in range(1,6):\n",
    "    for j in range(5,i,-1):\n",
    "        print(' ',end='')\n",
    "    for k in range(1,2*i):\n",
    "        print('*',end='')\n",
    "    print()\n",
    "        \n"
   ]
  },
  {
   "cell_type": "markdown",
   "metadata": {},
   "source": [
    "8. 로또번호를 리스트로 출력하는 함수를 정의하시오.  \n",
    "함수의 매개변수는 로또번호의 갯수를 입력받아 갯수만큼 1~45의 랜덤수를 리스트에 담아 출력  \n",
    "예) lotto(3) -> [1,2,3]"
   ]
  },
  {
   "cell_type": "code",
   "execution_count": 1,
   "metadata": {},
   "outputs": [],
   "source": [
    "import random"
   ]
  },
  {
   "cell_type": "code",
   "execution_count": null,
   "metadata": {},
   "outputs": [],
   "source": [
    "\n",
    "def lotto(num):\n",
    "    lottolist = []\n",
    "    for i in range(0,num):\n",
    "        lottolist.append(random.randrange(1,46))\n",
    "    return lottolist"
   ]
  },
  {
   "cell_type": "code",
   "execution_count": null,
   "metadata": {},
   "outputs": [],
   "source": [
    "print(lotto(6))"
   ]
  },
  {
   "cell_type": "markdown",
   "metadata": {},
   "source": [
    "9. 1~100까지의 숫자 맞히기 게임  \n",
    "사용자에게 숫자를 입력받아  \n",
    "랜덤숫자보다 작으면 '큰 수를 입력하세요' 출력  \n",
    "랜덤숫자보다 크면 '작은 수를 입력하세요' 출력  \n",
    "정답이면 '정답입니다. 총 시도횟수 0회' 출력\n"
   ]
  },
  {
   "cell_type": "code",
   "execution_count": 2,
   "metadata": {},
   "outputs": [],
   "source": [
    "def randomnum() :\n",
    "    char = ''\n",
    "    num = random.randrange(1,101)\n",
    "    answer = int(input('숫자를 입력해주세요 : '))\n",
    "    sum = 0\n",
    "    while char != '정답입니다.':\n",
    "       \n",
    "        if answer == num :\n",
    "            char = '정답입니다.'\n",
    "            sum +=1\n",
    "            print(char)\n",
    "            print('총 시도 횟수 {}회'.format(sum))\n",
    "        elif answer > num :\n",
    "            sum +=1\n",
    "            char = '작은 수를 입력하세요 : '\n",
    "            print('총 시도 횟수 {}회, 입력 한 수 : {}'.format(sum,answer))\n",
    "            answer = int(input(char))\n",
    "        elif answer < num :\n",
    "            sum += 1\n",
    "            char = '큰 수를 입력하세요 : '\n",
    "            print('총 시도 횟수 {}회, 입력 한 수 : {}'.format(sum,answer))\n",
    "            answer = int(input(char))\n",
    "    return print('게임이 종료되었습니다.')"
   ]
  },
  {
   "cell_type": "code",
   "execution_count": 3,
   "metadata": {},
   "outputs": [
    {
     "name": "stdout",
     "output_type": "stream",
     "text": [
      "숫자를 입력해주세요 : 10\n",
      "총 시도 횟수 1회, 입력 한 수 : 10\n",
      "큰 수를 입력하세요 : 30\n",
      "총 시도 횟수 2회, 입력 한 수 : 30\n",
      "큰 수를 입력하세요 : 40\n",
      "총 시도 횟수 3회, 입력 한 수 : 40\n",
      "큰 수를 입력하세요 : 50\n",
      "총 시도 횟수 4회, 입력 한 수 : 50\n",
      "큰 수를 입력하세요 : 60\n",
      "총 시도 횟수 5회, 입력 한 수 : 60\n",
      "작은 수를 입력하세요 : 55\n",
      "총 시도 횟수 6회, 입력 한 수 : 55\n",
      "큰 수를 입력하세요 : 57\n",
      "정답입니다.\n",
      "총 시도 횟수 7회\n",
      "게임이 종료되었습니다.\n"
     ]
    }
   ],
   "source": [
    "randomnum()"
   ]
  }
 ],
 "metadata": {
  "kernelspec": {
   "display_name": "Python 3",
   "language": "python",
   "name": "python3"
  },
  "language_info": {
   "codemirror_mode": {
    "name": "ipython",
    "version": 3
   },
   "file_extension": ".py",
   "mimetype": "text/x-python",
   "name": "python",
   "nbconvert_exporter": "python",
   "pygments_lexer": "ipython3",
   "version": "3.8.5"
  }
 },
 "nbformat": 4,
 "nbformat_minor": 4
}
