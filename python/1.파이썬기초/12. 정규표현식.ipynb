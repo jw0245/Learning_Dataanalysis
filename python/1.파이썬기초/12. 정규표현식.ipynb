{
 "cells": [
  {
   "cell_type": "markdown",
   "metadata": {},
   "source": [
    "### 정규표현식\n",
    "* regular expression (re)\n",
    "* 특정 패턴과 일치하는 문자열을 검색, 치환, 제거하는 기능\n",
    "* 정규표현식 없이 패턴을 찾는 작업(rule:규칙 기반)은 불완전하거나, 작업 cost가 높다\n",
    "* 예) 이메일 형식, 전화번호 형식, 숫자만으로 이루어진 문자 등"
   ]
  },
  {
   "cell_type": "code",
   "execution_count": 1,
   "metadata": {},
   "outputs": [],
   "source": [
    "# raw string\n",
    "# 문자열 앞에 r이 붙으면 해당 문자열이 구성된 그대로 문자열로 변환"
   ]
  },
  {
   "cell_type": "code",
   "execution_count": 2,
   "metadata": {},
   "outputs": [
    {
     "name": "stdout",
     "output_type": "stream",
     "text": [
      "안녕하세요\n",
      "반갑습니다.\n"
     ]
    }
   ],
   "source": [
    "a = '안녕하세요\\n반갑습니다.'\n",
    "print(a)"
   ]
  },
  {
   "cell_type": "code",
   "execution_count": 3,
   "metadata": {},
   "outputs": [
    {
     "name": "stdout",
     "output_type": "stream",
     "text": [
      "안녕하세요\\n반갑습니다.\n"
     ]
    }
   ],
   "source": [
    "a = r'안녕하세요\\n반갑습니다.'\n",
    "print(a)"
   ]
  },
  {
   "cell_type": "code",
   "execution_count": 5,
   "metadata": {
    "collapsed": true
   },
   "outputs": [
    {
     "data": {
      "text/plain": [
       "\"\\n* 'a', 'A', '1'... 등 문자 하나 하나의 character는 정확히 해당 문자와 일치\\n* 기타 문자들에 대해 예외가 존재, 특별한 의미\\n    - 예) *, +, ?...\\n* . (마침표) : 어떤 한개의 character와 일치\\n* \\\\w : 문자(character)와 일치 = [a-zA-Z0-9]\\n* \\\\s : 공백문자\\n* \\t, \\n : tab, newline\\n* \\\\d : 숫자 character [0-9]\\n* \\\\^ : 시작, \\\\$ : 끝 - 문자열의 시작과 끝\\n* \\\\ 가 붙으면 이스케이프문자, \\\\는 \\\\의 의미(이스케이프문자)가 아니라 문자 자체\\n\""
      ]
     },
     "execution_count": 5,
     "metadata": {},
     "output_type": "execute_result"
    }
   ],
   "source": [
    "# 기본 패턴\n",
    "'''\n",
    "* 'a', 'A', '1'... 등 문자 하나 하나의 character는 정확히 해당 문자와 일치\n",
    "* 기타 문자들에 대해 예외가 존재, 특별한 의미\n",
    "    - 예) *, +, ?...\n",
    "* . (마침표) : 어떤 한개의 character와 일치\n",
    "* \\w : 문자(character)와 일치 = [a-zA-Z0-9]\n",
    "* \\s : 공백문자\n",
    "* \\t, \\n : tab, newline\n",
    "* \\d : 숫자 character [0-9]\n",
    "* \\^ : 시작, \\$ : 끝 - 문자열의 시작과 끝\n",
    "* \\ 가 붙으면 이스케이프문자, \\\\는 \\의 의미(이스케이프문자)가 아니라 문자 자체\n",
    "'''"
   ]
  },
  {
   "cell_type": "markdown",
   "metadata": {},
   "source": [
    "### search 메서드\n",
    "* 첫번째 일치하는 패턴을 찾으면 match 객체로 리턴\n",
    "* 패턴을 찾지 못하면 None 리턴"
   ]
  },
  {
   "cell_type": "code",
   "execution_count": 6,
   "metadata": {},
   "outputs": [],
   "source": [
    "# re 모듈 import\n",
    "import re"
   ]
  },
  {
   "cell_type": "code",
   "execution_count": 7,
   "metadata": {},
   "outputs": [
    {
     "data": {
      "text/plain": [
       "<re.Match object; span=(0, 1), match='a'>"
      ]
     },
     "execution_count": 7,
     "metadata": {},
     "output_type": "execute_result"
    }
   ],
   "source": [
    "# search('정규식패턴', '대상문자열')\n",
    "m = re.search(r'a', 'abcdefg')\n",
    "m"
   ]
  },
  {
   "cell_type": "code",
   "execution_count": 8,
   "metadata": {},
   "outputs": [
    {
     "data": {
      "text/plain": [
       "<re.Match object; span=(4, 7), match='abc'>"
      ]
     },
     "execution_count": 8,
     "metadata": {},
     "output_type": "execute_result"
    }
   ],
   "source": [
    "re.search(r'abc', '1234abcdefg')"
   ]
  },
  {
   "cell_type": "code",
   "execution_count": 9,
   "metadata": {},
   "outputs": [],
   "source": [
    "re.search(r'abcz', '1234abcdefg')"
   ]
  },
  {
   "cell_type": "code",
   "execution_count": 116,
   "metadata": {},
   "outputs": [
    {
     "name": "stdout",
     "output_type": "stream",
     "text": [
      "false\n"
     ]
    }
   ],
   "source": [
    "if re.search(r'abcz', '1234abcdefg'):\n",
    "    print('true')\n",
    "else:\n",
    "    print('false')"
   ]
  },
  {
   "cell_type": "code",
   "execution_count": 12,
   "metadata": {},
   "outputs": [
    {
     "data": {
      "text/plain": [
       "<re.Match object; span=(0, 5), match='1234a'>"
      ]
     },
     "execution_count": 12,
     "metadata": {},
     "output_type": "execute_result"
    }
   ],
   "source": [
    "re.search(r'\\d\\d\\d\\d\\w', '1234abcdefg')"
   ]
  },
  {
   "cell_type": "code",
   "execution_count": 15,
   "metadata": {},
   "outputs": [
    {
     "data": {
      "text/plain": [
       "<re.Match object; span=(1, 2), match='1'>"
      ]
     },
     "execution_count": 15,
     "metadata": {},
     "output_type": "execute_result"
    }
   ],
   "source": [
    "re.search(r'.', '@1234abcdefg') # .은 특수문자까지 포함된 문자"
   ]
  },
  {
   "cell_type": "code",
   "execution_count": 16,
   "metadata": {},
   "outputs": [
    {
     "data": {
      "text/plain": [
       "<re.Match object; span=(1, 2), match='1'>"
      ]
     },
     "execution_count": 16,
     "metadata": {},
     "output_type": "execute_result"
    }
   ],
   "source": [
    "# \\w 는 a-zA-Z0-9\n",
    "re.search(r'\\w', '@1234abcdefg')"
   ]
  },
  {
   "cell_type": "markdown",
   "metadata": {},
   "source": [
    "### 메타 캐릭터 : [ ]\n",
    "- 문자들의 범위를 나타내기 위해 사용\n",
    "- [abc] : a or b or c\n",
    "- [a-d] : a or b or c or d\n",
    "- [0-9] : 모든 숫자\n",
    "- [a-z] : 모든 영문 소문자\n",
    "- [A-Z] : 모든 영문 대문자\n",
    "- [a-zA-Z0-9] : 모든 영문과 숫자\n",
    "- [^0-9] : 숫자가 아닌 문자 (^ 반대의 의미)"
   ]
  },
  {
   "cell_type": "code",
   "execution_count": 20,
   "metadata": {},
   "outputs": [
    {
     "data": {
      "text/plain": [
       "<re.Match object; span=(0, 3), match='eat'>"
      ]
     },
     "execution_count": 20,
     "metadata": {},
     "output_type": "execute_result"
    }
   ],
   "source": [
    "# cat/bat/eat : c|b|e + at\n",
    "re.search(r'[cbe]at', 'eat')"
   ]
  },
  {
   "cell_type": "code",
   "execution_count": 21,
   "metadata": {},
   "outputs": [],
   "source": [
    "re.search(r'[cbe]at', 'mat')"
   ]
  },
  {
   "cell_type": "code",
   "execution_count": 24,
   "metadata": {},
   "outputs": [
    {
     "data": {
      "text/plain": [
       "<re.Match object; span=(0, 5), match='4haha'>"
      ]
     },
     "execution_count": 24,
     "metadata": {},
     "output_type": "execute_result"
    }
   ],
   "source": [
    "re.search(r'[0-9]haha', '4hahaabc')"
   ]
  },
  {
   "cell_type": "code",
   "execution_count": 30,
   "metadata": {},
   "outputs": [
    {
     "data": {
      "text/plain": [
       "<re.Match object; span=(0, 4), match='abcd'>"
      ]
     },
     "execution_count": 30,
     "metadata": {},
     "output_type": "execute_result"
    }
   ],
   "source": [
    "re.search(r'[^abc]bcd', 'dbcd')"
   ]
  },
  {
   "cell_type": "code",
   "execution_count": 32,
   "metadata": {},
   "outputs": [
    {
     "data": {
      "text/plain": [
       "<re.Match object; span=(6, 11), match='grape'>"
      ]
     },
     "execution_count": 32,
     "metadata": {},
     "output_type": "execute_result"
    }
   ],
   "source": [
    "# \\ (이스케이프가 아닌 캐릭터 자체를 나타낼때 \\\\)\n",
    "# \\S - 공백이 아닌 문자\n",
    "re.search(r'\\Srape', 'apple grape banana')"
   ]
  },
  {
   "cell_type": "code",
   "execution_count": 33,
   "metadata": {},
   "outputs": [
    {
     "data": {
      "text/plain": [
       "'\\n* \\\\d : 숫자 [0-9]\\n* \\\\D : 숫자가 아닌 문자 [^0-9]\\n* \\\\s : 공백문자\\n* \\\\S : 공백이 아닌 문자\\n* \\\\w : 문자 [a-zA-Z0-9]\\n* \\\\W : 알파벳, 숫자가 아닌 문자 [^a-zA-Z0-9]\\n'"
      ]
     },
     "execution_count": 33,
     "metadata": {},
     "output_type": "execute_result"
    }
   ],
   "source": [
    "'''\n",
    "* \\d : 숫자 [0-9]\n",
    "* \\D : 숫자가 아닌 문자 [^0-9]\n",
    "* \\s : 공백문자\n",
    "* \\S : 공백이 아닌 문자\n",
    "* \\w : 문자 [a-zA-Z0-9]\n",
    "* \\W : 알파벳, 숫자가 아닌 문자 [^a-zA-Z0-9]\n",
    "'''"
   ]
  },
  {
   "cell_type": "code",
   "execution_count": 40,
   "metadata": {},
   "outputs": [
    {
     "data": {
      "text/plain": [
       "<re.Match object; span=(2, 3), match='\\\\'>"
      ]
     },
     "execution_count": 40,
     "metadata": {},
     "output_type": "execute_result"
    }
   ],
   "source": [
    "re.search(r'\\\\', 'hi\\hello')"
   ]
  },
  {
   "cell_type": "code",
   "execution_count": 43,
   "metadata": {},
   "outputs": [
    {
     "data": {
      "text/plain": [
       "<re.Match object; span=(0, 3), match='dug'>"
      ]
     },
     "execution_count": 43,
     "metadata": {},
     "output_type": "execute_result"
    }
   ],
   "source": [
    "# . (마침표) - 모든 문자\n",
    "re.search(r'd.g', 'dug') # dog, dig, dug 일치"
   ]
  },
  {
   "cell_type": "markdown",
   "metadata": {},
   "source": [
    "### 반복패턴\n",
    "* 패턴 뒤에 *, +, ?는 해당 패턴이 반복적으로 존재하는지 검사\n",
    "    * '*' - 0번 이상 패턴 발생\n",
    "    * '+' - 1번 이상 패턴 발생\n",
    "    * '?' - 0 또는 1번의 패턴 발생\n",
    "* 반복 패턴의 경우 greedy하게 검색 -> 가능한 많은 부분이 검색되도록 함\n",
    "    * 예) a[bcd]*b abcbcbccb"
   ]
  },
  {
   "cell_type": "code",
   "execution_count": 48,
   "metadata": {},
   "outputs": [
    {
     "data": {
      "text/plain": [
       "<re.Match object; span=(0, 9), match='abcbcbccb'>"
      ]
     },
     "execution_count": 48,
     "metadata": {},
     "output_type": "execute_result"
    }
   ],
   "source": [
    "re.search(r'a[bcd]*b', 'abcbcbccb')"
   ]
  },
  {
   "cell_type": "code",
   "execution_count": 54,
   "metadata": {},
   "outputs": [
    {
     "data": {
      "text/plain": [
       "<re.Match object; span=(9, 15), match='banana'>"
      ]
     },
     "execution_count": 54,
     "metadata": {},
     "output_type": "execute_result"
    }
   ],
   "source": [
    "re.search(r'b\\w+a','grape or banana or apple') # 1이상"
   ]
  },
  {
   "cell_type": "code",
   "execution_count": 59,
   "metadata": {},
   "outputs": [
    {
     "data": {
      "text/plain": [
       "<re.Match object; span=(0, 4), match='http'>"
      ]
     },
     "execution_count": 59,
     "metadata": {},
     "output_type": "execute_result"
    }
   ],
   "source": [
    "# url 주소 검색\n",
    "# http, https\n",
    "re.search(r'https?', 'http://www.naver.com') # ? 는 0번 또는 1번"
   ]
  },
  {
   "cell_type": "code",
   "execution_count": 61,
   "metadata": {},
   "outputs": [
    {
     "data": {
      "text/plain": [
       "<re.Match object; span=(0, 6), match='banana'>"
      ]
     },
     "execution_count": 61,
     "metadata": {},
     "output_type": "execute_result"
    }
   ],
   "source": [
    "re.search(r'b\\w+a', 'banana')"
   ]
  },
  {
   "cell_type": "code",
   "execution_count": 64,
   "metadata": {},
   "outputs": [
    {
     "data": {
      "text/plain": [
       "<re.Match object; span=(0, 7), match='bancana'>"
      ]
     },
     "execution_count": 64,
     "metadata": {},
     "output_type": "execute_result"
    }
   ],
   "source": [
    "re.search(r'b\\w+a', 'bancana')"
   ]
  },
  {
   "cell_type": "code",
   "execution_count": 70,
   "metadata": {},
   "outputs": [
    {
     "data": {
      "text/plain": [
       "<re.Match object; span=(0, 7), match='bancana'>"
      ]
     },
     "execution_count": 70,
     "metadata": {},
     "output_type": "execute_result"
    }
   ],
   "source": [
    "# $ : 문자열이 맨끝에 일치하는 경우, ^ : 문자열의 맨앞에 일치하는 경우\n",
    "re.search(r'^b\\w+a$', 'bancana') "
   ]
  },
  {
   "cell_type": "code",
   "execution_count": 75,
   "metadata": {},
   "outputs": [
    {
     "data": {
      "text/plain": [
       "<re.Match object; span=(0, 2), match='9b'>"
      ]
     },
     "execution_count": 75,
     "metadata": {},
     "output_type": "execute_result"
    }
   ],
   "source": [
    "re.search(r'^[0-9]\\w+', '9b') # 숫자로 시작하는 문자"
   ]
  },
  {
   "cell_type": "code",
   "execution_count": 76,
   "metadata": {},
   "outputs": [
    {
     "data": {
      "text/plain": [
       "<re.Match object; span=(0, 3), match='99b'>"
      ]
     },
     "execution_count": 76,
     "metadata": {},
     "output_type": "execute_result"
    }
   ],
   "source": [
    "re.search(r'^[0-9]\\w+', '99bb') # 숫자로 시작하는 문자"
   ]
  },
  {
   "cell_type": "markdown",
   "metadata": {},
   "source": [
    "### grouping\n",
    "* 괄호 ( ) 를 사용하여 그룹핑\n",
    "* 매칭결과를 그룹별로 분리 가능\n"
   ]
  },
  {
   "cell_type": "code",
   "execution_count": 81,
   "metadata": {},
   "outputs": [
    {
     "name": "stdout",
     "output_type": "stream",
     "text": [
      "test\n",
      "gmail.com\n",
      "test@gmail.com\n"
     ]
    }
   ],
   "source": [
    "m = re.search(r'(\\w+)@(.+)', 'my email is test@gmail.com')\n",
    "print(m.group(1))\n",
    "print(m.group(2))\n",
    "print(m.group(0))"
   ]
  },
  {
   "cell_type": "markdown",
   "metadata": {},
   "source": [
    "### 반복횟수 지정\n",
    "* *, +, ? 반복 패턴을 찾는것은 가능하지만, 반복 횟수 지정 불가\n",
    "* 패턴 뒤에 중괄호 { }에 숫자를 명시하면, 숫자만큼 반복되면 매칭\n",
    "* 예) {3} - 3번 반복\n",
    "* {3,4} - 3 ~ 4 번 반복"
   ]
  },
  {
   "cell_type": "code",
   "execution_count": 85,
   "metadata": {},
   "outputs": [
    {
     "data": {
      "text/plain": [
       "<re.Match object; span=(0, 6), match='doooog'>"
      ]
     },
     "execution_count": 85,
     "metadata": {},
     "output_type": "execute_result"
    }
   ],
   "source": [
    "re.search(r'do{3,4}g', 'doooog')"
   ]
  },
  {
   "cell_type": "code",
   "execution_count": 87,
   "metadata": {},
   "outputs": [
    {
     "data": {
      "text/plain": [
       "<re.Match object; span=(0, 9), match='dodododog'>"
      ]
     },
     "execution_count": 87,
     "metadata": {},
     "output_type": "execute_result"
    }
   ],
   "source": [
    "re.search(r'(do){3,4}g', 'dodododog')"
   ]
  },
  {
   "cell_type": "markdown",
   "metadata": {},
   "source": [
    "### 미니멈 매칭 (non-greedy matching)\n",
    "* *, +, ? 사용하면 greedy 매칭 (맥시멈 매칭)\n",
    "* +?, *? 사용하면 non-greedy 매칭"
   ]
  },
  {
   "cell_type": "code",
   "execution_count": 88,
   "metadata": {},
   "outputs": [
    {
     "data": {
      "text/plain": [
       "<re.Match object; span=(0, 19), match='<html>hahaha</html>'>"
      ]
     },
     "execution_count": 88,
     "metadata": {},
     "output_type": "execute_result"
    }
   ],
   "source": [
    "re.search(r'<.+>', '<html>hahaha</html>')"
   ]
  },
  {
   "cell_type": "code",
   "execution_count": 89,
   "metadata": {},
   "outputs": [
    {
     "data": {
      "text/plain": [
       "<re.Match object; span=(0, 6), match='<html>'>"
      ]
     },
     "execution_count": 89,
     "metadata": {},
     "output_type": "execute_result"
    }
   ],
   "source": [
    "re.search(r'<.+?>', '<html>hahaha</html>')"
   ]
  },
  {
   "cell_type": "code",
   "execution_count": 90,
   "metadata": {},
   "outputs": [
    {
     "data": {
      "text/plain": [
       "<re.Match object; span=(0, 5), match='aaaaa'>"
      ]
     },
     "execution_count": 90,
     "metadata": {},
     "output_type": "execute_result"
    }
   ],
   "source": [
    "# 반복횟수에도 미니멈 매칭 적용\n",
    "re.search(r'a{3,5}', 'aaaaaaaaaaaaaaaaa')"
   ]
  },
  {
   "cell_type": "code",
   "execution_count": 91,
   "metadata": {},
   "outputs": [
    {
     "data": {
      "text/plain": [
       "<re.Match object; span=(0, 3), match='aaa'>"
      ]
     },
     "execution_count": 91,
     "metadata": {},
     "output_type": "execute_result"
    }
   ],
   "source": [
    "re.search(r'a{3,5}?', 'aaaaaaaaaaaaaaaaa')"
   ]
  },
  {
   "cell_type": "markdown",
   "metadata": {},
   "source": [
    "### match\n",
    "* search 유사, 대상 문자열의 시작부터 비교\n",
    "* 시작부터 해당 패턴이 존재하지 않으면 None"
   ]
  },
  {
   "cell_type": "code",
   "execution_count": 95,
   "metadata": {},
   "outputs": [
    {
     "data": {
      "text/plain": [
       "<re.Match object; span=(10, 13), match='111'>"
      ]
     },
     "execution_count": 95,
     "metadata": {},
     "output_type": "execute_result"
    }
   ],
   "source": [
    "re.search(r'\\d\\d\\d', 'my number 111 222')"
   ]
  },
  {
   "cell_type": "code",
   "execution_count": 96,
   "metadata": {},
   "outputs": [
    {
     "data": {
      "text/plain": [
       "<re.Match object; span=(0, 3), match='111'>"
      ]
     },
     "execution_count": 96,
     "metadata": {},
     "output_type": "execute_result"
    }
   ],
   "source": [
    "re.match(r'\\d\\d\\d', '111 222 is my number')"
   ]
  },
  {
   "cell_type": "markdown",
   "metadata": {},
   "source": [
    "### findall\n",
    "* search는 최초로 매칭되는 패턴을 리턴한다면\n",
    "* findall은 매칭되는 전체 패턴을 리턴\n",
    "* 매칭된 리턴값은 리스트로 리턴"
   ]
  },
  {
   "cell_type": "code",
   "execution_count": 98,
   "metadata": {},
   "outputs": [
    {
     "data": {
      "text/plain": [
       "['test@test.com', 'hong@gmail.com', 'abc@naver.com']"
      ]
     },
     "execution_count": 98,
     "metadata": {},
     "output_type": "execute_result"
    }
   ],
   "source": [
    "re.findall(r'[\\w]+@[\\w.]+', 'hello test@test.com, my name is hong... hong@gmail.com, nice asdfasgdasd abc@naver.com')"
   ]
  },
  {
   "cell_type": "markdown",
   "metadata": {},
   "source": [
    "### sub\n",
    "* 대상 문자열의 모든 패턴을 replace\n",
    "* 치환한 결과를 문자열로 리턴\n",
    "* sub(정규표현식, 바뀔문자열, 대상문자열)"
   ]
  },
  {
   "cell_type": "code",
   "execution_count": 99,
   "metadata": {},
   "outputs": [
    {
     "data": {
      "text/plain": [
       "'hello ***@***.**, my name is hong... ***@***.**, nice asdfasgdasd ***@***.**'"
      ]
     },
     "execution_count": 99,
     "metadata": {},
     "output_type": "execute_result"
    }
   ],
   "source": [
    "re.sub(r'[\\w]+@[\\w.]+', '***@***.**', 'hello test@test.com, my name is hong... hong@gmail.com, nice asdfasgdasd abc@naver.com')"
   ]
  },
  {
   "cell_type": "code",
   "execution_count": 102,
   "metadata": {},
   "outputs": [
    {
     "data": {
      "text/plain": [
       "'hello ***@***.**, my name is hong... hong@gmail.com, nice asdfasgdasd abc@naver.com'"
      ]
     },
     "execution_count": 102,
     "metadata": {},
     "output_type": "execute_result"
    }
   ],
   "source": [
    "# sub() 매개변수 중 count가 0이면 전체를, 1이상이면 해당 숫자만큼만 치환\n",
    "re.sub(r'[\\w]+@[\\w.]+', '***@***.**', 'hello test@test.com, my name is hong... hong@gmail.com, nice asdfasgdasd abc@naver.com',\n",
    "      count=1)"
   ]
  },
  {
   "cell_type": "markdown",
   "metadata": {},
   "source": [
    "### compile\n",
    "* 동일한 정규표현식을 매번 다시 쓰기 번거롭기 때문\n",
    "* 미리 compile 함수를 이용해서 객체로 저장해두고 필요할 때 사용\n",
    "* 속도 문제로 많은 데이터를 처리하는 경우 compile를 미리 해두고 사용"
   ]
  },
  {
   "cell_type": "code",
   "execution_count": 103,
   "metadata": {},
   "outputs": [],
   "source": [
    "email_re = re.compile(r'[\\w]+@[\\w.]+')"
   ]
  },
  {
   "cell_type": "code",
   "execution_count": 104,
   "metadata": {},
   "outputs": [
    {
     "data": {
      "text/plain": [
       "['test@gmail.com', 'test@naver.com']"
      ]
     },
     "execution_count": 104,
     "metadata": {},
     "output_type": "execute_result"
    }
   ],
   "source": [
    "email_re.findall('asfasdfa test@gmail.com asdfasdaf test@naver.com')"
   ]
  },
  {
   "cell_type": "code",
   "execution_count": 109,
   "metadata": {},
   "outputs": [],
   "source": [
    "text = '''\n",
    "홍길동,010-1234-5678\n",
    "김길동,010-2345-6789\n",
    "최길동,010-3456-7890\n",
    "'''\n",
    "# 전화번호 뒷자리 ####으로 전체 치환"
   ]
  },
  {
   "cell_type": "code",
   "execution_count": 112,
   "metadata": {},
   "outputs": [
    {
     "data": {
      "text/plain": [
       "[('010-1234-', '5678'), ('010-2345-', '6789'), ('010-3456-', '7890')]"
      ]
     },
     "execution_count": 112,
     "metadata": {},
     "output_type": "execute_result"
    }
   ],
   "source": [
    "# 그룹핑해서 sub() 메서드 이용해서 치환\n",
    "tel_re = re.compile(r'(\\d{3}[-]\\d{3,4}[-])(\\d{4})')\n",
    "tel_re.findall(text)"
   ]
  },
  {
   "cell_type": "code",
   "execution_count": 113,
   "metadata": {},
   "outputs": [
    {
     "name": "stdout",
     "output_type": "stream",
     "text": [
      "\n",
      "홍길동,010-1234-####\n",
      "김길동,010-2345-####\n",
      "최길동,010-3456-####\n",
      "\n"
     ]
    }
   ],
   "source": [
    "print(tel_re.sub('\\g<1>####', text))"
   ]
  },
  {
   "cell_type": "code",
   "execution_count": null,
   "metadata": {},
   "outputs": [],
   "source": []
  }
 ],
 "metadata": {
  "kernelspec": {
   "display_name": "Python 3",
   "language": "python",
   "name": "python3"
  },
  "language_info": {
   "codemirror_mode": {
    "name": "ipython",
    "version": 3
   },
   "file_extension": ".py",
   "mimetype": "text/x-python",
   "name": "python",
   "nbconvert_exporter": "python",
   "pygments_lexer": "ipython3",
   "version": "3.8.5"
  }
 },
 "nbformat": 4,
 "nbformat_minor": 4
}
