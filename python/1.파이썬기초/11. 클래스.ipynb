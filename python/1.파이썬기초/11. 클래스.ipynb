{
 "cells": [
  {
   "cell_type": "markdown",
   "metadata": {},
   "source": [
    "### class\n",
    "* 실세계의 사물을 모델링\n",
    "* 속성(attribute)과 기능,동작(method)로 구성\n",
    "* 데이터 타입(사용자 정의 자료형)\n",
    "* 데이터(변수)와 데이터를 처리(함수)들을 하나의 클래스로 캡슐화하여 표현\n",
    "* 모델링 : 중요한 속성에 따라 클래스의 속성과 기능으로 달라짐"
   ]
  },
  {
   "cell_type": "markdown",
   "metadata": {},
   "source": [
    "### object\n",
    "* 객체\n",
    "* 클래스로 생성된(구체화된) 객체(인스턴스)\n",
    "* 파이썬 모든 것(int,str,list...) 전부 객체\n",
    "* 클래스가 인스턴스화 되어 메모리에 저장 -> 객체\n",
    "* 클래스 : 설계도, 객체 : 설계도로 만들어진 피조물"
   ]
  },
  {
   "cell_type": "markdown",
   "metadata": {},
   "source": [
    "### 클래스의 구조\n",
    "```python\n",
    "class 클래스명 :\n",
    "    클래스변수\n",
    "    메서드(함수)\n",
    "    def 메서드명(self, 매개변수...):\n",
    "        실행문...\n",
    "        return\n",
    "```"
   ]
  },
  {
   "cell_type": "code",
   "execution_count": 63,
   "metadata": {},
   "outputs": [],
   "source": [
    "# 계산기 클래스 선언\n",
    "class Calculator :\n",
    "    def plus(self, a, b):\n",
    "        self.result = a+b # result라는 객체 변수에 a+b의 결과값 대입"
   ]
  },
  {
   "cell_type": "code",
   "execution_count": 64,
   "metadata": {},
   "outputs": [],
   "source": [
    "# 객체 생성\n",
    "cal = Calculator()"
   ]
  },
  {
   "cell_type": "code",
   "execution_count": 65,
   "metadata": {},
   "outputs": [
    {
     "data": {
      "text/plain": [
       "__main__.Calculator"
      ]
     },
     "execution_count": 65,
     "metadata": {},
     "output_type": "execute_result"
    }
   ],
   "source": [
    "type(cal)"
   ]
  },
  {
   "cell_type": "code",
   "execution_count": 4,
   "metadata": {},
   "outputs": [],
   "source": [
    "# 메서드 호출\n",
    "cal.plus(1,2) # result 변수 생성"
   ]
  },
  {
   "cell_type": "code",
   "execution_count": 5,
   "metadata": {},
   "outputs": [
    {
     "data": {
      "text/plain": [
       "3"
      ]
     },
     "execution_count": 5,
     "metadata": {},
     "output_type": "execute_result"
    }
   ],
   "source": [
    "# 객체 변수 출력\n",
    "cal.result"
   ]
  },
  {
   "cell_type": "code",
   "execution_count": 6,
   "metadata": {},
   "outputs": [
    {
     "name": "stdout",
     "output_type": "stream",
     "text": [
      "3\n",
      "5\n"
     ]
    }
   ],
   "source": [
    "cal2 = Calculator()\n",
    "cal2.plus(2,3)\n",
    "print(cal.result)\n",
    "print(cal2.result)"
   ]
  },
  {
   "cell_type": "markdown",
   "metadata": {},
   "source": [
    "### \\_\\_init\\_\\_(self)\n",
    "* 생성자, 클래스에서 객체가 생성될 때 실행됨\n",
    "* self는 항상 첫번째 작성 (관례적으로 self라고 사용)\n",
    "* 데이터를 초기화하는 용도"
   ]
  },
  {
   "cell_type": "code",
   "execution_count": 7,
   "metadata": {},
   "outputs": [],
   "source": [
    "class Member:\n",
    "    # 클래스변수\n",
    "    address = '서울'\n",
    "    \n",
    "    # 생성자 (초기화) - 이름, 성별\n",
    "    def __init__(self, name, gender):\n",
    "        self.name = name\n",
    "        self.gender = gender"
   ]
  },
  {
   "cell_type": "code",
   "execution_count": 9,
   "metadata": {},
   "outputs": [],
   "source": [
    "# 객체 생성\n",
    "m = Member('홍길동','남')"
   ]
  },
  {
   "cell_type": "code",
   "execution_count": 10,
   "metadata": {},
   "outputs": [
    {
     "data": {
      "text/plain": [
       "('홍길동', '남')"
      ]
     },
     "execution_count": 10,
     "metadata": {},
     "output_type": "execute_result"
    }
   ],
   "source": [
    "# 객체 변수\n",
    "m.name, m.gender"
   ]
  },
  {
   "cell_type": "code",
   "execution_count": 11,
   "metadata": {},
   "outputs": [],
   "source": [
    "# 새로운 객체 (독립적인 객체)\n",
    "m2 = Member('최길동', '여')"
   ]
  },
  {
   "cell_type": "code",
   "execution_count": 12,
   "metadata": {},
   "outputs": [
    {
     "data": {
      "text/plain": [
       "('최길동', '여')"
      ]
     },
     "execution_count": 12,
     "metadata": {},
     "output_type": "execute_result"
    }
   ],
   "source": [
    "m2.name, m2.gender"
   ]
  },
  {
   "cell_type": "code",
   "execution_count": 13,
   "metadata": {},
   "outputs": [
    {
     "data": {
      "text/plain": [
       "False"
      ]
     },
     "execution_count": 13,
     "metadata": {},
     "output_type": "execute_result"
    }
   ],
   "source": [
    "# 비교\n",
    "m == m2"
   ]
  },
  {
   "cell_type": "code",
   "execution_count": 14,
   "metadata": {},
   "outputs": [
    {
     "data": {
      "text/plain": [
       "('서울', '서울')"
      ]
     },
     "execution_count": 14,
     "metadata": {},
     "output_type": "execute_result"
    }
   ],
   "source": [
    "# 클래스변수\n",
    "m.address, m2.address"
   ]
  },
  {
   "cell_type": "code",
   "execution_count": 15,
   "metadata": {},
   "outputs": [
    {
     "data": {
      "text/plain": [
       "'서울'"
      ]
     },
     "execution_count": 15,
     "metadata": {},
     "output_type": "execute_result"
    }
   ],
   "source": [
    "m.address = '제주'\n",
    "m2.address"
   ]
  },
  {
   "cell_type": "code",
   "execution_count": 16,
   "metadata": {},
   "outputs": [
    {
     "data": {
      "text/plain": [
       "('제주', '서울')"
      ]
     },
     "execution_count": 16,
     "metadata": {},
     "output_type": "execute_result"
    }
   ],
   "source": [
    "m.address, m2.address # 클래스변수도 독립적"
   ]
  },
  {
   "cell_type": "code",
   "execution_count": 17,
   "metadata": {},
   "outputs": [
    {
     "data": {
      "text/plain": [
       "'서울'"
      ]
     },
     "execution_count": 17,
     "metadata": {},
     "output_type": "execute_result"
    }
   ],
   "source": [
    "Member.address"
   ]
  },
  {
   "cell_type": "code",
   "execution_count": null,
   "metadata": {},
   "outputs": [],
   "source": [
    "# 객체변수는 관례적으로 선언하지 않음"
   ]
  },
  {
   "cell_type": "markdown",
   "metadata": {},
   "source": [
    "### self\n",
    "* 파이썬 메서드에서 항상 첫번째 매개변수로 전달\n",
    "* 현재 실행되는 메서드의 객체 자신을 참조\n",
    "* c++,java this에 해당\n"
   ]
  },
  {
   "cell_type": "code",
   "execution_count": 28,
   "metadata": {},
   "outputs": [],
   "source": [
    "class Member:\n",
    "    # 클래스변수\n",
    "    address = '서울'\n",
    "    \n",
    "    # 생성자 (초기화) - 이름, 성별\n",
    "    def __init__(self, name, gender):\n",
    "        self.name = name\n",
    "        self.gender = gender\n",
    "    \n",
    "    # 메서드(함수)\n",
    "    def run(self, target):\n",
    "        print('{}님은 {}(으)로 달려갑니다!'.format(self.name, target))"
   ]
  },
  {
   "cell_type": "code",
   "execution_count": 29,
   "metadata": {},
   "outputs": [
    {
     "name": "stdout",
     "output_type": "stream",
     "text": [
      "홍길동님은 집(으)로 달려갑니다!\n"
     ]
    }
   ],
   "source": [
    "m = Member('홍길동', '남')\n",
    "m.run('집')"
   ]
  },
  {
   "cell_type": "markdown",
   "metadata": {},
   "source": [
    "### method type\n",
    "* instance method - 객체를 통해 호출\n",
    "    - 해당 객체를 통해 호출되기 때문에 해당 객체에만 영향을 미침\n",
    "* static method - 클래스를 통해 호출\n",
    "    - 클래스를 통해 호출되기 때문에 클래스변수를 변경 가능"
   ]
  },
  {
   "cell_type": "code",
   "execution_count": 30,
   "metadata": {},
   "outputs": [],
   "source": [
    "class Test:\n",
    "    @staticmethod\n",
    "    def plus(x,y):\n",
    "        return x+y"
   ]
  },
  {
   "cell_type": "code",
   "execution_count": 31,
   "metadata": {},
   "outputs": [
    {
     "data": {
      "text/plain": [
       "3"
      ]
     },
     "execution_count": 31,
     "metadata": {},
     "output_type": "execute_result"
    }
   ],
   "source": [
    "Test.plus(1,2)"
   ]
  },
  {
   "cell_type": "code",
   "execution_count": 33,
   "metadata": {},
   "outputs": [
    {
     "data": {
      "text/plain": [
       "3"
      ]
     },
     "execution_count": 33,
     "metadata": {},
     "output_type": "execute_result"
    }
   ],
   "source": [
    "t = Test()\n",
    "t.plus(1,2)"
   ]
  },
  {
   "cell_type": "markdown",
   "metadata": {},
   "source": [
    "### 상속 (Class Inheritance)\n",
    "* 기존에 정의해둔 클래스의 기능을 그대로 물려받을 수 있음\n",
    "* 기존 클래스에서 기능을 추가하거나, 변경(메서드 오버라이딩)해서 새로운 클래스를 정의\n",
    "* 기존 코드 재사용 (텐서플로우의 클래스를 내가 추가, 변경)\n",
    "* 상속하는 방법 : 클래스명 뒤에 괄호안에 상속받을 클래스명을 명시"
   ]
  },
  {
   "cell_type": "code",
   "execution_count": 36,
   "metadata": {},
   "outputs": [],
   "source": [
    "class Admin(Member):\n",
    "    # 메서드 추가\n",
    "    def manage(self):\n",
    "        print('관리자 이름은 {}입니다.'.format(self.name))"
   ]
  },
  {
   "cell_type": "code",
   "execution_count": 37,
   "metadata": {},
   "outputs": [
    {
     "name": "stdout",
     "output_type": "stream",
     "text": [
      "관리자님은 회사(으)로 달려갑니다!\n"
     ]
    }
   ],
   "source": [
    "a = Admin('관리자', '남')\n",
    "a.run('회사')"
   ]
  },
  {
   "cell_type": "code",
   "execution_count": 38,
   "metadata": {},
   "outputs": [
    {
     "name": "stdout",
     "output_type": "stream",
     "text": [
      "관리자 이름은 관리자입니다.\n"
     ]
    }
   ],
   "source": [
    "a.manage()"
   ]
  },
  {
   "cell_type": "markdown",
   "metadata": {},
   "source": [
    "### method override (메서드 재정의)\n",
    "* 부모클래스의 메서드를 자식클래스가 새로 정의\n",
    "* 자식클래스의 객체를 통해 메서드 호출 시 재정의된 메서드가 호출됨"
   ]
  },
  {
   "cell_type": "code",
   "execution_count": 45,
   "metadata": {},
   "outputs": [],
   "source": [
    "class Admin(Member):\n",
    "    # 메서드 추가\n",
    "    def manage(self):\n",
    "        print('관리자 이름은 {}입니다.'.format(self.name))\n",
    "    def run(self, target):\n",
    "        print('{}님은 {}(으)로 열심히 달려갑니다.'.format(self.name, target))"
   ]
  },
  {
   "cell_type": "code",
   "execution_count": 46,
   "metadata": {},
   "outputs": [
    {
     "name": "stdout",
     "output_type": "stream",
     "text": [
      "관리자님은 회사(으)로 열심히 달려갑니다.\n"
     ]
    }
   ],
   "source": [
    "a = Admin('관리자','남')\n",
    "a.run('회사')"
   ]
  },
  {
   "cell_type": "markdown",
   "metadata": {},
   "source": [
    "### super()\n",
    "* 자식클래스에서 부모클래스의 메서드를 호출할 때 사용"
   ]
  },
  {
   "cell_type": "code",
   "execution_count": 49,
   "metadata": {},
   "outputs": [],
   "source": [
    "class Admin(Member):\n",
    "    # 메서드 추가\n",
    "    def manage(self):\n",
    "        print('관리자 이름은 {}입니다.'.format(self.name))\n",
    "    # 메서드 재정의\n",
    "    def run(self, target):\n",
    "        super().run('집') # 부모클래스 객체의 run() 메서드 실행\n",
    "        # 자기자신 객체의 메서드 실행\n",
    "        self.manage()\n",
    "        print('{}님은 {}(으)로 열심히 달려갑니다.'.format(self.name, target))"
   ]
  },
  {
   "cell_type": "code",
   "execution_count": 50,
   "metadata": {},
   "outputs": [
    {
     "name": "stdout",
     "output_type": "stream",
     "text": [
      "관리자님은 집(으)로 달려갑니다!\n",
      "관리자 이름은 관리자입니다.\n",
      "관리자님은 회사(으)로 열심히 달려갑니다.\n"
     ]
    }
   ],
   "source": [
    "a = Admin('관리자','남')\n",
    "a.run('회사')"
   ]
  },
  {
   "cell_type": "code",
   "execution_count": 51,
   "metadata": {},
   "outputs": [
    {
     "name": "stdout",
     "output_type": "stream",
     "text": [
      "관리자2님은 집(으)로 달려갑니다!\n",
      "관리자 이름은 관리자2입니다.\n",
      "관리자2님은 회사(으)로 열심히 달려갑니다.\n"
     ]
    }
   ],
   "source": [
    "b = Admin('관리자2','남')\n",
    "b.run('회사')"
   ]
  },
  {
   "cell_type": "markdown",
   "metadata": {},
   "source": [
    "### 추상 메서드\n",
    "* 하위클래스에서 메서드를 강제로 구현하도록 정의\n",
    "* 강제로 에러 발생(raise)"
   ]
  },
  {
   "cell_type": "code",
   "execution_count": 52,
   "metadata": {},
   "outputs": [],
   "source": [
    "class Admin:\n",
    "    def sleep(self):\n",
    "        raise NotImplementedError # 강제 에러 발생"
   ]
  },
  {
   "cell_type": "code",
   "execution_count": 53,
   "metadata": {
    "collapsed": true
   },
   "outputs": [
    {
     "ename": "NotImplementedError",
     "evalue": "",
     "output_type": "error",
     "traceback": [
      "\u001b[1;31m---------------------------------------------------------------------------\u001b[0m",
      "\u001b[1;31mNotImplementedError\u001b[0m                       Traceback (most recent call last)",
      "\u001b[1;32m<ipython-input-53-467323dbec23>\u001b[0m in \u001b[0;36m<module>\u001b[1;34m\u001b[0m\n\u001b[0;32m      1\u001b[0m \u001b[0ma\u001b[0m \u001b[1;33m=\u001b[0m \u001b[0mAdmin\u001b[0m\u001b[1;33m(\u001b[0m\u001b[1;33m)\u001b[0m\u001b[1;33m\u001b[0m\u001b[1;33m\u001b[0m\u001b[0m\n\u001b[1;32m----> 2\u001b[1;33m \u001b[0ma\u001b[0m\u001b[1;33m.\u001b[0m\u001b[0msleep\u001b[0m\u001b[1;33m(\u001b[0m\u001b[1;33m)\u001b[0m\u001b[1;33m\u001b[0m\u001b[1;33m\u001b[0m\u001b[0m\n\u001b[0m",
      "\u001b[1;32m<ipython-input-52-c9dd6869aa9e>\u001b[0m in \u001b[0;36msleep\u001b[1;34m(self)\u001b[0m\n\u001b[0;32m      1\u001b[0m \u001b[1;32mclass\u001b[0m \u001b[0mAdmin\u001b[0m\u001b[1;33m:\u001b[0m\u001b[1;33m\u001b[0m\u001b[1;33m\u001b[0m\u001b[0m\n\u001b[0;32m      2\u001b[0m     \u001b[1;32mdef\u001b[0m \u001b[0msleep\u001b[0m\u001b[1;33m(\u001b[0m\u001b[0mself\u001b[0m\u001b[1;33m)\u001b[0m\u001b[1;33m:\u001b[0m\u001b[1;33m\u001b[0m\u001b[1;33m\u001b[0m\u001b[0m\n\u001b[1;32m----> 3\u001b[1;33m         \u001b[1;32mraise\u001b[0m \u001b[0mNotImplementedError\u001b[0m\u001b[1;33m\u001b[0m\u001b[1;33m\u001b[0m\u001b[0m\n\u001b[0m",
      "\u001b[1;31mNotImplementedError\u001b[0m: "
     ]
    }
   ],
   "source": [
    "a = Admin()\n",
    "a.sleep()"
   ]
  },
  {
   "cell_type": "code",
   "execution_count": 58,
   "metadata": {},
   "outputs": [],
   "source": [
    "# Admin <---- AdminChild\n",
    "class AdminChild(Admin):\n",
    "    def sleep(self):\n",
    "        print('잠을 잔다.')"
   ]
  },
  {
   "cell_type": "code",
   "execution_count": 59,
   "metadata": {},
   "outputs": [
    {
     "name": "stdout",
     "output_type": "stream",
     "text": [
      "잠을 잔다.\n"
     ]
    }
   ],
   "source": [
    "ac = AdminChild()\n",
    "ac.sleep()"
   ]
  },
  {
   "cell_type": "code",
   "execution_count": 1,
   "metadata": {},
   "outputs": [
    {
     "data": {
      "text/plain": [
       "\"\\n마린(Marine) 클래스 설계\\n체력 : health\\n공격력 : power\\n공격 : attack()\\n\\n초기화 시 체력, 공격력 지정해서 객체  생성(기본값 체력:50, 공격력:5)\\n공격\\n- A마린이 B마린을 공격\\n- A마린의 공격력 만큼 B마린의 체력이 떨어짐\\n- 체력이 0이되면 '사망'이라고 출력\\n- attack(대상)\\n\\n클래스를 설계하고 객체를 두개 생성해서 m1 -> m2을 공격\\nm1의 체력, m2의 체력도 출력\\n\""
      ]
     },
     "execution_count": 1,
     "metadata": {},
     "output_type": "execute_result"
    }
   ],
   "source": [
    "\"\"\"\n",
    "마린(Marine) 클래스 설계\n",
    "체력 : health\n",
    "공격력 : power\n",
    "공격 : attack()\n",
    "\n",
    "초기화 시 체력, 공격력 지정해서 객체  생성(기본값 체력:50, 공격력:5)\n",
    "공격\n",
    "- A마린이 B마린을 공격\n",
    "- A마린의 공격력 만큼 B마린의 체력이 떨어짐\n",
    "- 체력이 0이되면 '사망'이라고 출력\n",
    "- attack(대상)\n",
    "\n",
    "클래스를 설계하고 객체를 두개 생성해서 m1 -> m2을 공격\n",
    "m1의 체력, m2의 체력도 출력\n",
    "\"\"\""
   ]
  },
  {
   "cell_type": "code",
   "execution_count": 56,
   "metadata": {},
   "outputs": [],
   "source": [
    "class Marine:\n",
    "    def __init__(self, health=50, power=5):\n",
    "        self.health = health\n",
    "        self.power = power\n",
    "    def attack(self, target):\n",
    "        #target.health = target.health -self.power\n",
    "        target.health -= self.power\n",
    "        if target.health <= 0 :\n",
    "            target.health = 0 \n",
    "            print ('사망')\n",
    "m1 = Marine()\n",
    "m2 = Marine(48,5)"
   ]
  },
  {
   "cell_type": "code",
   "execution_count": 66,
   "metadata": {},
   "outputs": [
    {
     "name": "stdout",
     "output_type": "stream",
     "text": [
      "사망\n"
     ]
    },
    {
     "data": {
      "text/plain": [
       "(50, 0)"
      ]
     },
     "execution_count": 66,
     "metadata": {},
     "output_type": "execute_result"
    }
   ],
   "source": [
    "m1.attack(m2)\n",
    "m1.health, m2.health"
   ]
  },
  {
   "cell_type": "code",
   "execution_count": null,
   "metadata": {},
   "outputs": [],
   "source": []
  },
  {
   "cell_type": "markdown",
   "metadata": {},
   "source": [
    "### 다중상속"
   ]
  },
  {
   "cell_type": "code",
   "execution_count": 71,
   "metadata": {},
   "outputs": [],
   "source": [
    "class Iphone:\n",
    "    def camera(self):\n",
    "        print('카메라')\n",
    "    def call(self):\n",
    "        print('아이폰 전화')\n",
    "class Galuxy:\n",
    "    def samsungPay(self):\n",
    "        print('삼성페이')\n",
    "    def call(self):\n",
    "        print('갤럭시 전화')\n",
    "class NewPhone(Galuxy,Iphone):\n",
    "    def internet(self):\n",
    "        print('인터넷')"
   ]
  },
  {
   "cell_type": "code",
   "execution_count": 72,
   "metadata": {},
   "outputs": [
    {
     "name": "stdout",
     "output_type": "stream",
     "text": [
      "카메라\n",
      "삼성페이\n",
      "인터넷\n",
      "갤럭시 전화\n"
     ]
    }
   ],
   "source": [
    "np = NewPhone()\n",
    "np.camera()\n",
    "np.samsungPay()\n",
    "np.internet()\n",
    "np.call()"
   ]
  },
  {
   "cell_type": "markdown",
   "metadata": {},
   "source": [
    "### getter, setter 메서드 활용\n",
    "* 변수에 접근할 때 getter, setter 메서드를 통해서만 접근 가능하도록 하는 방법"
   ]
  },
  {
   "cell_type": "code",
   "execution_count": 73,
   "metadata": {},
   "outputs": [],
   "source": [
    "class Member:\n",
    "    def __init__(self, fname):\n",
    "        self.fname = fname\n",
    "    def setFname(self, fname):\n",
    "        if len(fname) >= 3 :\n",
    "            self.fname = fname\n",
    "        else:\n",
    "            print('이름은 3자 이상 입력하세요')\n",
    "    def getFname(self):\n",
    "        return self.fname.lower()\n",
    "    # getter, setter 적용\n",
    "    name = property(getFname, setFname)"
   ]
  },
  {
   "cell_type": "code",
   "execution_count": 74,
   "metadata": {},
   "outputs": [
    {
     "data": {
      "text/plain": [
       "'son'"
      ]
     },
     "execution_count": 74,
     "metadata": {},
     "output_type": "execute_result"
    }
   ],
   "source": [
    "m = Member('son')\n",
    "m.fname # 변수에 직접 접근"
   ]
  },
  {
   "cell_type": "code",
   "execution_count": 75,
   "metadata": {},
   "outputs": [
    {
     "name": "stdout",
     "output_type": "stream",
     "text": [
      "이름은 3자 이상 입력하세요\n"
     ]
    }
   ],
   "source": [
    "m.name = 'jo' # setFname() 메서드가 호출"
   ]
  },
  {
   "cell_type": "code",
   "execution_count": 78,
   "metadata": {},
   "outputs": [],
   "source": [
    "m.name = 'KIM' # setFname() 메서드가 호출"
   ]
  },
  {
   "cell_type": "code",
   "execution_count": 79,
   "metadata": {},
   "outputs": [
    {
     "data": {
      "text/plain": [
       "'kim'"
      ]
     },
     "execution_count": 79,
     "metadata": {},
     "output_type": "execute_result"
    }
   ],
   "source": [
    "m.name # getFname() 메서드가 호출"
   ]
  },
  {
   "cell_type": "code",
   "execution_count": 80,
   "metadata": {},
   "outputs": [
    {
     "data": {
      "text/plain": [
       "'KIM'"
      ]
     },
     "execution_count": 80,
     "metadata": {},
     "output_type": "execute_result"
    }
   ],
   "source": [
    "m.fname # 아직 접근이 가능한 상태"
   ]
  },
  {
   "cell_type": "code",
   "execution_count": 81,
   "metadata": {},
   "outputs": [],
   "source": [
    "# mangling\n",
    "# 필드나 메서드에 직접 접근하지 못하도록 하는 방법\n",
    "# 사용법은 앞에 __(언더바 두개)를 붙임"
   ]
  },
  {
   "cell_type": "code",
   "execution_count": 82,
   "metadata": {},
   "outputs": [],
   "source": [
    "class Member:\n",
    "    def __init__(self, fname):\n",
    "        self.__fname = fname\n",
    "    def setFname(self, fname):\n",
    "        if len(fname) >= 3 :\n",
    "            self.__fname = fname\n",
    "        else:\n",
    "            print('이름은 3자 이상 입력하세요')\n",
    "    def getFname(self):\n",
    "        return self.__fname.lower()\n",
    "    # getter, setter 적용\n",
    "    name = property(getFname, setFname)"
   ]
  },
  {
   "cell_type": "code",
   "execution_count": 83,
   "metadata": {},
   "outputs": [],
   "source": [
    "m = Member('KIM')"
   ]
  },
  {
   "cell_type": "code",
   "execution_count": 84,
   "metadata": {},
   "outputs": [
    {
     "data": {
      "text/plain": [
       "'kim'"
      ]
     },
     "execution_count": 84,
     "metadata": {},
     "output_type": "execute_result"
    }
   ],
   "source": [
    "m.name"
   ]
  },
  {
   "cell_type": "code",
   "execution_count": 86,
   "metadata": {},
   "outputs": [
    {
     "ename": "AttributeError",
     "evalue": "'Member' object has no attribute '__fname'",
     "output_type": "error",
     "traceback": [
      "\u001b[1;31m---------------------------------------------------------------------------\u001b[0m",
      "\u001b[1;31mAttributeError\u001b[0m                            Traceback (most recent call last)",
      "\u001b[1;32m<ipython-input-86-ef68b3a30385>\u001b[0m in \u001b[0;36m<module>\u001b[1;34m\u001b[0m\n\u001b[1;32m----> 1\u001b[1;33m \u001b[0mm\u001b[0m\u001b[1;33m.\u001b[0m\u001b[0m__fname\u001b[0m\u001b[1;33m\u001b[0m\u001b[1;33m\u001b[0m\u001b[0m\n\u001b[0m",
      "\u001b[1;31mAttributeError\u001b[0m: 'Member' object has no attribute '__fname'"
     ]
    }
   ],
   "source": [
    "m.__fname # 객체변수 접근 불가"
   ]
  },
  {
   "cell_type": "code",
   "execution_count": 87,
   "metadata": {},
   "outputs": [
    {
     "data": {
      "text/plain": [
       "'KIM'"
      ]
     },
     "execution_count": 87,
     "metadata": {},
     "output_type": "execute_result"
    }
   ],
   "source": [
    "# 실제 내부적으로 이름을 바꿈\n",
    "m._Member__fname"
   ]
  },
  {
   "cell_type": "code",
   "execution_count": null,
   "metadata": {},
   "outputs": [],
   "source": [
    "### magic method\n",
    "'''\n",
    "* 비교  \n",
    "    == : __eq__  \n",
    "    != : __ne__  \n",
    "    < : __lt__  \n",
    "    ...\n",
    "* 산술  \n",
    "    \\+ : __add__  \n",
    "    \\- : __sub__  \n",
    "    ...\n",
    "* 출력  \n",
    "    __repr__  \n",
    "    __str__\n",
    "'''"
   ]
  },
  {
   "cell_type": "code",
   "execution_count": 88,
   "metadata": {},
   "outputs": [
    {
     "data": {
      "text/plain": [
       "['_Member__fname',\n",
       " '__class__',\n",
       " '__delattr__',\n",
       " '__dict__',\n",
       " '__dir__',\n",
       " '__doc__',\n",
       " '__eq__',\n",
       " '__format__',\n",
       " '__ge__',\n",
       " '__getattribute__',\n",
       " '__gt__',\n",
       " '__hash__',\n",
       " '__init__',\n",
       " '__init_subclass__',\n",
       " '__le__',\n",
       " '__lt__',\n",
       " '__module__',\n",
       " '__ne__',\n",
       " '__new__',\n",
       " '__reduce__',\n",
       " '__reduce_ex__',\n",
       " '__repr__',\n",
       " '__setattr__',\n",
       " '__sizeof__',\n",
       " '__str__',\n",
       " '__subclasshook__',\n",
       " '__weakref__',\n",
       " 'getFname',\n",
       " 'name',\n",
       " 'setFname']"
      ]
     },
     "execution_count": 88,
     "metadata": {},
     "output_type": "execute_result"
    }
   ],
   "source": [
    "dir(m)"
   ]
  },
  {
   "cell_type": "code",
   "execution_count": 89,
   "metadata": {},
   "outputs": [
    {
     "data": {
      "text/plain": [
       "True"
      ]
     },
     "execution_count": 89,
     "metadata": {},
     "output_type": "execute_result"
    }
   ],
   "source": [
    "'test' == 'test'"
   ]
  },
  {
   "cell_type": "code",
   "execution_count": 90,
   "metadata": {},
   "outputs": [
    {
     "data": {
      "text/plain": [
       "True"
      ]
     },
     "execution_count": 90,
     "metadata": {},
     "output_type": "execute_result"
    }
   ],
   "source": [
    "'test'.__eq__('test')"
   ]
  },
  {
   "cell_type": "code",
   "execution_count": 91,
   "metadata": {},
   "outputs": [
    {
     "data": {
      "text/plain": [
       "False"
      ]
     },
     "execution_count": 91,
     "metadata": {},
     "output_type": "execute_result"
    }
   ],
   "source": [
    "'test' == 'TEST'"
   ]
  },
  {
   "cell_type": "code",
   "execution_count": 99,
   "metadata": {},
   "outputs": [],
   "source": [
    "class Text:\n",
    "    def __init__(self, text):\n",
    "        self.text = text\n",
    "    # __eq__ 재정의\n",
    "    def __eq__(self, target_obj):\n",
    "        return self.text.lower() == target_obj.text.lower()\n",
    "    # repr, str\n",
    "    def __repr__(self):\n",
    "        return 'Text 클래스, text = {}'.format(self.text)\n",
    "    def __str__(self):\n",
    "        return self.text"
   ]
  },
  {
   "cell_type": "code",
   "execution_count": 100,
   "metadata": {},
   "outputs": [
    {
     "data": {
      "text/plain": [
       "True"
      ]
     },
     "execution_count": 100,
     "metadata": {},
     "output_type": "execute_result"
    }
   ],
   "source": [
    "t1 = Text('python')\n",
    "t2 = Text('Python')\n",
    "t1 == t2"
   ]
  },
  {
   "cell_type": "code",
   "execution_count": 98,
   "metadata": {},
   "outputs": [
    {
     "data": {
      "text/plain": [
       "<__main__.Text at 0x1e8d90853a0>"
      ]
     },
     "execution_count": 98,
     "metadata": {},
     "output_type": "execute_result"
    }
   ],
   "source": [
    "t1 # 원래 상태"
   ]
  },
  {
   "cell_type": "code",
   "execution_count": 101,
   "metadata": {},
   "outputs": [
    {
     "data": {
      "text/plain": [
       "Text 클래스, text = python"
      ]
     },
     "execution_count": 101,
     "metadata": {},
     "output_type": "execute_result"
    }
   ],
   "source": [
    "t1 # __repr__"
   ]
  },
  {
   "cell_type": "code",
   "execution_count": 102,
   "metadata": {},
   "outputs": [
    {
     "name": "stdout",
     "output_type": "stream",
     "text": [
      "python\n"
     ]
    }
   ],
   "source": [
    "print(t1) # __str__"
   ]
  },
  {
   "cell_type": "markdown",
   "metadata": {},
   "source": [
    "### Pickle\n",
    "* 객체를 파일로 저장\n",
    "* 직렬화 : 서로 다른 타입의 데이터를 맞춰주기위한 과정\n",
    "* 단순 파일형태로 저장하는것보다 속도가 더 빠름"
   ]
  },
  {
   "cell_type": "code",
   "execution_count": 105,
   "metadata": {},
   "outputs": [],
   "source": [
    "import pickle"
   ]
  },
  {
   "cell_type": "code",
   "execution_count": 106,
   "metadata": {},
   "outputs": [],
   "source": [
    "# 객체 저장 (바이너리로 저장)\n",
    "with open('member.pkl', 'wb') as f:\n",
    "    pickle.dump(m, f)"
   ]
  },
  {
   "cell_type": "code",
   "execution_count": 107,
   "metadata": {
    "collapsed": true
   },
   "outputs": [
    {
     "name": "stdout",
     "output_type": "stream",
     "text": [
      " D 드라이브의 볼륨: 새 볼륨\n",
      " 볼륨 일련 번호: 0476-8A39\n",
      "\n",
      " D:\\AI\\python\\기본 디렉터리\n",
      "\n",
      "2020-11-27  오후 03:53    <DIR>          .\n",
      "2020-11-27  오후 03:53    <DIR>          ..\n",
      "2020-11-27  오전 11:22    <DIR>          .ipynb_checkpoints\n",
      "2020-11-20  오후 12:06             5,451 00 jupyter 사용법.ipynb\n",
      "2020-11-20  오후 12:37             2,959 00 Markdown.ipynb\n",
      "2020-11-23  오전 09:43             9,033 01. 변수와 자료형.ipynb\n",
      "2020-11-23  오전 09:47             5,823 02. 연산.ipynb\n",
      "2020-11-24  오전 09:53            26,903 03. 문자열.ipynb\n",
      "2020-11-24  오전 11:22            31,603 04. 컬렉션 타입.ipynb\n",
      "2020-11-25  오전 09:14             9,932 05. 제어문(조건문).ipynb\n",
      "2020-11-26  오전 09:28            22,685 06. 반복문.ipynb\n",
      "2020-11-26  오후 02:28            46,584 07. 함수와 입출력.ipynb\n",
      "2020-11-26  오후 02:51             5,663 08. 예외처리.ipynb\n",
      "2020-11-27  오전 10:20             8,276 09. 연습문제.ipynb\n",
      "2020-11-27  오전 11:21             3,766 10. 모듈과 패키지.ipynb\n",
      "2020-11-27  오후 03:52            28,329 11. 클래스.ipynb\n",
      "2020-11-27  오후 03:53                64 member.pkl\n",
      "2020-11-27  오전 10:27               954 moduleTest.ipynb\n",
      "2020-11-27  오전 10:44               153 moduleTest.py\n",
      "2020-11-27  오후 01:59    <DIR>          packageTest\n",
      "2020-11-26  오전 11:44                68 test.txt\n",
      "2020-11-26  오후 12:18               209 test2.txt\n",
      "2020-11-27  오전 10:40    <DIR>          __pycache__\n",
      "              18개 파일             208,455 바이트\n",
      "               5개 디렉터리  510,643,326,976 바이트 남음\n"
     ]
    }
   ],
   "source": [
    "!dir"
   ]
  },
  {
   "cell_type": "code",
   "execution_count": 108,
   "metadata": {},
   "outputs": [],
   "source": [
    "# 객체 로드 (바이너리로 읽기)\n",
    "with open('member.pkl', 'rb') as f:\n",
    "    mmm = pickle.load(f)"
   ]
  },
  {
   "cell_type": "code",
   "execution_count": 109,
   "metadata": {},
   "outputs": [
    {
     "data": {
      "text/plain": [
       "'kim'"
      ]
     },
     "execution_count": 109,
     "metadata": {},
     "output_type": "execute_result"
    }
   ],
   "source": [
    "mmm.name"
   ]
  },
  {
   "cell_type": "code",
   "execution_count": null,
   "metadata": {},
   "outputs": [],
   "source": []
  }
 ],
 "metadata": {
  "kernelspec": {
   "display_name": "Python 3",
   "language": "python",
   "name": "python3"
  },
  "language_info": {
   "codemirror_mode": {
    "name": "ipython",
    "version": 3
   },
   "file_extension": ".py",
   "mimetype": "text/x-python",
   "name": "python",
   "nbconvert_exporter": "python",
   "pygments_lexer": "ipython3",
   "version": "3.8.5"
  }
 },
 "nbformat": 4,
 "nbformat_minor": 4
}
