{
 "cells": [
  {
   "cell_type": "markdown",
   "metadata": {},
   "source": [
    "### 로그인 후 데이터 수집해야하는 경우\n",
    "* 로그인이 되어 있는 상태 : 세션이 존재"
   ]
  },
  {
   "cell_type": "code",
   "execution_count": 1,
   "metadata": {},
   "outputs": [],
   "source": [
    "import requests\n",
    "import urllib.request as req\n",
    "from bs4 import BeautifulSoup"
   ]
  },
  {
   "cell_type": "code",
   "execution_count": 2,
   "metadata": {},
   "outputs": [
    {
     "name": "stdout",
     "output_type": "stream",
     "text": [
      "젖병 세척 용품 세트 1개\n",
      "ㅅㅅㅅㅅㅅㅅㅅㅅㅅ 1개\n",
      "순한대나무 올인원 수유베개 - 민트 5개\n",
      "1개\n",
      "포대기&미니방수요 세트 2개\n",
      "똑똑놀이세트 1개\n",
      "실리콘 젖병 세척 풀세트 1개\n",
      "동물베개 - 엠마 부엉이 1개\n",
      "목베개 & 블랭킷 세트 - 스카이버드 1개\n",
      "속싸개 3장 세트 1개\n"
     ]
    }
   ],
   "source": [
    "'''\n",
    "세션 객체 생성\n",
    "세션객체를 통해 로그인페이지(로그인처리)를 호출해서 로그인 성공\n",
    "세션객체를 통해 수집하고 싶은 페이지 처리\n",
    "\n",
    "확인해야하는 항목\n",
    "* 로그인폼 form태그 위치\n",
    "* 전송되는 페이지 : action\n",
    "* 전송방식 : method\n",
    "* 전송값 : form태그 안에 name 속성\n",
    "'''\n",
    "# 세션 객체 생성\n",
    "sess = requests.session()\n",
    "# 파라미터\n",
    "param = {'id':'test','password':'test1234'}\n",
    "url = 'http://iseoulu.sanggong.net/include/login.php'\n",
    "# post방식으로 파라미터와 함께 url 접속\n",
    "res = sess.post(url, data=param)\n",
    "# 수집할 데이터가 있는 페이지\n",
    "mypage_url = 'http://iseoulu.sanggong.net/mypage/order/'\n",
    "res = sess.get(mypage_url) # 접속\n",
    "\n",
    "soup = BeautifulSoup(res.text, 'html.parser')\n",
    "names = soup.select('#sub > div.inner > div > div.product_list > table > tbody > tr > td.pro_info.line > a > div')\n",
    "for name in names:\n",
    "    print(name.get_text().strip())"
   ]
  },
  {
   "cell_type": "markdown",
   "metadata": {},
   "source": [
    "### 웹브라우저를 이용한 스크래핑\n",
    "* Selenium 사용\n",
    "    * 원래 용도는 웹UI 테스트 도구\n",
    "* Selenium을 사용하는 이유\n",
    "    * urllib, requests 하나의 요청에대한 응답결과만 받을 수 있음\n",
    "    * 응답 후 비동기로 처리되는 경우(최근에는 ajax를 많이 사용)\n",
    "* Selenium 라이브러리 설치\n",
    "* 크롬 드라이버 설치\n",
    "    * 현재 크롬 버젼과 일치하는 드라이버 다운받아 설치\n",
    "    * 크롬 버젼 확인 도움말 > Chrome정보"
   ]
  },
  {
   "cell_type": "code",
   "execution_count": 11,
   "metadata": {},
   "outputs": [
    {
     "name": "stdout",
     "output_type": "stream",
     "text": [
      "Collecting selenium\n",
      "  Downloading selenium-3.141.0-py2.py3-none-any.whl (904 kB)\n",
      "Requirement already satisfied: urllib3 in c:\\users\\sundooedu\\anaconda3\\lib\\site-packages (from selenium) (1.25.11)\n",
      "Installing collected packages: selenium\n",
      "Successfully installed selenium-3.141.0\n"
     ]
    }
   ],
   "source": [
    "# selenium 설치\n",
    "!pip install selenium"
   ]
  },
  {
   "cell_type": "code",
   "execution_count": 3,
   "metadata": {},
   "outputs": [],
   "source": [
    "# selenium import\n",
    "from selenium import webdriver\n",
    "# 크롬드라이버 로드(새창)\n",
    "browser = webdriver.Chrome('./chromedriver')"
   ]
  },
  {
   "cell_type": "code",
   "execution_count": 8,
   "metadata": {},
   "outputs": [
    {
     "data": {
      "text/plain": [
       "True"
      ]
     },
     "execution_count": 8,
     "metadata": {},
     "output_type": "execute_result"
    }
   ],
   "source": [
    "# 주소 이동\n",
    "browser.get('http://www.daum.net')\n",
    "# 스크린샷\n",
    "browser.save_screenshot('daum.png')"
   ]
  },
  {
   "cell_type": "markdown",
   "metadata": {},
   "source": [
    "### Selenium 메서드\n",
    "#### 요소 추출 메서드\n",
    "* find_element_by_id(아이디)\n",
    "* find_element_by_name(name)\n",
    "* find_element_by_css_selector(선택자)\n",
    "* find_element_by_xpath(xpath)\n",
    "#### 조작 메서드\n",
    "* click() : 클릭\n",
    "* send_keys(값) : 값 입력\n",
    "* get(url) : 주소 이동\n",
    "* quit() : 종료\n",
    "* implicitly_wait(초) : 최대 대기시간(초)"
   ]
  },
  {
   "cell_type": "code",
   "execution_count": 19,
   "metadata": {},
   "outputs": [],
   "source": [
    "# 페이스북 자동로그인\n",
    "browser = webdriver.Chrome('./chromedriver')\n",
    "browser.get('https://www.facebook.com/')\n",
    "\n",
    "# 이메일, 비밀번호 요소에 값을 입력\n",
    "browser.find_element_by_name('email').send_keys('withsky999@gmail.com')\n",
    "browser.find_element_by_name('pass').send_keys('tjalsrn9(')\n",
    "\n",
    "# 로그인버튼 클릭\n",
    "#browser.find_element_by_xpath('//*[@id=\"u_0_b\"]').click()\n",
    "browser.find_element_by_css_selector('._6ltg > button').click()"
   ]
  },
  {
   "cell_type": "code",
   "execution_count": 32,
   "metadata": {
    "collapsed": true
   },
   "outputs": [
    {
     "name": "stdout",
     "output_type": "stream",
     "text": [
      "새로운 기기에서 로그인 되었습니다.\n",
      "새로운 기기에서 로그인 되었습니다.\n",
      "새로운 기기에서 로그인 되었습니다.\n",
      "새로운 기기에서 로그인 되었습니다.\n",
      "새로운 기기에서 로그인 되었습니다.\n",
      "새로운 환경에서 로그인 되었습니다.\n",
      "새로운 기기에서 로그인 되었습니다.\n",
      "내 인생의 봄날은 오늘\n",
      "문성근 shared \"[스트레이트] MB가 열어준 재벌들의 돈잔치\"\n",
      "문성근 shared \"강진구 “〈포스코건설 X파일〉 '봉인'한 윤석열과 한동훈, 질문에 답하라!” - 굿모닝충청\"\n",
      "이외수 Tweeted: 방금 동영상을 게시했습니다\n",
      "서민구, don’t be shy\n",
      "노컷뉴스 shared \"서울은 취소, 부산은 진행? JLPT 시험 강행 논란\"\n",
      "딴지일보 Tweeted: [딴지만평]수능 한국사 20번 출제 현장  #딴지 #수능 #한국사 #딴지만평 #조선일보\n",
      "나비의 인내심\n",
      "노컷뉴스 shared \"검찰 조사 받던 이낙연 대표실 부실장 숨진 채 발견\"\n",
      "나의 자리\n",
      "전우용 Tweeted: 검찰이 ’살아 있는 권력을 수사하는 중립적이고 정의로운 기관‘이라고 생각하는 사람이 더러 있습니다....\n",
      "People in Jongno-gu shared \"한남과 연애해도 괜찮을까? | 코스모폴리탄 코리아 (COSMOPOLITA...\n",
      "알림 없이 로그인하는 기기로 등록 되었습니다.\n",
      "새로운 기기에서 로그인 되었습니다.\n",
      "[경기도 지식] 경기도 지식과 함께 2020년을 알차고 행복하게 마무리하세요♥\n",
      "강아지를 팝니다\n",
      "(광고) ★923회차 1등 당첨★ 이번주940회차 1등 당첨을 간절히 바랍니다. 1등예상번호 무료이벤트!!\n",
      "전우용 Tweeted: ‘엿장수 맘대로’라는 옛말이 있습니다. 이 말이 생긴 연유에 대해서는 두 가지 설이 있습니다....\n",
      "노컷뉴스 shared \"독일 베를린 평화의 소녀상, '영구 보존' 전망\"\n",
      "요즘 젊은이는 안 돼!\n",
      "(광고) GeForce RTX 3060 Ti 발표\n",
      "조국 Tweeted: [아침 햇발] 살아있는 권력 수사와 '영생 권력' 검찰 / 손원제\n",
      "노컷뉴스 Tweeted: 결국 김민종이 '가세연'에 출연한 이유는 연예계 활동에 얽힌 공식 홍보 활동이라기보다는 개인적 친...\n",
      "(광고) 무료교육안내, 어떻게 그게 가능하지? 무료교육에서 직접 확인해보세요\n",
      "노컷뉴스 shared \"[속보]法, 전두환 1심 선고 공판서 헬기 사격 '인정'\"\n",
      "가만히 있어보기\n",
      "밥알을 생각하십시오\n",
      "노컷뉴스 shared \"코로나 신규 확진 438명↑ 내일부터 사우나·에어로빅 중단\"\n",
      "세상을 펼친 점자\n",
      "문성근 Tweeted: 청원 서명합니다.  검찰총장 윤석열 해임과 함께 철저한 수사를 통해 엄중처벌 받아야 합니다.  - ...\n",
      "문성근 shared \"검찰총장 윤석열 해임과 함께 철저한 수사를 통해 엄중처벌 받아야 합니다. > 대한민국 청와대\"\n",
      "문성근 Tweeted: 진혜원 검사, '판사 사찰 의혹' 윤석열 저격..\"직무정지 시급\"  * 서울동부지검 진혜원 부부장 ...\n",
      "노컷뉴스 shared \"축구장 48개 면적 산림 태운 벌목꾼…원인은 '담배꽁초'\"\n",
      "지혜로운 여인\n",
      "문성근 Tweeted: “검찰이 ‘양승태 사법농단 사건’ 때 압수한 법관 사찰자료를 보유하고 있어, 판사들이 판결에 압박 ...\n",
      "이외수 Tweeted: 방금 사진을 게시했습니다\n",
      "(광고) 지난주 1등 22억/10명!! 이번주 939회차 1등 예상번호 무료이벤트!! 혹시 모르잖아요~대박날지!!\n",
      "오마이뉴스 shared \"사참위 \"세월호 급변침, 솔레노이드 밸브 고착 가능성 낮아\"\"\n",
      "인류의 미래를 위한 도전\n",
      "노컷뉴스 shared \"'영원한 10번' 마라도나 별세…축구계 애도 이어져\"\n",
      "[경기도 지식] 연말모임 대신 경기도 지식(GSEEK)과의 만남을! 11월 마지막 이벤트+추천강의 리스트 ◡‿◡✿\n",
      "유머의 힘\n",
      "문성근 Tweeted: 사상 초유의 ‘판사 불법 사찰’… 사법부 위에 군림하는 검찰총장? - 아이엠피터뉴스\n",
      "문성근 and 1 other shared \"사상 초유의 '판사 불법 사찰'... 사법부 위에 군림하는 검찰총장? | 아이엠...\n",
      "(광고) 긴급 생활대출이 필요할때~ 서민을 위한 '맞춤형안심대출'로 어려운 고민해결OK!!\n",
      "한겨레 Tweeted: [그림판 더 보기]\n",
      "'쉼'이 필요합니다\n",
      "(광고) Cyberpunk 2077 – GeForce RTX와 함께 Night City를 위한 GAME READY하세요!\n",
      "전우용 Tweeted: ‘남을 재는 잣대’와 ‘자기를 재는 잣대’가 똑같기는 어렵습니다. 남을 잴 때 후하고 자기를 잴 때...\n",
      "소년의 공상\n",
      "조국 shared \"가덕도 신공항 2라운드... \"고추·멸치, 네가 왜 거기서 나와\"\"\n",
      "마음의 불\n",
      "[네이버블로그] 개인 도메인 및 blog.me 도메인 사용 중단 안내\n",
      "문성근 Tweeted: \"尹석열, 법무부 감찰조사에 제대로 응하라\"…규탄나선 시민단체들  * “법무부 감찰 당연한 조치…오...\n",
      "노컷뉴스 shared \"정상외교 마무리한 文대통령…이제 '개각·입법의 시간'\"\n",
      "1을 잃었지만 3을 얻었어요\n",
      "알림 없이 로그인하는 기기로 등록 되었습니다.\n",
      "새로운 환경에서 로그인 되었습니다.\n",
      "새로운 기기에서 로그인 되었습니다.\n",
      "조국 shared \"[사설] '라임 사기'로 더 절실해진 공수처, 꼭 출범시켜야\"\n",
      "노컷뉴스 Tweeted: 전직 야구선수의 폭행으로 남편이 IQ 55의 장애인이 됐다는 내용의 국민청원이 국민적 공분을 사고...\n",
      "노컷뉴스 Tweeted: \"어떻게 유명 식당 화장실에 이런 저속한 표지판을 걸어둘 수 있는 거죠?\"\n",
      "감사, 유머, 깡\n",
      "노컷뉴스 shared \"BTS 진 \"입대, 나라 부름 있으면 언제든 응할 것\"\"\n",
      "서민구, penny for your thoughts\n",
      "(광고) 무료교육안내, 열심히 하는 것도 중요하겠지만 방향을 잡는 게 더 중요합니다\n",
      "(광고) 지난주 1등 '20억/11명' 대박!! 이번주 1등예상번호 무료로 한번 받아보세요. 혹시 1등될지 모르잖아요!\n",
      "조국 Tweeted: 조국 \"윤석열의 '국민검찰', 육참총장이 국방부 장관에게 맞서는 꼴\"\n",
      "노컷뉴스 shared \"경주 고분 '황제주차' 운전자 고발…\"고분인 줄 몰랐다?\"\"\n",
      "외상 장부\n",
      "노컷뉴스 shared \"유은혜 \"코로나 악화돼도 수능 연기는 없다\"\"\n",
      "[경기도 지식] 보면 볼수록 더 좋은 경기도지식(GSEEK)과 함께 몸과 마음을 따뜻하게 ƪ( ˘ ⌣˘ )ʃ \n",
      "세상은 여전히 따뜻합니다\n"
     ]
    }
   ],
   "source": [
    "# 네이버 로그인 후 메일 제목 출력하기\n",
    "br = webdriver.Chrome('chromedriver')\n",
    "br.get('https://nid.naver.com/nidlogin.login')\n",
    "\n",
    "#br.find_element_by_id('id').send_keys('withsky999')\n",
    "#br.find_element_by_id('pw').send_keys('als9tjdgml99(')\n",
    "\n",
    "# 자바스크립트로 값을 입력 (캡챠 안나오게하기 위해)\n",
    "br.execute_script(\"document.getElementById('id').value='withsky999'\")\n",
    "br.execute_script(\"document.getElementById('pw').value='als9tjdgml99('\")\n",
    "\n",
    "br.find_element_by_id('log.login').click() # 로그인버튼 클릭\n",
    "# 2초 텀\n",
    "import time\n",
    "time.sleep(2)\n",
    "br.find_element_by_id('new.dontsave').click() # 기기등록안함 클릭\n",
    "\n",
    "# 메일 페이지로 이동\n",
    "br.get('https://mail.naver.com/')\n",
    "\n",
    "# Selenium + BeautifulSoup\n",
    "html = br.page_source\n",
    "from bs4 import BeautifulSoup\n",
    "soup = BeautifulSoup(html, 'html.parser')\n",
    "titles = soup.select('.mail_title')\n",
    "for title in titles:\n",
    "    print(title.getText().replace('메일 제목:',''))"
   ]
  },
  {
   "cell_type": "markdown",
   "metadata": {},
   "source": [
    "### Selenium을 활용하여 특정 element의 로딩 대기\n",
    "* WebDriverWait 객체를 이용하여 element가 로딩될때까지 대기\n",
    "* 이 기능을 활용하면 거의 모든 사이트의 크롤링 가능"
   ]
  },
  {
   "cell_type": "code",
   "execution_count": 34,
   "metadata": {},
   "outputs": [],
   "source": [
    "from selenium.webdriver.support.ui import WebDriverWait\n",
    "from selenium.webdriver.support import expected_conditions as EC\n",
    "from selenium.webdriver.common.by import By"
   ]
  },
  {
   "cell_type": "code",
   "execution_count": 39,
   "metadata": {},
   "outputs": [
    {
     "data": {
      "text/plain": [
       "'268'"
      ]
     },
     "execution_count": 39,
     "metadata": {},
     "output_type": "execute_result"
    }
   ],
   "source": [
    "# 네이버 뉴스의 댓글갯수를 추출, 출력\n",
    "url = 'https://news.naver.com/main/read.nhn?mode=LSD&mid=shm&sid1=100&oid=001&aid=0012064119'\n",
    "br = webdriver.Chrome('chromedriver.exe') # 드라이버 로드\n",
    "br.get(url) # 페이지 이동\n",
    "# 해당 element가 로딩 될때까지 대기\n",
    "elem = WebDriverWait(br, 10).until(EC.presence_of_element_located\\\n",
    "                                   ((By.CSS_SELECTOR,'.u_cbox_count')))\n",
    "html = br.page_source # 응답결과(소스) 얻기\n",
    "soup = BeautifulSoup(html, 'html.parser') # soup 객체 생성\n",
    "comment = soup.select_one('.u_cbox_count')\n",
    "br.close() # 드라이버 닫기\n",
    "#comment\n",
    "comment.getText()"
   ]
  },
  {
   "cell_type": "code",
   "execution_count": 41,
   "metadata": {},
   "outputs": [
    {
     "name": "stderr",
     "output_type": "stream",
     "text": [
      "<ipython-input-41-f6e816167705>:6: DeprecationWarning: use options instead of chrome_options\n",
      "  br = webdriver.Chrome('chromedriver.exe', chrome_options=op) # 드라이버 로드\n"
     ]
    },
    {
     "data": {
      "text/plain": [
       "'271'"
      ]
     },
     "execution_count": 41,
     "metadata": {},
     "output_type": "execute_result"
    }
   ],
   "source": [
    "# 창이 뜨지 않도록하는 방법(창 숨기기)\n",
    "# 1. 크롬드라이버 옵션 지정\n",
    "url = 'https://news.naver.com/main/read.nhn?mode=LSD&mid=shm&sid1=100&oid=001&aid=0012064119'\n",
    "op = webdriver.ChromeOptions()\n",
    "op.add_argument('headless')\n",
    "br = webdriver.Chrome('chromedriver.exe', chrome_options=op) # 드라이버 로드\n",
    "br.get(url) # 페이지 이동\n",
    "# 해당 element가 로딩 될때까지 대기\n",
    "elem = WebDriverWait(br, 10).until(EC.presence_of_element_located\\\n",
    "                                   ((By.CSS_SELECTOR,'.u_cbox_count')))\n",
    "html = br.page_source # 응답결과(소스) 얻기\n",
    "soup = BeautifulSoup(html, 'html.parser') # soup 객체 생성\n",
    "comment = soup.select_one('.u_cbox_count')\n",
    "br.close() # 드라이버 닫기\n",
    "#comment\n",
    "comment.getText()"
   ]
  },
  {
   "cell_type": "code",
   "execution_count": 42,
   "metadata": {},
   "outputs": [
    {
     "name": "stderr",
     "output_type": "stream",
     "text": [
      "C:\\Users\\sundooedu\\anaconda3\\lib\\site-packages\\selenium\\webdriver\\phantomjs\\webdriver.py:49: UserWarning: Selenium support for PhantomJS has been deprecated, please use headless versions of Chrome or Firefox instead\n",
      "  warnings.warn('Selenium support for PhantomJS has been deprecated, please use headless '\n"
     ]
    },
    {
     "data": {
      "text/plain": [
       "'277'"
      ]
     },
     "execution_count": 42,
     "metadata": {},
     "output_type": "execute_result"
    }
   ],
   "source": [
    "# 2. phantomjs 드라이버 사용\n",
    "# https://phantomjs.org/download.html\n",
    "# bin폴더안에 exe파일을 현재파일과 같은 폴더로 이동\n",
    "url = 'https://news.naver.com/main/read.nhn?mode=LSD&mid=shm&sid1=100&oid=001&aid=0012064119'\n",
    "br = webdriver.PhantomJS('phantomjs.exe') # 드라이버 로드\n",
    "br.get(url) # 페이지 이동\n",
    "# 해당 element가 로딩 될때까지 대기\n",
    "elem = WebDriverWait(br, 10).until(EC.presence_of_element_located\\\n",
    "                                   ((By.CSS_SELECTOR,'.u_cbox_count')))\n",
    "html = br.page_source # 응답결과(소스) 얻기\n",
    "soup = BeautifulSoup(html, 'html.parser') # soup 객체 생성\n",
    "comment = soup.select_one('.u_cbox_count')\n",
    "br.close() # 드라이버 닫기\n",
    "#comment\n",
    "comment.getText()"
   ]
  },
  {
   "cell_type": "code",
   "execution_count": 2,
   "metadata": {},
   "outputs": [
    {
     "name": "stdout",
     "output_type": "stream",
     "text": [
      "{\n",
      "\"lastBuildDate\": \"Mon, 08 Mar 2021 21:17:02 +0900\",\n",
      "\"total\": 3469990,\n",
      "\"start\": 1,\n",
      "\"display\": 10,\n",
      "\"items\": [\n",
      "{\n",
      "\"title\": \"기가바이트 <b>노트북</b> as 후기 - 안타깝게도 결국 수리 불가 판정\",\n",
      "\"link\": \"https:\\/\\/blog.naver.com\\/jihoon5252?Redirect=Log&logNo=222252708417\",\n",
      "\"description\": \"지금까지 여러 브랜드 <b>노트북</b>을 사용해 왔지만 고장 난 적은 없어서 딱히 걱정하지 않았는데요. 결국 저도 이 일이 일어나 버리네요. 근데 인터넷에 기가바이트 <b>노트북</b> as 후기를 열심히 찾아봤는데요. 관련... \",\n",
      "\"bloggername\": \"귤랭이의 플레이스토리\",\n",
      "\"bloggerlink\": \"https://blog.naver.com/jihoon5252\",\n",
      "\"postdate\": \"20210222\"\n",
      "\n",
      "},\n",
      "{\n",
      "\"title\": \"LG 그램 2021 14Z90P-GA76K <b>노트북</b> 사용 후기\",\n",
      "\"link\": \"https:\\/\\/blog.naver.com\\/naangie?Redirect=Log&logNo=222263109940\",\n",
      "\"description\": \"해마다 믿을 만한 업그레이드로 IT 업체를 긴장하게 하고 <b>노트북</b> 마니아들을 설레게 하는... 14인치 <b>노트북</b>의 사용 후기를 전해드리려 합니다. 저는 직업 상 오래 전부터 각종 브랜드의 <b>노트북</b>을 사용해... \",\n",
      "\"bloggername\": \"도시Life & 시골Life\",\n",
      "\"bloggerlink\": \"https://blog.naver.com/naangie\",\n",
      "\"postdate\": \"20210303\"\n",
      "\n",
      "},\n",
      "{\n",
      "\"title\": \"<b>노트북</b> 파우치 휴대와 거치를 동시에 아이돈케어\",\n",
      "\"link\": \"https:\\/\\/blog.naver.com\\/innpirit?Redirect=Log&logNo=222261193717\",\n",
      "\"description\": \"Intro <b>노트북</b> 파우치에 관한 간단 고찰 송충이는 솔잎을 먹어야 한다고 했다 30년 데스크톱 인생을 살다가 전반적인 사양 업그레이드 + 들고 다닐 목적 이 두 가지 이유로 약 2년 전 난생처음 <b>노트북</b> 유저가... \",\n",
      "\"bloggername\": \"즐겁게 살아봅시다\",\n",
      "\"bloggerlink\": \"https://blog.naver.com/innpirit\",\n",
      "\"postdate\": \"20210301\"\n",
      "\n",
      "},\n",
      "{\n",
      "\"title\": \"<b>노트북</b>, 갤럭시 북 Ion2로 바꾸다\",\n",
      "\"link\": \"https:\\/\\/blog.naver.com\\/doyle2580?Redirect=Log&logNo=222260272606\",\n",
      "\"description\": \"<b>노트북</b> 구매하기 기왕 이렇게 된거 평소 로망이었던 <b>노트북</b>을 사자!!! <b>노트북</b>이 주는 편리성, 1. 이동의 편리성, 원하는 장소에서 사 용 가능 2.지저분한 전기선 불필요, 충전 아답터만 있음됨 3. A/S시 기사님... \",\n",
      "\"bloggername\": \"Monotype\",\n",
      "\"bloggerlink\": \"https://blog.naver.com/doyle2580\",\n",
      "\"postdate\": \"20210301\"\n",
      "\n",
      "},\n",
      "{\n",
      "\"title\": \"게이밍<b>노트북</b> 추천 삼성전자 <b>노트북</b> 플러스2 NT560XDZ-G78A\",\n",
      "\"link\": \"https:\\/\\/blog.naver.com\\/ha_tak?Redirect=Log&logNo=222248392585\",\n",
      "\"description\": \"2021년 들어서 신제품으로 출시되는 <b>노트북</b> 중 11세대 인텔 CPU를 탑재한 제품들이 많이 나오고 있다.... 그런데 마침 삼성전자 <b>노트북</b> 플러스2 NT560XDZ-G78A 모델이 게이밍<b>노트북</b> 추천 상위에 있어서 살펴봤다.... \",\n",
      "\"bloggername\": \"리뷰빌런 하텍\",\n",
      "\"bloggerlink\": \"https://blog.naver.com/ha_tak\",\n",
      "\"postdate\": \"20210218\"\n",
      "\n",
      "},\n",
      "{\n",
      "\"title\": \"윈도우 초기화 방법으로 <b>노트북</b> &amp; 컴퓨터 포맷하는법 쉽다 쉬워!\",\n",
      "\"link\": \"https:\\/\\/blog.naver.com\\/skdaksdptn?Redirect=Log&logNo=222244622287\",\n",
      "\"description\": \"세 가지 경우 모두 <b>노트북</b> 포맷과 컴퓨터 포맷하는 법을 알고 있어야 한다. 겁내지 않아도 된다.... 만약 Key 자체를 잊어버렸다면 윈도우 초기화로는 <b>노트북</b> 포맷이 불가능하다. 그럴 경우에는 다른 방법을... \",\n",
      "\"bloggername\": \"짜루의 이것저것 리뷰\",\n",
      "\"bloggerlink\": \"https://blog.naver.com/skdaksdptn\",\n",
      "\"postdate\": \"20210215\"\n",
      "\n",
      "},\n",
      "{\n",
      "\"title\": \"리퍼 <b>노트북</b> 기대 이상의 만족도 리퍼연구소\",\n",
      "\"link\": \"https:\\/\\/blog.naver.com\\/hellomyjeon?Redirect=Log&logNo=222264085895\",\n",
      "\"description\": \"오늘은 제 인생에서 절대 뺄수 없는 없으면 안되는 소중한 친구 제 <b>노트북</b> 이야기를 하려고 합니다/ 지난 6년간 애지중지 사용하던 삼성 <b>노트북</b>이 긴 생명을 다해 <b>노트북</b>을 알아보고 있었는데 때마침... \",\n",
      "\"bloggername\": \"언니 하고 싶은 거 다 해\",\n",
      "\"bloggerlink\": \"https://blog.naver.com/hellomyjeon\",\n",
      "\"postdate\": \"20210304\"\n",
      "\n",
      "},\n",
      "{\n",
      "\"title\": \"더 저렴하게 LG 그램 17인치 <b>노트북</b> 17ZD90P-GX30K\",\n",
      "\"link\": \"https:\\/\\/blog.naver.com\\/hupers?Redirect=Log&logNo=222258179587\",\n",
      "\"description\": \"2021 LG 그램 <b>노트북</b>은 사용하면 할수록 마음에 들었는데요. 여러 사이트를 이동하며 프로그래밍과 문서작업을 주로 하는 저에게 17인치 <b>노트북</b>의 어떤 부분에서 그렇게 느꼈는지, 그리고 저렴한... \",\n",
      "\"bloggername\": \"사랑나무아빠의 행복한 세상\",\n",
      "\"bloggerlink\": \"https://blog.naver.com/hupers\",\n",
      "\"postdate\": \"20210227\"\n",
      "\n",
      "},\n",
      "{\n",
      "\"title\": \"삼성 오디세이 <b>노트북</b> 1달 사용기 - 이륙할 기세?\",\n",
      "\"link\": \"https:\\/\\/blog.naver.com\\/hoja216?Redirect=Log&logNo=222254449146\",\n",
      "\"description\": \"1달 전에 <b>노트북</b>을 교체했습니다. 이유는 그래픽 작업 및 큰 프로젝트를 할 때 사정없이 버벅대던 펜2... 그러고보니 삼성의 수장분 이름에 '용'이 들어가서 최고 사양 <b>노트북</b> 콘셉트를 용으로 잡은 건가? ...는... \",\n",
      "\"bloggername\": \"::해왕성에서 지구로 마실나온 판야의 은신처::\",\n",
      "\"bloggerlink\": \"https://blog.naver.com/hoja216\",\n",
      "\"postdate\": \"20210224\"\n",
      "\n",
      "},\n",
      "{\n",
      "\"title\": \"삼성전자 <b>노트북</b> 갤럭시북 플렉스2\",\n",
      "\"link\": \"https:\\/\\/blog.naver.com\\/hayanmisomam?Redirect=Log&logNo=222258589283\",\n",
      "\"description\": \"삼성<b>노트북</b> Galaxy Book Flex2에 대해서 글을 써볼까해요. 작년부터 초,중학생들 진로수업과 커피수업을 나가게 되면서 <b>노트북</b> 쓸 일이 자주 있었어요. 우리집에는 컴퓨터 2대에 <b>노트북</b>도 2대가 있기 때문에... \",\n",
      "\"bloggername\": \"꿈의궁전~~\",\n",
      "\"bloggerlink\": \"https://blog.naver.com/hayanmisomam\",\n",
      "\"postdate\": \"20210227\"\n",
      "\n",
      "}\n",
      "]\n",
      "}\n",
      "\n",
      "{'lastBuildDate': 'Mon, 08 Mar 2021 21:17:02 +0900', 'total': 3469990, 'start': 1, 'display': 10, 'items': [{'title': '기가바이트 <b>노트북</b> as 후기 - 안타깝게도 결국 수리 불가 판정', 'link': 'https://blog.naver.com/jihoon5252?Redirect=Log&logNo=222252708417', 'description': '지금까지 여러 브랜드 <b>노트북</b>을 사용해 왔지만 고장 난 적은 없어서 딱히 걱정하지 않았는데요. 결국 저도 이 일이 일어나 버리네요. 근데 인터넷에 기가바이트 <b>노트북</b> as 후기를 열심히 찾아봤는데요. 관련... ', 'bloggername': '귤랭이의 플레이스토리', 'bloggerlink': 'https://blog.naver.com/jihoon5252', 'postdate': '20210222'}, {'title': 'LG 그램 2021 14Z90P-GA76K <b>노트북</b> 사용 후기', 'link': 'https://blog.naver.com/naangie?Redirect=Log&logNo=222263109940', 'description': '해마다 믿을 만한 업그레이드로 IT 업체를 긴장하게 하고 <b>노트북</b> 마니아들을 설레게 하는... 14인치 <b>노트북</b>의 사용 후기를 전해드리려 합니다. 저는 직업 상 오래 전부터 각종 브랜드의 <b>노트북</b>을 사용해... ', 'bloggername': '도시Life & 시골Life', 'bloggerlink': 'https://blog.naver.com/naangie', 'postdate': '20210303'}, {'title': '<b>노트북</b> 파우치 휴대와 거치를 동시에 아이돈케어', 'link': 'https://blog.naver.com/innpirit?Redirect=Log&logNo=222261193717', 'description': 'Intro <b>노트북</b> 파우치에 관한 간단 고찰 송충이는 솔잎을 먹어야 한다고 했다 30년 데스크톱 인생을 살다가 전반적인 사양 업그레이드 + 들고 다닐 목적 이 두 가지 이유로 약 2년 전 난생처음 <b>노트북</b> 유저가... ', 'bloggername': '즐겁게 살아봅시다', 'bloggerlink': 'https://blog.naver.com/innpirit', 'postdate': '20210301'}, {'title': '<b>노트북</b>, 갤럭시 북 Ion2로 바꾸다', 'link': 'https://blog.naver.com/doyle2580?Redirect=Log&logNo=222260272606', 'description': '<b>노트북</b> 구매하기 기왕 이렇게 된거 평소 로망이었던 <b>노트북</b>을 사자!!! <b>노트북</b>이 주는 편리성, 1. 이동의 편리성, 원하는 장소에서 사 용 가능 2.지저분한 전기선 불필요, 충전 아답터만 있음됨 3. A/S시 기사님... ', 'bloggername': 'Monotype', 'bloggerlink': 'https://blog.naver.com/doyle2580', 'postdate': '20210301'}, {'title': '게이밍<b>노트북</b> 추천 삼성전자 <b>노트북</b> 플러스2 NT560XDZ-G78A', 'link': 'https://blog.naver.com/ha_tak?Redirect=Log&logNo=222248392585', 'description': '2021년 들어서 신제품으로 출시되는 <b>노트북</b> 중 11세대 인텔 CPU를 탑재한 제품들이 많이 나오고 있다.... 그런데 마침 삼성전자 <b>노트북</b> 플러스2 NT560XDZ-G78A 모델이 게이밍<b>노트북</b> 추천 상위에 있어서 살펴봤다.... ', 'bloggername': '리뷰빌런 하텍', 'bloggerlink': 'https://blog.naver.com/ha_tak', 'postdate': '20210218'}, {'title': '윈도우 초기화 방법으로 <b>노트북</b> &amp; 컴퓨터 포맷하는법 쉽다 쉬워!', 'link': 'https://blog.naver.com/skdaksdptn?Redirect=Log&logNo=222244622287', 'description': '세 가지 경우 모두 <b>노트북</b> 포맷과 컴퓨터 포맷하는 법을 알고 있어야 한다. 겁내지 않아도 된다.... 만약 Key 자체를 잊어버렸다면 윈도우 초기화로는 <b>노트북</b> 포맷이 불가능하다. 그럴 경우에는 다른 방법을... ', 'bloggername': '짜루의 이것저것 리뷰', 'bloggerlink': 'https://blog.naver.com/skdaksdptn', 'postdate': '20210215'}, {'title': '리퍼 <b>노트북</b> 기대 이상의 만족도 리퍼연구소', 'link': 'https://blog.naver.com/hellomyjeon?Redirect=Log&logNo=222264085895', 'description': '오늘은 제 인생에서 절대 뺄수 없는 없으면 안되는 소중한 친구 제 <b>노트북</b> 이야기를 하려고 합니다/ 지난 6년간 애지중지 사용하던 삼성 <b>노트북</b>이 긴 생명을 다해 <b>노트북</b>을 알아보고 있었는데 때마침... ', 'bloggername': '언니 하고 싶은 거 다 해', 'bloggerlink': 'https://blog.naver.com/hellomyjeon', 'postdate': '20210304'}, {'title': '더 저렴하게 LG 그램 17인치 <b>노트북</b> 17ZD90P-GX30K', 'link': 'https://blog.naver.com/hupers?Redirect=Log&logNo=222258179587', 'description': '2021 LG 그램 <b>노트북</b>은 사용하면 할수록 마음에 들었는데요. 여러 사이트를 이동하며 프로그래밍과 문서작업을 주로 하는 저에게 17인치 <b>노트북</b>의 어떤 부분에서 그렇게 느꼈는지, 그리고 저렴한... ', 'bloggername': '사랑나무아빠의 행복한 세상', 'bloggerlink': 'https://blog.naver.com/hupers', 'postdate': '20210227'}, {'title': '삼성 오디세이 <b>노트북</b> 1달 사용기 - 이륙할 기세?', 'link': 'https://blog.naver.com/hoja216?Redirect=Log&logNo=222254449146', 'description': \"1달 전에 <b>노트북</b>을 교체했습니다. 이유는 그래픽 작업 및 큰 프로젝트를 할 때 사정없이 버벅대던 펜2... 그러고보니 삼성의 수장분 이름에 '용'이 들어가서 최고 사양 <b>노트북</b> 콘셉트를 용으로 잡은 건가? ...는... \", 'bloggername': '::해왕성에서 지구로 마실나온 판야의 은신처::', 'bloggerlink': 'https://blog.naver.com/hoja216', 'postdate': '20210224'}, {'title': '삼성전자 <b>노트북</b> 갤럭시북 플렉스2', 'link': 'https://blog.naver.com/hayanmisomam?Redirect=Log&logNo=222258589283', 'description': '삼성<b>노트북</b> Galaxy Book Flex2에 대해서 글을 써볼까해요. 작년부터 초,중학생들 진로수업과 커피수업을 나가게 되면서 <b>노트북</b> 쓸 일이 자주 있었어요. 우리집에는 컴퓨터 2대에 <b>노트북</b>도 2대가 있기 때문에... ', 'bloggername': '꿈의궁전~~', 'bloggerlink': 'https://blog.naver.com/hayanmisomam', 'postdate': '20210227'}]}\n",
      "기가바이트 <b>노트북</b> as 후기 - 안타깝게도 결국 수리 불가 판정 https://blog.naver.com/jihoon5252?Redirect=Log&logNo=222252708417\n",
      "LG 그램 2021 14Z90P-GA76K <b>노트북</b> 사용 후기 https://blog.naver.com/naangie?Redirect=Log&logNo=222263109940\n",
      "<b>노트북</b> 파우치 휴대와 거치를 동시에 아이돈케어 https://blog.naver.com/innpirit?Redirect=Log&logNo=222261193717\n",
      "<b>노트북</b>, 갤럭시 북 Ion2로 바꾸다 https://blog.naver.com/doyle2580?Redirect=Log&logNo=222260272606\n",
      "게이밍<b>노트북</b> 추천 삼성전자 <b>노트북</b> 플러스2 NT560XDZ-G78A https://blog.naver.com/ha_tak?Redirect=Log&logNo=222248392585\n",
      "윈도우 초기화 방법으로 <b>노트북</b> &amp; 컴퓨터 포맷하는법 쉽다 쉬워! https://blog.naver.com/skdaksdptn?Redirect=Log&logNo=222244622287\n",
      "리퍼 <b>노트북</b> 기대 이상의 만족도 리퍼연구소 https://blog.naver.com/hellomyjeon?Redirect=Log&logNo=222264085895\n",
      "더 저렴하게 LG 그램 17인치 <b>노트북</b> 17ZD90P-GX30K https://blog.naver.com/hupers?Redirect=Log&logNo=222258179587\n",
      "삼성 오디세이 <b>노트북</b> 1달 사용기 - 이륙할 기세? https://blog.naver.com/hoja216?Redirect=Log&logNo=222254449146\n",
      "삼성전자 <b>노트북</b> 갤럭시북 플렉스2 https://blog.naver.com/hayanmisomam?Redirect=Log&logNo=222258589283\n"
     ]
    }
   ],
   "source": [
    "# 네이버 API 실습\n",
    "# Client ID : 4lYhOmAn6SrjgHTxJG9c\n",
    "# Client Secret : T7czEH5iDI\n",
    "import os\n",
    "import sys\n",
    "import urllib.request\n",
    "import json\n",
    "client_id = \"4lYhOmAn6SrjgHTxJG9c\"\n",
    "client_secret = \"T7czEH5iDI\"\n",
    "encText = urllib.parse.quote(\"노트북\")\n",
    "url = \"https://openapi.naver.com/v1/search/blog?query=\" + encText # json 결과\n",
    "# url = \"https://openapi.naver.com/v1/search/blog.xml?query=\" + encText # xml 결과\n",
    "request = urllib.request.Request(url)\n",
    "request.add_header(\"X-Naver-Client-Id\",client_id)\n",
    "request.add_header(\"X-Naver-Client-Secret\",client_secret)\n",
    "response = urllib.request.urlopen(request)\n",
    "rescode = response.getcode()\n",
    "if(rescode==200):\n",
    "    response_body = response.read()\n",
    "    print(response_body.decode('utf-8'))\n",
    "    datas = json.loads(response_body)\n",
    "    print(datas)\n",
    "    for data in datas['items']:\n",
    "        print(data['title'], data['link'])\n",
    "else:\n",
    "    print(\"Error Code:\" + rescode)"
   ]
  },
  {
   "cell_type": "code",
   "execution_count": null,
   "metadata": {},
   "outputs": [],
   "source": []
  }
 ],
 "metadata": {
  "kernelspec": {
   "display_name": "Python 3",
   "language": "python",
   "name": "python3"
  },
  "language_info": {
   "codemirror_mode": {
    "name": "ipython",
    "version": 3
   },
   "file_extension": ".py",
   "mimetype": "text/x-python",
   "name": "python",
   "nbconvert_exporter": "python",
   "pygments_lexer": "ipython3",
   "version": "3.8.5"
  }
 },
 "nbformat": 4,
 "nbformat_minor": 4
}
