{
 "cells": [
  {
   "cell_type": "code",
   "execution_count": 42,
   "metadata": {},
   "outputs": [],
   "source": [
    "import tensorflow as tf\n",
    "from tensorflow.keras import datasets"
   ]
  },
  {
   "cell_type": "code",
   "execution_count": 2,
   "metadata": {},
   "outputs": [],
   "source": [
    "# MNIST (손글씨)\n",
    "data = datasets.mnist\n",
    "(train_x, train_y), (test_x, test_y) = data.load_data()"
   ]
  },
  {
   "cell_type": "code",
   "execution_count": 41,
   "metadata": {},
   "outputs": [
    {
     "data": {
      "text/plain": [
       "array([[0., 0., 0., ..., 0., 0., 0.],\n",
       "       [0., 0., 0., ..., 0., 0., 0.],\n",
       "       [0., 0., 0., ..., 0., 0., 0.],\n",
       "       ...,\n",
       "       [0., 0., 0., ..., 0., 0., 0.],\n",
       "       [0., 0., 0., ..., 0., 0., 0.],\n",
       "       [0., 0., 0., ..., 0., 0., 0.]])"
      ]
     },
     "execution_count": 41,
     "metadata": {},
     "output_type": "execute_result"
    }
   ],
   "source": [
    "train_x"
   ]
  },
  {
   "cell_type": "code",
   "execution_count": 3,
   "metadata": {},
   "outputs": [
    {
     "data": {
      "text/plain": [
       "numpy.ndarray"
      ]
     },
     "execution_count": 3,
     "metadata": {},
     "output_type": "execute_result"
    }
   ],
   "source": [
    "type(train_x)"
   ]
  },
  {
   "cell_type": "code",
   "execution_count": 4,
   "metadata": {},
   "outputs": [
    {
     "data": {
      "text/plain": [
       "(60000, 28, 28)"
      ]
     },
     "execution_count": 4,
     "metadata": {},
     "output_type": "execute_result"
    }
   ],
   "source": [
    "train_x.shape"
   ]
  },
  {
   "cell_type": "code",
   "execution_count": 5,
   "metadata": {},
   "outputs": [
    {
     "data": {
      "text/plain": [
       "(28, 28)"
      ]
     },
     "execution_count": 5,
     "metadata": {},
     "output_type": "execute_result"
    }
   ],
   "source": [
    "train_x[0].shape"
   ]
  },
  {
   "cell_type": "code",
   "execution_count": 6,
   "metadata": {},
   "outputs": [
    {
     "data": {
      "text/plain": [
       "((60000, 28, 28), (60000,), (10000, 28, 28), (10000,))"
      ]
     },
     "execution_count": 6,
     "metadata": {},
     "output_type": "execute_result"
    }
   ],
   "source": [
    "train_x.shape, train_y.shape, test_x.shape, test_y.shape"
   ]
  },
  {
   "cell_type": "code",
   "execution_count": 7,
   "metadata": {},
   "outputs": [
    {
     "data": {
      "image/png": "[encoded data removed]",
      "text/plain": [
       "<Figure size 432x288 with 1 Axes>"
      ]
     },
     "metadata": {
      "needs_background": "light"
     },
     "output_type": "display_data"
    }
   ],
   "source": [
    "import matplotlib.pyplot as plt\n",
    "plt.imshow(train_x[2], 'gray')\n",
    "plt.show()"
   ]
  },
  {
   "cell_type": "code",
   "execution_count": 8,
   "metadata": {},
   "outputs": [
    {
     "data": {
      "text/plain": [
       "5"
      ]
     },
     "execution_count": 8,
     "metadata": {},
     "output_type": "execute_result"
    }
   ],
   "source": [
    "train_y[0]"
   ]
  },
  {
   "cell_type": "code",
   "execution_count": 9,
   "metadata": {},
   "outputs": [],
   "source": [
    "# 검증데이터 분리\n",
    "from sklearn.model_selection import train_test_split\n",
    "train_x, valid_x, train_y, valid_y = train_test_split(train_x, train_y, random_state=10)"
   ]
  },
  {
   "cell_type": "code",
   "execution_count": 10,
   "metadata": {},
   "outputs": [
    {
     "data": {
      "text/plain": [
       "((45000, 28, 28), (15000, 28, 28), (45000,), (15000,))"
      ]
     },
     "execution_count": 10,
     "metadata": {},
     "output_type": "execute_result"
    }
   ],
   "source": [
    "train_x.shape, valid_x.shape, train_y.shape, valid_y.shape"
   ]
  },
  {
   "cell_type": "code",
   "execution_count": 11,
   "metadata": {},
   "outputs": [
    {
     "data": {
      "text/plain": [
       "array([8, 7, 9, 8, 0, 5, 8, 6, 2, 1], dtype=uint8)"
      ]
     },
     "execution_count": 11,
     "metadata": {},
     "output_type": "execute_result"
    }
   ],
   "source": [
    "train_y[:10]"
   ]
  },
  {
   "cell_type": "code",
   "execution_count": 12,
   "metadata": {},
   "outputs": [
    {
     "data": {
      "text/plain": [
       "784"
      ]
     },
     "execution_count": 12,
     "metadata": {},
     "output_type": "execute_result"
    }
   ],
   "source": [
    "28*28"
   ]
  },
  {
   "cell_type": "code",
   "execution_count": 13,
   "metadata": {},
   "outputs": [],
   "source": [
    "# 모델에 입력하기 위해 차원 변경\n",
    "# 스케일 조정(MinMax) 색상범위값 255로 나눔\n",
    "train_x = train_x.reshape(train_x.shape[0],28*28)/255\n",
    "valid_x = valid_x.reshape(valid_x.shape[0],28*28)/255\n",
    "test_x = test_x.reshape(test_x.shape[0],28*28)/255"
   ]
  },
  {
   "cell_type": "code",
   "execution_count": 1,
   "metadata": {},
   "outputs": [
    {
     "ename": "NameError",
     "evalue": "name 'train_x' is not defined",
     "output_type": "error",
     "traceback": [
      "\u001b[1;31m---------------------------------------------------------------------------\u001b[0m",
      "\u001b[1;31mNameError\u001b[0m                                 Traceback (most recent call last)",
      "\u001b[1;32m<ipython-input-1-c1626dec7d37>\u001b[0m in \u001b[0;36m<module>\u001b[1;34m\u001b[0m\n\u001b[1;32m----> 1\u001b[1;33m \u001b[0mtrain_x\u001b[0m\u001b[1;33m.\u001b[0m\u001b[0mshape\u001b[0m\u001b[1;33m,\u001b[0m \u001b[0mvalid_x\u001b[0m\u001b[1;33m.\u001b[0m\u001b[0mshape\u001b[0m\u001b[1;33m,\u001b[0m \u001b[0mtest_x\u001b[0m\u001b[1;33m.\u001b[0m\u001b[0mshape\u001b[0m\u001b[1;33m\u001b[0m\u001b[1;33m\u001b[0m\u001b[0m\n\u001b[0m",
      "\u001b[1;31mNameError\u001b[0m: name 'train_x' is not defined"
     ]
    }
   ],
   "source": [
    "train_x.shape, valid_x.shape, test_x.shape"
   ]
  },
  {
   "cell_type": "code",
   "execution_count": null,
   "metadata": {},
   "outputs": [],
   "source": []
  },
  {
   "cell_type": "code",
   "execution_count": 15,
   "metadata": {},
   "outputs": [
    {
     "data": {
      "text/plain": [
       "array([8, 7, 9, 8, 0, 5, 8, 6, 2, 1], dtype=uint8)"
      ]
     },
     "execution_count": 15,
     "metadata": {},
     "output_type": "execute_result"
    }
   ],
   "source": [
    "train_y[:10]"
   ]
  },
  {
   "cell_type": "code",
   "execution_count": 16,
   "metadata": {},
   "outputs": [],
   "source": [
    "# label(정답)의 categorical값 -> 원핫인코딩\n",
    "from tensorflow.keras.utils import to_categorical\n",
    "train_y = to_categorical(train_y)\n",
    "valid_y = to_categorical(valid_y)\n",
    "test_y = to_categorical(test_y)"
   ]
  },
  {
   "cell_type": "code",
   "execution_count": 17,
   "metadata": {},
   "outputs": [
    {
     "data": {
      "text/plain": [
       "array([0., 0., 0., 0., 0., 0., 0., 0., 1., 0.], dtype=float32)"
      ]
     },
     "execution_count": 17,
     "metadata": {},
     "output_type": "execute_result"
    }
   ],
   "source": [
    "train_y[0]"
   ]
  },
  {
   "cell_type": "markdown",
   "metadata": {},
   "source": [
    "### 신경망(ANN) 구현"
   ]
  },
  {
   "cell_type": "code",
   "execution_count": 18,
   "metadata": {},
   "outputs": [],
   "source": [
    "# import\n",
    "from tensorflow.keras.models import Sequential # 모델객체생성을 위한 클래스\n",
    "from tensorflow.keras.layers import Dense # 레이어추가를 위한 클래스"
   ]
  },
  {
   "cell_type": "code",
   "execution_count": 19,
   "metadata": {},
   "outputs": [
    {
     "name": "stdout",
     "output_type": "stream",
     "text": [
      "Epoch 1/10\n",
      "900/900 [==============================] - 4s 4ms/step - loss: 0.7399 - accuracy: 0.7675 - val_loss: 0.2300 - val_accuracy: 0.9318\n",
      "Epoch 2/10\n",
      "900/900 [==============================] - 1s 960us/step - loss: 0.1811 - accuracy: 0.9469 - val_loss: 0.1577 - val_accuracy: 0.9534\n",
      "Epoch 3/10\n",
      "900/900 [==============================] - 1s 956us/step - loss: 0.1202 - accuracy: 0.9624 - val_loss: 0.1389 - val_accuracy: 0.9583\n",
      "Epoch 4/10\n",
      "900/900 [==============================] - 1s 995us/step - loss: 0.0991 - accuracy: 0.9705 - val_loss: 0.1259 - val_accuracy: 0.9629\n",
      "Epoch 5/10\n",
      "900/900 [==============================] - 1s 976us/step - loss: 0.0816 - accuracy: 0.9742 - val_loss: 0.1298 - val_accuracy: 0.9627\n",
      "Epoch 6/10\n",
      "900/900 [==============================] - 1s 945us/step - loss: 0.0677 - accuracy: 0.9789 - val_loss: 0.1266 - val_accuracy: 0.9650\n",
      "Epoch 7/10\n",
      "900/900 [==============================] - 1s 998us/step - loss: 0.0567 - accuracy: 0.9828 - val_loss: 0.1200 - val_accuracy: 0.9653\n",
      "Epoch 8/10\n",
      "900/900 [==============================] - 1s 971us/step - loss: 0.0490 - accuracy: 0.9850 - val_loss: 0.1253 - val_accuracy: 0.9642\n",
      "Epoch 9/10\n",
      "900/900 [==============================] - 1s 956us/step - loss: 0.0442 - accuracy: 0.9865 - val_loss: 0.1199 - val_accuracy: 0.9692\n",
      "Epoch 10/10\n",
      "900/900 [==============================] - 1s 947us/step - loss: 0.0341 - accuracy: 0.9892 - val_loss: 0.1365 - val_accuracy: 0.9646\n"
     ]
    },
    {
     "data": {
      "text/plain": [
       "<tensorflow.python.keras.callbacks.History at 0x1bbbceba400>"
      ]
     },
     "execution_count": 19,
     "metadata": {},
     "output_type": "execute_result"
    }
   ],
   "source": [
    "# 랜덤시드값\n",
    "tf.random.set_seed(14)\n",
    "\n",
    "# 모델 구현\n",
    "model = Sequential() # 객체 생성\n",
    "\n",
    "# 데이터 입력받는 레이어\n",
    "# Dense(출력데이터차원, 활성화함수, 입력데이터차원)\n",
    "model.add(Dense(64, activation='relu', input_shape=(28*28,)))\n",
    "\n",
    "# 레이어 추가\n",
    "model.add(Dense(32, activation='relu'))\n",
    "model.add(Dense(32, activation='relu'))\n",
    "model.add(Dense(32, activation='relu'))\n",
    "\n",
    "# 출력레이어\n",
    "# label 값의 종류만큼 차원 지정\n",
    "# 활성화함수 -> softmax\n",
    "model.add(Dense(10, activation='softmax'))\n",
    "\n",
    "# 모델 설정\n",
    "# compile()\n",
    "# 최적화기법 : adam(learning_rate=0.001)\n",
    "# 손실함수 : categorical_crossentropy\n",
    "# 평가지표 : accuracy\n",
    "model.compile(optimizer='adam', loss='categorical_crossentropy', metrics=['accuracy'])\n",
    "\n",
    "# 학습\n",
    "# epochs : 학습횟수\n",
    "# validation_data : 검증데이터\n",
    "model.fit(train_x, train_y, epochs=10, batch_size=50, validation_data=(valid_x, valid_y))"
   ]
  },
  {
   "cell_type": "code",
   "execution_count": 20,
   "metadata": {},
   "outputs": [
    {
     "name": "stdout",
     "output_type": "stream",
     "text": [
      "313/313 [==============================] - 0s 790us/step - loss: 0.1326 - accuracy: 0.9660\n"
     ]
    },
    {
     "data": {
      "text/plain": [
       "[0.1325613260269165, 0.9660000205039978]"
      ]
     },
     "execution_count": 20,
     "metadata": {},
     "output_type": "execute_result"
    }
   ],
   "source": [
    "# 테스트데이터 평가\n",
    "# 손실값, 정확도\n",
    "model.evaluate(test_x, test_y)"
   ]
  },
  {
   "cell_type": "code",
   "execution_count": 21,
   "metadata": {},
   "outputs": [
    {
     "name": "stdout",
     "output_type": "stream",
     "text": [
      "Epoch 1/10\n",
      "900/900 [==============================] - 1s 1ms/step - loss: 1.8944 - accuracy: 0.3853 - val_loss: 0.6804 - val_accuracy: 0.8628\n",
      "Epoch 2/10\n",
      "900/900 [==============================] - 1s 943us/step - loss: 0.5534 - accuracy: 0.8858 - val_loss: 0.3447 - val_accuracy: 0.9198\n",
      "Epoch 3/10\n",
      "900/900 [==============================] - 1s 960us/step - loss: 0.3095 - accuracy: 0.9282 - val_loss: 0.2683 - val_accuracy: 0.9327\n",
      "Epoch 4/10\n",
      "900/900 [==============================] - 1s 957us/step - loss: 0.2349 - accuracy: 0.9449 - val_loss: 0.2255 - val_accuracy: 0.9415\n",
      "Epoch 5/10\n",
      "900/900 [==============================] - 1s 981us/step - loss: 0.1978 - accuracy: 0.9518 - val_loss: 0.2044 - val_accuracy: 0.9454\n",
      "Epoch 6/10\n",
      "900/900 [==============================] - 1s 931us/step - loss: 0.1620 - accuracy: 0.9592 - val_loss: 0.1849 - val_accuracy: 0.9507\n",
      "Epoch 7/10\n",
      "900/900 [==============================] - 1s 949us/step - loss: 0.1344 - accuracy: 0.9655 - val_loss: 0.1753 - val_accuracy: 0.9526\n",
      "Epoch 8/10\n",
      "900/900 [==============================] - 1s 959us/step - loss: 0.1157 - accuracy: 0.9703 - val_loss: 0.1683 - val_accuracy: 0.9553\n",
      "Epoch 9/10\n",
      "900/900 [==============================] - 1s 940us/step - loss: 0.1024 - accuracy: 0.9729 - val_loss: 0.1803 - val_accuracy: 0.9509\n",
      "Epoch 10/10\n",
      "900/900 [==============================] - 1s 954us/step - loss: 0.0926 - accuracy: 0.9758 - val_loss: 0.1592 - val_accuracy: 0.9563\n",
      "Epoch 1/10\n",
      "900/900 [==============================] - 1s 1ms/step - loss: 0.6718 - accuracy: 0.8257 - val_loss: 0.2004 - val_accuracy: 0.9417\n",
      "Epoch 2/10\n",
      "900/900 [==============================] - 1s 968us/step - loss: 0.1712 - accuracy: 0.9513 - val_loss: 0.1450 - val_accuracy: 0.9583\n",
      "Epoch 3/10\n",
      "900/900 [==============================] - 1s 953us/step - loss: 0.1139 - accuracy: 0.9672 - val_loss: 0.1285 - val_accuracy: 0.9639\n",
      "Epoch 4/10\n",
      "900/900 [==============================] - 1s 951us/step - loss: 0.0864 - accuracy: 0.9744 - val_loss: 0.1225 - val_accuracy: 0.9653\n",
      "Epoch 5/10\n",
      "900/900 [==============================] - 1s 945us/step - loss: 0.0706 - accuracy: 0.9792 - val_loss: 0.1158 - val_accuracy: 0.9673\n",
      "Epoch 6/10\n",
      "900/900 [==============================] - 1s 947us/step - loss: 0.0566 - accuracy: 0.9828 - val_loss: 0.1172 - val_accuracy: 0.9674\n",
      "Epoch 7/10\n",
      "900/900 [==============================] - 1s 961us/step - loss: 0.0460 - accuracy: 0.9858 - val_loss: 0.1163 - val_accuracy: 0.9666\n",
      "Epoch 8/10\n",
      "900/900 [==============================] - 1s 955us/step - loss: 0.0400 - accuracy: 0.9883 - val_loss: 0.1186 - val_accuracy: 0.9682\n",
      "Epoch 9/10\n",
      "900/900 [==============================] - 1s 945us/step - loss: 0.0383 - accuracy: 0.9883 - val_loss: 0.1364 - val_accuracy: 0.9641\n",
      "Epoch 10/10\n",
      "900/900 [==============================] - 1s 942us/step - loss: 0.0289 - accuracy: 0.9905 - val_loss: 0.1235 - val_accuracy: 0.9679\n",
      "Epoch 1/10\n",
      "900/900 [==============================] - 1s 1ms/step - loss: 0.7399 - accuracy: 0.7675 - val_loss: 0.2300 - val_accuracy: 0.9318\n",
      "Epoch 2/10\n",
      "900/900 [==============================] - 1s 949us/step - loss: 0.1811 - accuracy: 0.9469 - val_loss: 0.1577 - val_accuracy: 0.9534\n",
      "Epoch 3/10\n",
      "900/900 [==============================] - 1s 962us/step - loss: 0.1202 - accuracy: 0.9624 - val_loss: 0.1389 - val_accuracy: 0.9583\n",
      "Epoch 4/10\n",
      "900/900 [==============================] - 1s 947us/step - loss: 0.0991 - accuracy: 0.9705 - val_loss: 0.1259 - val_accuracy: 0.9629\n",
      "Epoch 5/10\n",
      "900/900 [==============================] - 1s 952us/step - loss: 0.0816 - accuracy: 0.9742 - val_loss: 0.1298 - val_accuracy: 0.9627\n",
      "Epoch 6/10\n",
      "900/900 [==============================] - 1s 955us/step - loss: 0.0677 - accuracy: 0.9789 - val_loss: 0.1266 - val_accuracy: 0.9650\n",
      "Epoch 7/10\n",
      "900/900 [==============================] - 1s 946us/step - loss: 0.0567 - accuracy: 0.9828 - val_loss: 0.1200 - val_accuracy: 0.9653\n",
      "Epoch 8/10\n",
      "900/900 [==============================] - 1s 960us/step - loss: 0.0490 - accuracy: 0.9850 - val_loss: 0.1253 - val_accuracy: 0.9642\n",
      "Epoch 9/10\n",
      "900/900 [==============================] - 1s 956us/step - loss: 0.0442 - accuracy: 0.9865 - val_loss: 0.1199 - val_accuracy: 0.9692\n",
      "Epoch 10/10\n",
      "900/900 [==============================] - 1s 959us/step - loss: 0.0341 - accuracy: 0.9892 - val_loss: 0.1365 - val_accuracy: 0.9646\n"
     ]
    }
   ],
   "source": [
    " for func in ['sigmoid','tanh','relu']:\n",
    "    # 랜덤시드값\n",
    "    tf.random.set_seed(14)\n",
    "\n",
    "    # 모델 구현\n",
    "    model = Sequential() # 객체 생성\n",
    "\n",
    "    # 데이터 입력받는 레이어\n",
    "    # Dense(출력데이터차원, 활성화함수, 입력데이터차원)\n",
    "    model.add(Dense(64, activation=func, input_shape=(28*28,)))\n",
    "\n",
    "    # 레이어 추가\n",
    "    model.add(Dense(32, activation=func))\n",
    "    model.add(Dense(32, activation=func))\n",
    "    model.add(Dense(32, activation=func))\n",
    "\n",
    "    # 출력레이어\n",
    "    # label 값의 종류만큼 차원 지정\n",
    "    # 활성화함수 -> softmax\n",
    "    model.add(Dense(10, activation='softmax'))\n",
    "\n",
    "    # 모델 설정\n",
    "    # compile()\n",
    "    # 최적화기법 : adam(learning_rate=0.001)\n",
    "    # 손실함수 : categorical_crossentropy\n",
    "    # 평가지표 : accuracy\n",
    "    model.compile(optimizer='adam', loss='categorical_crossentropy', metrics=['accuracy'])\n",
    "\n",
    "    # 학습\n",
    "    # epochs : 학습횟수\n",
    "    # validation_data : 검증데이터\n",
    "    model.fit(train_x, train_y, epochs=10, batch_size=50, validation_data=(valid_x, valid_y))"
   ]
  },
  {
   "cell_type": "markdown",
   "metadata": {},
   "source": [
    "### softmax 함수"
   ]
  },
  {
   "cell_type": "code",
   "execution_count": 22,
   "metadata": {},
   "outputs": [
    {
     "data": {
      "text/plain": [
       "<tf.Tensor: shape=(3,), dtype=float32, numpy=array([0.27800977, 0.30724832, 0.41474187], dtype=float32)>"
      ]
     },
     "execution_count": 22,
     "metadata": {},
     "output_type": "execute_result"
    }
   ],
   "source": [
    "# softmax 함수\n",
    "tf.nn.softmax([0.1,0.2,0.5])"
   ]
  },
  {
   "cell_type": "code",
   "execution_count": 23,
   "metadata": {},
   "outputs": [
    {
     "data": {
      "text/plain": [
       "array([0.27800977, 0.30724832, 0.41474187], dtype=float32)"
      ]
     },
     "execution_count": 23,
     "metadata": {},
     "output_type": "execute_result"
    }
   ],
   "source": [
    "tf.nn.softmax([0.1,0.2,0.5]).numpy()"
   ]
  },
  {
   "cell_type": "code",
   "execution_count": 24,
   "metadata": {},
   "outputs": [
    {
     "data": {
      "text/plain": [
       "1.0"
      ]
     },
     "execution_count": 24,
     "metadata": {},
     "output_type": "execute_result"
    }
   ],
   "source": [
    "tf.nn.softmax([0.1,0.2,0.5]).numpy().sum()"
   ]
  },
  {
   "cell_type": "markdown",
   "metadata": {},
   "source": [
    "### 모델 설정(compile)"
   ]
  },
  {
   "cell_type": "code",
   "execution_count": 25,
   "metadata": {},
   "outputs": [
    {
     "name": "stdout",
     "output_type": "stream",
     "text": [
      "Epoch 1/10\n",
      "900/900 [==============================] - 2s 1ms/step - loss: 0.7399 - accuracy: 0.7675 - val_loss: 0.2300 - val_accuracy: 0.9318\n",
      "Epoch 2/10\n",
      "900/900 [==============================] - 1s 972us/step - loss: 0.1811 - accuracy: 0.9469 - val_loss: 0.1577 - val_accuracy: 0.9534\n",
      "Epoch 3/10\n",
      "900/900 [==============================] - 1s 967us/step - loss: 0.1202 - accuracy: 0.9624 - val_loss: 0.1389 - val_accuracy: 0.9583\n",
      "Epoch 4/10\n",
      "900/900 [==============================] - 1s 992us/step - loss: 0.0991 - accuracy: 0.9705 - val_loss: 0.1259 - val_accuracy: 0.9629\n",
      "Epoch 5/10\n",
      "900/900 [==============================] - 1s 1ms/step - loss: 0.0816 - accuracy: 0.9742 - val_loss: 0.1298 - val_accuracy: 0.9627\n",
      "Epoch 6/10\n",
      "900/900 [==============================] - 1s 1ms/step - loss: 0.0677 - accuracy: 0.9789 - val_loss: 0.1266 - val_accuracy: 0.9650\n",
      "Epoch 7/10\n",
      "900/900 [==============================] - 1s 971us/step - loss: 0.0567 - accuracy: 0.9828 - val_loss: 0.1200 - val_accuracy: 0.9653\n",
      "Epoch 8/10\n",
      "900/900 [==============================] - 1s 993us/step - loss: 0.0490 - accuracy: 0.9850 - val_loss: 0.1253 - val_accuracy: 0.9642\n",
      "Epoch 9/10\n",
      "900/900 [==============================] - 1s 980us/step - loss: 0.0442 - accuracy: 0.9865 - val_loss: 0.1199 - val_accuracy: 0.9692\n",
      "Epoch 10/10\n",
      "900/900 [==============================] - 1s 978us/step - loss: 0.0341 - accuracy: 0.9892 - val_loss: 0.1365 - val_accuracy: 0.9646\n",
      "Epoch 1/10\n",
      "900/900 [==============================] - 1s 1ms/step - loss: 1.7578 - accuracy: 0.4100 - val_loss: 0.4771 - val_accuracy: 0.8643\n",
      "Epoch 2/10\n",
      "900/900 [==============================] - 1s 940us/step - loss: 0.4339 - accuracy: 0.8750 - val_loss: 0.3524 - val_accuracy: 0.8994\n",
      "Epoch 3/10\n",
      "900/900 [==============================] - 1s 906us/step - loss: 0.3287 - accuracy: 0.9046 - val_loss: 0.2968 - val_accuracy: 0.9133\n",
      "Epoch 4/10\n",
      "900/900 [==============================] - 1s 895us/step - loss: 0.2839 - accuracy: 0.9200 - val_loss: 0.2606 - val_accuracy: 0.9241\n",
      "Epoch 5/10\n",
      "900/900 [==============================] - 1s 912us/step - loss: 0.2495 - accuracy: 0.9278 - val_loss: 0.2448 - val_accuracy: 0.9282\n",
      "Epoch 6/10\n",
      "900/900 [==============================] - 1s 907us/step - loss: 0.2213 - accuracy: 0.9355 - val_loss: 0.2086 - val_accuracy: 0.9405\n",
      "Epoch 7/10\n",
      "900/900 [==============================] - 1s 902us/step - loss: 0.1874 - accuracy: 0.9457 - val_loss: 0.1926 - val_accuracy: 0.9448\n",
      "Epoch 8/10\n",
      "900/900 [==============================] - 1s 895us/step - loss: 0.1712 - accuracy: 0.9490 - val_loss: 0.1826 - val_accuracy: 0.9479\n",
      "Epoch 9/10\n",
      "900/900 [==============================] - 1s 897us/step - loss: 0.1585 - accuracy: 0.9527 - val_loss: 0.1787 - val_accuracy: 0.9469\n",
      "Epoch 10/10\n",
      "900/900 [==============================] - 1s 897us/step - loss: 0.1475 - accuracy: 0.9568 - val_loss: 0.1671 - val_accuracy: 0.9495\n",
      "Epoch 1/10\n",
      "900/900 [==============================] - 2s 1ms/step - loss: 0.6870 - accuracy: 0.7884 - val_loss: 0.2160 - val_accuracy: 0.9346\n",
      "Epoch 2/10\n",
      "900/900 [==============================] - 1s 978us/step - loss: 0.1886 - accuracy: 0.9437 - val_loss: 0.1594 - val_accuracy: 0.9531\n",
      "Epoch 3/10\n",
      "900/900 [==============================] - 1s 994us/step - loss: 0.1285 - accuracy: 0.9620 - val_loss: 0.1429 - val_accuracy: 0.9591\n",
      "Epoch 4/10\n",
      "900/900 [==============================] - 1s 1ms/step - loss: 0.1053 - accuracy: 0.9694 - val_loss: 0.1355 - val_accuracy: 0.9630\n",
      "Epoch 5/10\n",
      "900/900 [==============================] - 1s 1ms/step - loss: 0.0875 - accuracy: 0.9734 - val_loss: 0.1281 - val_accuracy: 0.9652\n",
      "Epoch 6/10\n",
      "900/900 [==============================] - 1s 1ms/step - loss: 0.0733 - accuracy: 0.9779 - val_loss: 0.1309 - val_accuracy: 0.9668\n",
      "Epoch 7/10\n",
      "900/900 [==============================] - 1s 1ms/step - loss: 0.0608 - accuracy: 0.9822 - val_loss: 0.1341 - val_accuracy: 0.9670\n",
      "Epoch 8/10\n",
      "900/900 [==============================] - 1s 1ms/step - loss: 0.0584 - accuracy: 0.9834 - val_loss: 0.1341 - val_accuracy: 0.9663\n",
      "Epoch 9/10\n",
      "900/900 [==============================] - 1s 1ms/step - loss: 0.0501 - accuracy: 0.9849 - val_loss: 0.1391 - val_accuracy: 0.9655\n",
      "Epoch 10/10\n",
      "900/900 [==============================] - 1s 1ms/step - loss: 0.0444 - accuracy: 0.9870 - val_loss: 0.1409 - val_accuracy: 0.9685\n"
     ]
    }
   ],
   "source": [
    "# import (optimizer 클래스)\n",
    "from tensorflow.keras.optimizers import Adam, SGD, RMSprop\n",
    "\n",
    "for opt in [Adam(), SGD(), RMSprop()]:\n",
    "    # 랜덤시드값\n",
    "    tf.random.set_seed(14)\n",
    "\n",
    "    # 모델 구현\n",
    "    model = Sequential() # 객체 생성\n",
    "\n",
    "    # 데이터 입력받는 레이어\n",
    "    # Dense(출력데이터차원, 활성화함수, 입력데이터차원)\n",
    "    model.add(Dense(64, activation='relu', input_shape=(28*28,)))\n",
    "\n",
    "    # 레이어 추가\n",
    "    model.add(Dense(32, activation='relu'))\n",
    "    model.add(Dense(32, activation='relu'))\n",
    "    model.add(Dense(32, activation='relu'))\n",
    "\n",
    "    # 출력레이어\n",
    "    # label 값의 종류만큼 차원 지정\n",
    "    # 활성화함수 -> softmax\n",
    "    model.add(Dense(10, activation='softmax'))\n",
    "\n",
    "    # 모델 설정\n",
    "    # compile()\n",
    "    # 최적화기법 : adam(learning_rate=0.001)\n",
    "    # 손실함수 : categorical_crossentropy\n",
    "    # 평가지표 : accuracy\n",
    "    model.compile(optimizer=opt, loss='categorical_crossentropy', metrics=['accuracy'])\n",
    "\n",
    "    # 학습\n",
    "    # epochs : 학습횟수\n",
    "    # validation_data : 검증데이터\n",
    "    model.fit(train_x, train_y, epochs=10, batch_size=50, validation_data=(valid_x, valid_y))"
   ]
  },
  {
   "cell_type": "markdown",
   "metadata": {},
   "source": [
    "### 성능평가"
   ]
  },
  {
   "cell_type": "code",
   "execution_count": 26,
   "metadata": {},
   "outputs": [
    {
     "name": "stdout",
     "output_type": "stream",
     "text": [
      "Epoch 1/50\n",
      "900/900 [==============================] - 2s 1ms/step - loss: 0.7399 - accuracy: 0.7675 - val_loss: 0.2300 - val_accuracy: 0.9318\n",
      "Epoch 2/50\n",
      "900/900 [==============================] - 1s 973us/step - loss: 0.1811 - accuracy: 0.9469 - val_loss: 0.1577 - val_accuracy: 0.9534\n",
      "Epoch 3/50\n",
      "900/900 [==============================] - 1s 975us/step - loss: 0.1202 - accuracy: 0.9624 - val_loss: 0.1389 - val_accuracy: 0.9583\n",
      "Epoch 4/50\n",
      "900/900 [==============================] - 1s 989us/step - loss: 0.0991 - accuracy: 0.9705 - val_loss: 0.1259 - val_accuracy: 0.9629\n",
      "Epoch 5/50\n",
      "900/900 [==============================] - 1s 976us/step - loss: 0.0816 - accuracy: 0.9742 - val_loss: 0.1298 - val_accuracy: 0.9627\n",
      "Epoch 6/50\n",
      "900/900 [==============================] - 1s 964us/step - loss: 0.0677 - accuracy: 0.9789 - val_loss: 0.1266 - val_accuracy: 0.9650\n",
      "Epoch 7/50\n",
      "900/900 [==============================] - 1s 971us/step - loss: 0.0567 - accuracy: 0.9828 - val_loss: 0.1200 - val_accuracy: 0.9653\n",
      "Epoch 8/50\n",
      "900/900 [==============================] - 1s 984us/step - loss: 0.0490 - accuracy: 0.9850 - val_loss: 0.1253 - val_accuracy: 0.9642\n",
      "Epoch 9/50\n",
      "900/900 [==============================] - 1s 1ms/step - loss: 0.0442 - accuracy: 0.9865 - val_loss: 0.1199 - val_accuracy: 0.9692\n",
      "Epoch 10/50\n",
      "900/900 [==============================] - 1s 1ms/step - loss: 0.0341 - accuracy: 0.9892 - val_loss: 0.1365 - val_accuracy: 0.9646\n",
      "Epoch 11/50\n",
      "900/900 [==============================] - 1s 977us/step - loss: 0.0314 - accuracy: 0.9905 - val_loss: 0.1249 - val_accuracy: 0.9685\n",
      "Epoch 12/50\n",
      "900/900 [==============================] - 1s 1ms/step - loss: 0.0292 - accuracy: 0.9911 - val_loss: 0.1569 - val_accuracy: 0.9618\n",
      "Epoch 13/50\n",
      "900/900 [==============================] - 1s 981us/step - loss: 0.0284 - accuracy: 0.9910 - val_loss: 0.1565 - val_accuracy: 0.9623\n",
      "Epoch 14/50\n",
      "900/900 [==============================] - 1s 993us/step - loss: 0.0282 - accuracy: 0.9905 - val_loss: 0.1355 - val_accuracy: 0.9702\n",
      "Epoch 15/50\n",
      "900/900 [==============================] - 1s 1000us/step - loss: 0.0214 - accuracy: 0.9928 - val_loss: 0.1622 - val_accuracy: 0.9639\n",
      "Epoch 16/50\n",
      "900/900 [==============================] - 1s 982us/step - loss: 0.0238 - accuracy: 0.9922 - val_loss: 0.1525 - val_accuracy: 0.9679\n",
      "Epoch 17/50\n",
      "900/900 [==============================] - 1s 973us/step - loss: 0.0277 - accuracy: 0.9911 - val_loss: 0.1558 - val_accuracy: 0.9669\n",
      "Epoch 18/50\n",
      "900/900 [==============================] - 1s 975us/step - loss: 0.0169 - accuracy: 0.9947 - val_loss: 0.1524 - val_accuracy: 0.9679\n",
      "Epoch 19/50\n",
      "900/900 [==============================] - 1s 975us/step - loss: 0.0184 - accuracy: 0.9941 - val_loss: 0.1794 - val_accuracy: 0.9635\n",
      "Epoch 20/50\n",
      "900/900 [==============================] - 1s 987us/step - loss: 0.0150 - accuracy: 0.9949 - val_loss: 0.1500 - val_accuracy: 0.9687\n",
      "Epoch 21/50\n",
      "900/900 [==============================] - 1s 971us/step - loss: 0.0152 - accuracy: 0.9948 - val_loss: 0.1742 - val_accuracy: 0.9651\n",
      "Epoch 22/50\n",
      "900/900 [==============================] - 1s 985us/step - loss: 0.0203 - accuracy: 0.9939 - val_loss: 0.1733 - val_accuracy: 0.9685\n",
      "Epoch 23/50\n",
      "900/900 [==============================] - 1s 984us/step - loss: 0.0129 - accuracy: 0.9960 - val_loss: 0.1540 - val_accuracy: 0.9696\n",
      "Epoch 24/50\n",
      "900/900 [==============================] - 1s 971us/step - loss: 0.0144 - accuracy: 0.9955 - val_loss: 0.1543 - val_accuracy: 0.9719\n",
      "Epoch 25/50\n",
      "900/900 [==============================] - 1s 973us/step - loss: 0.0121 - accuracy: 0.9961 - val_loss: 0.1489 - val_accuracy: 0.9726\n",
      "Epoch 26/50\n",
      "900/900 [==============================] - 1s 987us/step - loss: 0.0116 - accuracy: 0.9959 - val_loss: 0.1640 - val_accuracy: 0.9695\n",
      "Epoch 27/50\n",
      "900/900 [==============================] - 1s 973us/step - loss: 0.0134 - accuracy: 0.9959 - val_loss: 0.1697 - val_accuracy: 0.9691\n",
      "Epoch 28/50\n",
      "900/900 [==============================] - 1s 980us/step - loss: 0.0138 - accuracy: 0.9953 - val_loss: 0.1856 - val_accuracy: 0.9677\n",
      "Epoch 29/50\n",
      "900/900 [==============================] - 1s 987us/step - loss: 0.0143 - accuracy: 0.9950 - val_loss: 0.1730 - val_accuracy: 0.9701\n",
      "Epoch 30/50\n",
      "900/900 [==============================] - 1s 978us/step - loss: 0.0104 - accuracy: 0.9968 - val_loss: 0.1975 - val_accuracy: 0.9677\n",
      "Epoch 31/50\n",
      "900/900 [==============================] - 1s 970us/step - loss: 0.0210 - accuracy: 0.9938 - val_loss: 0.1769 - val_accuracy: 0.9711\n",
      "Epoch 32/50\n",
      "900/900 [==============================] - 1s 974us/step - loss: 0.0107 - accuracy: 0.9964 - val_loss: 0.1890 - val_accuracy: 0.9690\n",
      "Epoch 33/50\n",
      "900/900 [==============================] - 1s 985us/step - loss: 0.0119 - accuracy: 0.9958 - val_loss: 0.1911 - val_accuracy: 0.9697\n",
      "Epoch 34/50\n",
      "900/900 [==============================] - 1s 974us/step - loss: 0.0083 - accuracy: 0.9973 - val_loss: 0.1991 - val_accuracy: 0.9692\n",
      "Epoch 35/50\n",
      "900/900 [==============================] - 1s 976us/step - loss: 0.0117 - accuracy: 0.9963 - val_loss: 0.2218 - val_accuracy: 0.9651\n",
      "Epoch 36/50\n",
      "900/900 [==============================] - 1s 975us/step - loss: 0.0120 - accuracy: 0.9961 - val_loss: 0.1877 - val_accuracy: 0.9711\n",
      "Epoch 37/50\n",
      "900/900 [==============================] - 1s 972us/step - loss: 0.0079 - accuracy: 0.9975 - val_loss: 0.1845 - val_accuracy: 0.9707\n",
      "Epoch 38/50\n",
      "900/900 [==============================] - 1s 965us/step - loss: 0.0121 - accuracy: 0.9962 - val_loss: 0.1954 - val_accuracy: 0.9681\n",
      "Epoch 39/50\n",
      "900/900 [==============================] - 1s 976us/step - loss: 0.0113 - accuracy: 0.9966 - val_loss: 0.1892 - val_accuracy: 0.9710\n",
      "Epoch 40/50\n",
      "900/900 [==============================] - 1s 983us/step - loss: 0.0107 - accuracy: 0.9964 - val_loss: 0.1976 - val_accuracy: 0.9703\n",
      "Epoch 41/50\n",
      "900/900 [==============================] - 1s 973us/step - loss: 0.0102 - accuracy: 0.9969 - val_loss: 0.2180 - val_accuracy: 0.9660\n",
      "Epoch 42/50\n",
      "900/900 [==============================] - 1s 967us/step - loss: 0.0108 - accuracy: 0.9965 - val_loss: 0.2216 - val_accuracy: 0.9686\n",
      "Epoch 43/50\n",
      "900/900 [==============================] - 1s 968us/step - loss: 0.0086 - accuracy: 0.9973 - val_loss: 0.2379 - val_accuracy: 0.9674\n",
      "Epoch 44/50\n",
      "900/900 [==============================] - 1s 987us/step - loss: 0.0096 - accuracy: 0.9971 - val_loss: 0.2208 - val_accuracy: 0.9684\n",
      "Epoch 45/50\n",
      "900/900 [==============================] - 1s 973us/step - loss: 0.0106 - accuracy: 0.9967 - val_loss: 0.1801 - val_accuracy: 0.9723\n",
      "Epoch 46/50\n",
      "900/900 [==============================] - 1s 964us/step - loss: 0.0048 - accuracy: 0.9984 - val_loss: 0.1950 - val_accuracy: 0.9719\n",
      "Epoch 47/50\n",
      "900/900 [==============================] - 1s 982us/step - loss: 0.0094 - accuracy: 0.9971 - val_loss: 0.2327 - val_accuracy: 0.9673\n",
      "Epoch 48/50\n",
      "900/900 [==============================] - 1s 965us/step - loss: 0.0123 - accuracy: 0.9961 - val_loss: 0.2237 - val_accuracy: 0.9693\n",
      "Epoch 49/50\n",
      "900/900 [==============================] - 1s 990us/step - loss: 0.0095 - accuracy: 0.9970 - val_loss: 0.2132 - val_accuracy: 0.9701\n",
      "Epoch 50/50\n",
      "900/900 [==============================] - 1s 971us/step - loss: 0.0071 - accuracy: 0.9978 - val_loss: 0.1969 - val_accuracy: 0.9701\n"
     ]
    }
   ],
   "source": [
    "# 랜덤시드값\n",
    "tf.random.set_seed(14)\n",
    "\n",
    "# 모델 구현\n",
    "model = Sequential() # 객체 생성\n",
    "\n",
    "# 데이터 입력받는 레이어\n",
    "# Dense(출력데이터차원, 활성화함수, 입력데이터차원)\n",
    "model.add(Dense(64, activation='relu', input_shape=(28*28,)))\n",
    "\n",
    "# 레이어 추가\n",
    "model.add(Dense(32, activation='relu'))\n",
    "model.add(Dense(32, activation='relu'))\n",
    "model.add(Dense(32, activation='relu'))\n",
    "\n",
    "# 출력레이어\n",
    "# label 값의 종류만큼 차원 지정\n",
    "# 활성화함수 -> softmax\n",
    "model.add(Dense(10, activation='softmax'))\n",
    "\n",
    "# 모델 설정\n",
    "# compile()\n",
    "# 최적화기법 : adam(learning_rate=0.001)\n",
    "# 손실함수 : categorical_crossentropy\n",
    "# 평가지표 : accuracy\n",
    "model.compile(optimizer='adam', loss='categorical_crossentropy', metrics=['accuracy'])\n",
    "\n",
    "# 학습\n",
    "# epochs : 학습횟수\n",
    "# validation_data : 검증데이터\n",
    "history = model.fit(train_x, train_y, epochs=50, batch_size=50, validation_data=(valid_x, valid_y))"
   ]
  },
  {
   "cell_type": "code",
   "execution_count": 27,
   "metadata": {},
   "outputs": [
    {
     "data": {
      "text/plain": [
       "{'loss': [0.415483295917511,\n",
       "  0.1723768413066864,\n",
       "  0.12320245057344437,\n",
       "  0.09952303767204285,\n",
       "  0.08156460523605347,\n",
       "  0.07012326270341873,\n",
       "  0.061651721596717834,\n",
       "  0.05189445987343788,\n",
       "  0.04700708016753197,\n",
       "  0.03993473947048187,\n",
       "  0.03554048761725426,\n",
       "  0.034410301595926285,\n",
       "  0.03152928873896599,\n",
       "  0.030571766197681427,\n",
       "  0.02277863770723343,\n",
       "  0.02759694866836071,\n",
       "  0.026451369747519493,\n",
       "  0.019688406959176064,\n",
       "  0.021337926387786865,\n",
       "  0.019747022539377213,\n",
       "  0.019017476588487625,\n",
       "  0.01821376383304596,\n",
       "  0.01654270850121975,\n",
       "  0.01808464713394642,\n",
       "  0.016494043171405792,\n",
       "  0.013868553563952446,\n",
       "  0.013958444818854332,\n",
       "  0.015056252479553223,\n",
       "  0.014768964610993862,\n",
       "  0.010741262696683407,\n",
       "  0.015690967440605164,\n",
       "  0.013416273519396782,\n",
       "  0.012580003589391708,\n",
       "  0.012742801569402218,\n",
       "  0.012377594597637653,\n",
       "  0.011677091009914875,\n",
       "  0.008536017499864101,\n",
       "  0.013800066895782948,\n",
       "  0.009743292815983295,\n",
       "  0.011349782347679138,\n",
       "  0.011184933595359325,\n",
       "  0.010506885126233101,\n",
       "  0.010038422420620918,\n",
       "  0.009654438123106956,\n",
       "  0.011235841549932957,\n",
       "  0.008283555507659912,\n",
       "  0.00823951791971922,\n",
       "  0.009709215722978115,\n",
       "  0.009666942059993744,\n",
       "  0.009475682862102985],\n",
       " 'accuracy': [0.8757555484771729,\n",
       "  0.9487777948379517,\n",
       "  0.9624888896942139,\n",
       "  0.9699777960777283,\n",
       "  0.9742000102996826,\n",
       "  0.9783333539962769,\n",
       "  0.9806444644927979,\n",
       "  0.9831110835075378,\n",
       "  0.9851111173629761,\n",
       "  0.9872221946716309,\n",
       "  0.98862224817276,\n",
       "  0.9888222217559814,\n",
       "  0.9900222420692444,\n",
       "  0.9900888800621033,\n",
       "  0.9925110936164856,\n",
       "  0.9907777905464172,\n",
       "  0.9910666942596436,\n",
       "  0.9938889145851135,\n",
       "  0.9929555654525757,\n",
       "  0.9936222434043884,\n",
       "  0.9936666488647461,\n",
       "  0.9942222237586975,\n",
       "  0.9949555397033691,\n",
       "  0.9941555261611938,\n",
       "  0.9947333335876465,\n",
       "  0.9951778054237366,\n",
       "  0.9954666495323181,\n",
       "  0.9949111342430115,\n",
       "  0.995044469833374,\n",
       "  0.9965999722480774,\n",
       "  0.9950666427612305,\n",
       "  0.9951333403587341,\n",
       "  0.9958222508430481,\n",
       "  0.9960444569587708,\n",
       "  0.9959999918937683,\n",
       "  0.9961110949516296,\n",
       "  0.9973333477973938,\n",
       "  0.9956666827201843,\n",
       "  0.9970444440841675,\n",
       "  0.9962888956069946,\n",
       "  0.9963777661323547,\n",
       "  0.9964666962623596,\n",
       "  0.9968888759613037,\n",
       "  0.9971333146095276,\n",
       "  0.9966222047805786,\n",
       "  0.9973111152648926,\n",
       "  0.9973999857902527,\n",
       "  0.9968666434288025,\n",
       "  0.9969555735588074,\n",
       "  0.9969555735588074],\n",
       " 'val_loss': [0.2300296127796173,\n",
       "  0.15769322216510773,\n",
       "  0.1389206200838089,\n",
       "  0.1258501559495926,\n",
       "  0.12975116074085236,\n",
       "  0.12655703723430634,\n",
       "  0.12002398073673248,\n",
       "  0.12532757222652435,\n",
       "  0.11994244903326035,\n",
       "  0.13652560114860535,\n",
       "  0.12494543194770813,\n",
       "  0.1569388061761856,\n",
       "  0.15654920041561127,\n",
       "  0.13546927273273468,\n",
       "  0.1621713638305664,\n",
       "  0.15252825617790222,\n",
       "  0.1558152437210083,\n",
       "  0.15236836671829224,\n",
       "  0.17943522334098816,\n",
       "  0.14996188879013062,\n",
       "  0.17415139079093933,\n",
       "  0.17332850396633148,\n",
       "  0.1540130078792572,\n",
       "  0.15428651869297028,\n",
       "  0.14894117414951324,\n",
       "  0.1640438586473465,\n",
       "  0.16972674429416656,\n",
       "  0.18564510345458984,\n",
       "  0.1730288565158844,\n",
       "  0.19754929840564728,\n",
       "  0.17693190276622772,\n",
       "  0.18901321291923523,\n",
       "  0.1911233812570572,\n",
       "  0.19906389713287354,\n",
       "  0.22177664935588837,\n",
       "  0.18766358494758606,\n",
       "  0.18447202444076538,\n",
       "  0.19540949165821075,\n",
       "  0.18921127915382385,\n",
       "  0.19760841131210327,\n",
       "  0.21800507605075836,\n",
       "  0.221560537815094,\n",
       "  0.2379165142774582,\n",
       "  0.2208445817232132,\n",
       "  0.1801297813653946,\n",
       "  0.19495521485805511,\n",
       "  0.23273232579231262,\n",
       "  0.22372311353683472,\n",
       "  0.21317289769649506,\n",
       "  0.1969149261713028],\n",
       " 'val_accuracy': [0.9318000078201294,\n",
       "  0.9534000158309937,\n",
       "  0.9583333134651184,\n",
       "  0.962933361530304,\n",
       "  0.9627333283424377,\n",
       "  0.9649999737739563,\n",
       "  0.9652666449546814,\n",
       "  0.9642000198364258,\n",
       "  0.9692000150680542,\n",
       "  0.9646000266075134,\n",
       "  0.9684666395187378,\n",
       "  0.9617999792098999,\n",
       "  0.9623333215713501,\n",
       "  0.9702000021934509,\n",
       "  0.963866651058197,\n",
       "  0.9679333567619324,\n",
       "  0.966866672039032,\n",
       "  0.9678666591644287,\n",
       "  0.9634666442871094,\n",
       "  0.968666672706604,\n",
       "  0.96506667137146,\n",
       "  0.9684666395187378,\n",
       "  0.9696000218391418,\n",
       "  0.9718666672706604,\n",
       "  0.972599983215332,\n",
       "  0.9694666862487793,\n",
       "  0.9691333174705505,\n",
       "  0.9676666855812073,\n",
       "  0.9701333045959473,\n",
       "  0.9676666855812073,\n",
       "  0.9710666537284851,\n",
       "  0.968999981880188,\n",
       "  0.9696666598320007,\n",
       "  0.9692000150680542,\n",
       "  0.9651333093643188,\n",
       "  0.9710666537284851,\n",
       "  0.9707333445549011,\n",
       "  0.9681333303451538,\n",
       "  0.9710000157356262,\n",
       "  0.9702666401863098,\n",
       "  0.9660000205039978,\n",
       "  0.9685999751091003,\n",
       "  0.9674000144004822,\n",
       "  0.9684000015258789,\n",
       "  0.972266674041748,\n",
       "  0.9718666672706604,\n",
       "  0.9673333168029785,\n",
       "  0.9692666530609131,\n",
       "  0.9700666666030884,\n",
       "  0.9701333045959473]}"
      ]
     },
     "execution_count": 27,
     "metadata": {},
     "output_type": "execute_result"
    }
   ],
   "source": [
    "history.history"
   ]
  },
  {
   "cell_type": "code",
   "execution_count": 28,
   "metadata": {},
   "outputs": [
    {
     "data": {
      "image/png": "[encoded data removed]",
      "text/plain": [
       "<Figure size 432x288 with 1 Axes>"
      ]
     },
     "metadata": {
      "needs_background": "light"
     },
     "output_type": "display_data"
    }
   ],
   "source": [
    "# 학습데이터 로스\n",
    "plt.plot(history.history['loss'], c='r')\n",
    "# 검증데이터 로스\n",
    "plt.plot(history.history['val_loss'], c='g')\n",
    "plt.show()"
   ]
  },
  {
   "cell_type": "code",
   "execution_count": 29,
   "metadata": {},
   "outputs": [
    {
     "name": "stdout",
     "output_type": "stream",
     "text": [
      "313/313 [==============================] - 0s 783us/step - loss: 0.1687 - accuracy: 0.9725\n"
     ]
    },
    {
     "data": {
      "text/plain": [
       "[0.16865012049674988, 0.9725000262260437]"
      ]
     },
     "execution_count": 29,
     "metadata": {},
     "output_type": "execute_result"
    }
   ],
   "source": [
    "# 50회 학습한 모델(정확도 99%)로 테스트데이터 예측\n",
    "model.evaluate(test_x, test_y)"
   ]
  },
  {
   "cell_type": "markdown",
   "metadata": {},
   "source": [
    "### 혼동행렬"
   ]
  },
  {
   "cell_type": "code",
   "execution_count": 30,
   "metadata": {},
   "outputs": [
    {
     "data": {
      "text/plain": [
       "array([[ 962,    1,    3,    1,    1,    1,    2,    4,    4,    1],\n",
       "       [   0, 1125,    2,    2,    0,    0,    1,    1,    4,    0],\n",
       "       [   4,    3, 1001,    4,    1,    0,    2,    9,    8,    0],\n",
       "       [   1,    0,    6,  980,    0,    5,    0,    6,    9,    3],\n",
       "       [   0,    0,    2,    1,  959,    0,    5,    0,    0,   15],\n",
       "       [   4,    0,    0,   12,    2,  857,    5,    1,   11,    0],\n",
       "       [   3,    5,    2,    1,    5,    8,  931,    1,    2,    0],\n",
       "       [   1,    3,    9,    2,    1,    0,    0,  997,   10,    5],\n",
       "       [   7,    0,    1,    4,    2,    2,    2,    4,  949,    3],\n",
       "       [   2,    2,    0,    5,   14,    5,    0,    5,   12,  964]],\n",
       "      dtype=int64)"
      ]
     },
     "execution_count": 30,
     "metadata": {},
     "output_type": "execute_result"
    }
   ],
   "source": [
    "from sklearn.metrics import confusion_matrix\n",
    "import numpy as np\n",
    "\n",
    "pred = model.predict(test_x)\n",
    "# 실제:[1,0,1], 예측:[1,0,0]\n",
    "confusion_matrix(np.argmax(test_y, axis=1), np.argmax(pred, axis=1))"
   ]
  },
  {
   "cell_type": "markdown",
   "metadata": {},
   "source": [
    "### 분류보고서"
   ]
  },
  {
   "cell_type": "code",
   "execution_count": 31,
   "metadata": {},
   "outputs": [
    {
     "name": "stdout",
     "output_type": "stream",
     "text": [
      "              precision    recall  f1-score   support\n",
      "\n",
      "           0       0.98      0.98      0.98       980\n",
      "           1       0.99      0.99      0.99      1135\n",
      "           2       0.98      0.97      0.97      1032\n",
      "           3       0.97      0.97      0.97      1010\n",
      "           4       0.97      0.98      0.98       982\n",
      "           5       0.98      0.96      0.97       892\n",
      "           6       0.98      0.97      0.98       958\n",
      "           7       0.97      0.97      0.97      1028\n",
      "           8       0.94      0.97      0.96       974\n",
      "           9       0.97      0.96      0.96      1009\n",
      "\n",
      "    accuracy                           0.97     10000\n",
      "   macro avg       0.97      0.97      0.97     10000\n",
      "weighted avg       0.97      0.97      0.97     10000\n",
      "\n"
     ]
    }
   ],
   "source": [
    "from sklearn.metrics import classification_report\n",
    "print(classification_report(np.argmax(test_y, axis=1), np.argmax(pred, axis=1)))"
   ]
  },
  {
   "cell_type": "code",
   "execution_count": 32,
   "metadata": {},
   "outputs": [
    {
     "data": {
      "text/plain": [
       "array([[0.        , 0.        , 0.        , 0.        , 0.        ,\n",
       "        0.        , 0.        , 0.        , 0.        , 0.        ,\n",
       "        0.        , 0.        , 0.        , 0.        , 0.        ,\n",
       "        0.        , 0.        , 0.        , 0.        , 0.        ,\n",
       "        0.        , 0.        , 0.        , 0.        , 0.        ,\n",
       "        0.        , 0.        , 0.        , 0.        , 0.        ,\n",
       "        0.        , 0.        , 0.        , 0.        , 0.        ,\n",
       "        0.        , 0.        , 0.        , 0.        , 0.        ,\n",
       "        0.        , 0.        , 0.        , 0.        , 0.        ,\n",
       "        0.        , 0.        , 0.        , 0.        , 0.        ,\n",
       "        0.        , 0.        , 0.        , 0.        , 0.        ,\n",
       "        0.        , 0.        , 0.        , 0.        , 0.        ,\n",
       "        0.        , 0.        , 0.        , 0.        , 0.        ,\n",
       "        0.        , 0.        , 0.        , 0.        , 0.        ,\n",
       "        0.        , 0.        , 0.        , 0.        , 0.        ,\n",
       "        0.        , 0.        , 0.        , 0.        , 0.        ,\n",
       "        0.        , 0.        , 0.        , 0.        , 0.        ,\n",
       "        0.        , 0.        , 0.        , 0.        , 0.        ,\n",
       "        0.        , 0.        , 0.        , 0.        , 0.        ,\n",
       "        0.        , 0.        , 0.        , 0.        , 0.        ,\n",
       "        0.        , 0.        , 0.        , 0.        , 0.        ,\n",
       "        0.        , 0.        , 0.        , 0.        , 0.        ,\n",
       "        0.        , 0.        , 0.        , 0.        , 0.        ,\n",
       "        0.        , 0.        , 0.        , 0.        , 0.        ,\n",
       "        0.        , 0.        , 0.        , 0.        , 0.        ,\n",
       "        0.        , 0.        , 0.        , 0.        , 0.        ,\n",
       "        0.        , 0.        , 0.        , 0.        , 0.        ,\n",
       "        0.        , 0.        , 0.        , 0.        , 0.        ,\n",
       "        0.        , 0.        , 0.        , 0.        , 0.        ,\n",
       "        0.        , 0.        , 0.        , 0.        , 0.        ,\n",
       "        0.        , 0.        , 0.        , 0.        , 0.        ,\n",
       "        0.        , 0.        , 0.        , 0.        , 0.        ,\n",
       "        0.        , 0.        , 0.        , 0.        , 0.        ,\n",
       "        0.        , 0.        , 0.        , 0.        , 0.        ,\n",
       "        0.        , 0.        , 0.        , 0.        , 0.        ,\n",
       "        0.        , 0.        , 0.        , 0.        , 0.        ,\n",
       "        0.        , 0.        , 0.        , 0.        , 0.        ,\n",
       "        0.        , 0.        , 0.        , 0.        , 0.        ,\n",
       "        0.        , 0.        , 0.        , 0.        , 0.        ,\n",
       "        0.        , 0.        , 0.        , 0.        , 0.        ,\n",
       "        0.        , 0.        , 0.32941176, 0.7254902 , 0.62352941,\n",
       "        0.59215686, 0.23529412, 0.14117647, 0.        , 0.        ,\n",
       "        0.        , 0.        , 0.        , 0.        , 0.        ,\n",
       "        0.        , 0.        , 0.        , 0.        , 0.        ,\n",
       "        0.        , 0.        , 0.        , 0.        , 0.        ,\n",
       "        0.        , 0.        , 0.        , 0.        , 0.        ,\n",
       "        0.87058824, 0.99607843, 0.99607843, 0.99607843, 0.99607843,\n",
       "        0.94509804, 0.77647059, 0.77647059, 0.77647059, 0.77647059,\n",
       "        0.77647059, 0.77647059, 0.77647059, 0.77647059, 0.66666667,\n",
       "        0.20392157, 0.        , 0.        , 0.        , 0.        ,\n",
       "        0.        , 0.        , 0.        , 0.        , 0.        ,\n",
       "        0.        , 0.        , 0.        , 0.2627451 , 0.44705882,\n",
       "        0.28235294, 0.44705882, 0.63921569, 0.89019608, 0.99607843,\n",
       "        0.88235294, 0.99607843, 0.99607843, 0.99607843, 0.98039216,\n",
       "        0.89803922, 0.99607843, 0.99607843, 0.54901961, 0.        ,\n",
       "        0.        , 0.        , 0.        , 0.        , 0.        ,\n",
       "        0.        , 0.        , 0.        , 0.        , 0.        ,\n",
       "        0.        , 0.        , 0.        , 0.        , 0.        ,\n",
       "        0.        , 0.06666667, 0.25882353, 0.05490196, 0.2627451 ,\n",
       "        0.2627451 , 0.2627451 , 0.23137255, 0.08235294, 0.9254902 ,\n",
       "        0.99607843, 0.41568627, 0.        , 0.        , 0.        ,\n",
       "        0.        , 0.        , 0.        , 0.        , 0.        ,\n",
       "        0.        , 0.        , 0.        , 0.        , 0.        ,\n",
       "        0.        , 0.        , 0.        , 0.        , 0.        ,\n",
       "        0.        , 0.        , 0.        , 0.        , 0.        ,\n",
       "        0.        , 0.3254902 , 0.99215686, 0.81960784, 0.07058824,\n",
       "        0.        , 0.        , 0.        , 0.        , 0.        ,\n",
       "        0.        , 0.        , 0.        , 0.        , 0.        ,\n",
       "        0.        , 0.        , 0.        , 0.        , 0.        ,\n",
       "        0.        , 0.        , 0.        , 0.        , 0.        ,\n",
       "        0.        , 0.        , 0.        , 0.08627451, 0.91372549,\n",
       "        1.        , 0.3254902 , 0.        , 0.        , 0.        ,\n",
       "        0.        , 0.        , 0.        , 0.        , 0.        ,\n",
       "        0.        , 0.        , 0.        , 0.        , 0.        ,\n",
       "        0.        , 0.        , 0.        , 0.        , 0.        ,\n",
       "        0.        , 0.        , 0.        , 0.        , 0.        ,\n",
       "        0.        , 0.50588235, 0.99607843, 0.93333333, 0.17254902,\n",
       "        0.        , 0.        , 0.        , 0.        , 0.        ,\n",
       "        0.        , 0.        , 0.        , 0.        , 0.        ,\n",
       "        0.        , 0.        , 0.        , 0.        , 0.        ,\n",
       "        0.        , 0.        , 0.        , 0.        , 0.        ,\n",
       "        0.        , 0.        , 0.        , 0.23137255, 0.97647059,\n",
       "        0.99607843, 0.24313725, 0.        , 0.        , 0.        ,\n",
       "        0.        , 0.        , 0.        , 0.        , 0.        ,\n",
       "        0.        , 0.        , 0.        , 0.        , 0.        ,\n",
       "        0.        , 0.        , 0.        , 0.        , 0.        ,\n",
       "        0.        , 0.        , 0.        , 0.        , 0.        ,\n",
       "        0.        , 0.52156863, 0.99607843, 0.73333333, 0.01960784,\n",
       "        0.        , 0.        , 0.        , 0.        , 0.        ,\n",
       "        0.        , 0.        , 0.        , 0.        , 0.        ,\n",
       "        0.        , 0.        , 0.        , 0.        , 0.        ,\n",
       "        0.        , 0.        , 0.        , 0.        , 0.        ,\n",
       "        0.        , 0.        , 0.        , 0.03529412, 0.80392157,\n",
       "        0.97254902, 0.22745098, 0.        , 0.        , 0.        ,\n",
       "        0.        , 0.        , 0.        , 0.        , 0.        ,\n",
       "        0.        , 0.        , 0.        , 0.        , 0.        ,\n",
       "        0.        , 0.        , 0.        , 0.        , 0.        ,\n",
       "        0.        , 0.        , 0.        , 0.        , 0.        ,\n",
       "        0.        , 0.49411765, 0.99607843, 0.71372549, 0.        ,\n",
       "        0.        , 0.        , 0.        , 0.        , 0.        ,\n",
       "        0.        , 0.        , 0.        , 0.        , 0.        ,\n",
       "        0.        , 0.        , 0.        , 0.        , 0.        ,\n",
       "        0.        , 0.        , 0.        , 0.        , 0.        ,\n",
       "        0.        , 0.        , 0.        , 0.29411765, 0.98431373,\n",
       "        0.94117647, 0.22352941, 0.        , 0.        , 0.        ,\n",
       "        0.        , 0.        , 0.        , 0.        , 0.        ,\n",
       "        0.        , 0.        , 0.        , 0.        , 0.        ,\n",
       "        0.        , 0.        , 0.        , 0.        , 0.        ,\n",
       "        0.        , 0.        , 0.        , 0.        , 0.        ,\n",
       "        0.0745098 , 0.86666667, 0.99607843, 0.65098039, 0.        ,\n",
       "        0.        , 0.        , 0.        , 0.        , 0.        ,\n",
       "        0.        , 0.        , 0.        , 0.        , 0.        ,\n",
       "        0.        , 0.        , 0.        , 0.        , 0.        ,\n",
       "        0.        , 0.        , 0.        , 0.        , 0.        ,\n",
       "        0.        , 0.        , 0.01176471, 0.79607843, 0.99607843,\n",
       "        0.85882353, 0.1372549 , 0.        , 0.        , 0.        ,\n",
       "        0.        , 0.        , 0.        , 0.        , 0.        ,\n",
       "        0.        , 0.        , 0.        , 0.        , 0.        ,\n",
       "        0.        , 0.        , 0.        , 0.        , 0.        ,\n",
       "        0.        , 0.        , 0.        , 0.        , 0.        ,\n",
       "        0.14901961, 0.99607843, 0.99607843, 0.30196078, 0.        ,\n",
       "        0.        , 0.        , 0.        , 0.        , 0.        ,\n",
       "        0.        , 0.        , 0.        , 0.        , 0.        ,\n",
       "        0.        , 0.        , 0.        , 0.        , 0.        ,\n",
       "        0.        , 0.        , 0.        , 0.        , 0.        ,\n",
       "        0.        , 0.        , 0.12156863, 0.87843137, 0.99607843,\n",
       "        0.45098039, 0.00392157, 0.        , 0.        , 0.        ,\n",
       "        0.        , 0.        , 0.        , 0.        , 0.        ,\n",
       "        0.        , 0.        , 0.        , 0.        , 0.        ,\n",
       "        0.        , 0.        , 0.        , 0.        , 0.        ,\n",
       "        0.        , 0.        , 0.        , 0.        , 0.        ,\n",
       "        0.52156863, 0.99607843, 0.99607843, 0.20392157, 0.        ,\n",
       "        0.        , 0.        , 0.        , 0.        , 0.        ,\n",
       "        0.        , 0.        , 0.        , 0.        , 0.        ,\n",
       "        0.        , 0.        , 0.        , 0.        , 0.        ,\n",
       "        0.        , 0.        , 0.        , 0.        , 0.        ,\n",
       "        0.        , 0.        , 0.23921569, 0.94901961, 0.99607843,\n",
       "        0.99607843, 0.20392157, 0.        , 0.        , 0.        ,\n",
       "        0.        , 0.        , 0.        , 0.        , 0.        ,\n",
       "        0.        , 0.        , 0.        , 0.        , 0.        ,\n",
       "        0.        , 0.        , 0.        , 0.        , 0.        ,\n",
       "        0.        , 0.        , 0.        , 0.        , 0.        ,\n",
       "        0.4745098 , 0.99607843, 0.99607843, 0.85882353, 0.15686275,\n",
       "        0.        , 0.        , 0.        , 0.        , 0.        ,\n",
       "        0.        , 0.        , 0.        , 0.        , 0.        ,\n",
       "        0.        , 0.        , 0.        , 0.        , 0.        ,\n",
       "        0.        , 0.        , 0.        , 0.        , 0.        ,\n",
       "        0.        , 0.        , 0.        , 0.4745098 , 0.99607843,\n",
       "        0.81176471, 0.07058824, 0.        , 0.        , 0.        ,\n",
       "        0.        , 0.        , 0.        , 0.        , 0.        ,\n",
       "        0.        , 0.        , 0.        , 0.        , 0.        ,\n",
       "        0.        , 0.        , 0.        , 0.        , 0.        ,\n",
       "        0.        , 0.        , 0.        , 0.        , 0.        ,\n",
       "        0.        , 0.        , 0.        , 0.        , 0.        ,\n",
       "        0.        , 0.        , 0.        , 0.        , 0.        ,\n",
       "        0.        , 0.        , 0.        , 0.        , 0.        ,\n",
       "        0.        , 0.        , 0.        , 0.        ]])"
      ]
     },
     "execution_count": 32,
     "metadata": {},
     "output_type": "execute_result"
    }
   ],
   "source": [
    "np.expand_dims(test_x[0],0)"
   ]
  },
  {
   "cell_type": "code",
   "execution_count": 33,
   "metadata": {},
   "outputs": [
    {
     "data": {
      "text/plain": [
       "array([0., 0., 0., 0., 0., 0., 0., 1., 0., 0.], dtype=float32)"
      ]
     },
     "execution_count": 33,
     "metadata": {},
     "output_type": "execute_result"
    }
   ],
   "source": [
    "test_y[0]"
   ]
  },
  {
   "cell_type": "code",
   "execution_count": 34,
   "metadata": {},
   "outputs": [
    {
     "data": {
      "text/plain": [
       "array([[1.1477916e-16, 8.3407722e-13, 1.3344019e-14, 1.8439465e-11,\n",
       "        1.5597593e-13, 4.1426674e-17, 1.7765995e-19, 1.0000000e+00,\n",
       "        1.4629619e-14, 1.4410050e-12]], dtype=float32)"
      ]
     },
     "execution_count": 34,
     "metadata": {},
     "output_type": "execute_result"
    }
   ],
   "source": [
    "# 확률값을 출력\n",
    "model.predict(np.expand_dims(test_x[0],0))"
   ]
  },
  {
   "cell_type": "code",
   "execution_count": 35,
   "metadata": {},
   "outputs": [
    {
     "name": "stderr",
     "output_type": "stream",
     "text": [
      "C:\\anconda\\lib\\site-packages\\tensorflow\\python\\keras\\engine\\sequential.py:450: UserWarning: `model.predict_classes()` is deprecated and will be removed after 2021-01-01. Please use instead:* `np.argmax(model.predict(x), axis=-1)`,   if your model does multi-class classification   (e.g. if it uses a `softmax` last-layer activation).* `(model.predict(x) > 0.5).astype(\"int32\")`,   if your model does binary classification   (e.g. if it uses a `sigmoid` last-layer activation).\n",
      "  warnings.warn('`model.predict_classes()` is deprecated and '\n"
     ]
    },
    {
     "data": {
      "text/plain": [
       "array([7], dtype=int64)"
      ]
     },
     "execution_count": 35,
     "metadata": {},
     "output_type": "execute_result"
    }
   ],
   "source": [
    "# label값으로 출력\n",
    "model.predict_classes(np.expand_dims(test_x[0],0))"
   ]
  },
  {
   "cell_type": "code",
   "execution_count": 36,
   "metadata": {},
   "outputs": [
    {
     "name": "stdout",
     "output_type": "stream",
     "text": [
      "Collecting opencv-python\n",
      "  Downloading opencv_python-4.5.1.48-cp38-cp38-win_amd64.whl (34.9 MB)\n",
      "Requirement already satisfied: numpy>=1.17.3 in c:\\anconda\\lib\\site-packages (from opencv-python) (1.19.2)\n",
      "Installing collected packages: opencv-python\n",
      "Successfully installed opencv-python-4.5.1.48\n"
     ]
    }
   ],
   "source": [
    "!pip install opencv-python"
   ]
  },
  {
   "cell_type": "code",
   "execution_count": 37,
   "metadata": {},
   "outputs": [],
   "source": [
    "import cv2"
   ]
  },
  {
   "cell_type": "code",
   "execution_count": 39,
   "metadata": {},
   "outputs": [
    {
     "ename": "AttributeError",
     "evalue": "'NoneType' object has no attribute 'shape'",
     "output_type": "error",
     "traceback": [
      "\u001b[1;31m---------------------------------------------------------------------------\u001b[0m",
      "\u001b[1;31mAttributeError\u001b[0m                            Traceback (most recent call last)",
      "\u001b[1;32m<ipython-input-39-2e5f4e0a5159>\u001b[0m in \u001b[0;36m<module>\u001b[1;34m\u001b[0m\n\u001b[0;32m      1\u001b[0m \u001b[0mimg\u001b[0m \u001b[1;33m=\u001b[0m \u001b[0mcv2\u001b[0m\u001b[1;33m.\u001b[0m\u001b[0mimread\u001b[0m\u001b[1;33m(\u001b[0m\u001b[1;34m'2.jpg'\u001b[0m\u001b[1;33m,\u001b[0m \u001b[0mcv2\u001b[0m\u001b[1;33m.\u001b[0m\u001b[0mIMREAD_GRAYSCALE\u001b[0m\u001b[1;33m)\u001b[0m\u001b[1;33m\u001b[0m\u001b[1;33m\u001b[0m\u001b[0m\n\u001b[0;32m      2\u001b[0m \u001b[1;31m# 이미지 리사이징\u001b[0m\u001b[1;33m\u001b[0m\u001b[1;33m\u001b[0m\u001b[1;33m\u001b[0m\u001b[0m\n\u001b[1;32m----> 3\u001b[1;33m \u001b[0mimg\u001b[0m \u001b[1;33m=\u001b[0m \u001b[0mcv2\u001b[0m\u001b[1;33m.\u001b[0m\u001b[0mresize\u001b[0m\u001b[1;33m(\u001b[0m\u001b[0mimg\u001b[0m\u001b[1;33m,\u001b[0m \u001b[1;32mNone\u001b[0m\u001b[1;33m,\u001b[0m \u001b[0mfx\u001b[0m\u001b[1;33m=\u001b[0m\u001b[1;36m28\u001b[0m\u001b[1;33m/\u001b[0m\u001b[0mimg\u001b[0m\u001b[1;33m.\u001b[0m\u001b[0mshape\u001b[0m\u001b[1;33m[\u001b[0m\u001b[1;36m1\u001b[0m\u001b[1;33m]\u001b[0m\u001b[1;33m,\u001b[0m \u001b[0mfy\u001b[0m\u001b[1;33m=\u001b[0m\u001b[1;36m28\u001b[0m\u001b[1;33m/\u001b[0m\u001b[0mimg\u001b[0m\u001b[1;33m.\u001b[0m\u001b[0mshape\u001b[0m\u001b[1;33m[\u001b[0m\u001b[1;36m0\u001b[0m\u001b[1;33m]\u001b[0m\u001b[1;33m)\u001b[0m\u001b[1;33m\u001b[0m\u001b[1;33m\u001b[0m\u001b[0m\n\u001b[0m\u001b[0;32m      4\u001b[0m \u001b[0mimg\u001b[0m \u001b[1;33m=\u001b[0m \u001b[0mimg\u001b[0m\u001b[1;33m/\u001b[0m\u001b[1;36m255\u001b[0m\u001b[1;33m\u001b[0m\u001b[1;33m\u001b[0m\u001b[0m\n",
      "\u001b[1;31mAttributeError\u001b[0m: 'NoneType' object has no attribute 'shape'"
     ]
    }
   ],
   "source": [
    "img = cv2.imread('2.jpg', cv2.IMREAD_GRAYSCALE)\n",
    "# 이미지 리사이징\n",
    "img = cv2.resize(img, None, fx=28/img.shape[1], fy=28/img.shape[0])\n",
    "img = img/255"
   ]
  },
  {
   "cell_type": "code",
   "execution_count": null,
   "metadata": {},
   "outputs": [],
   "source": [
    "img.shape"
   ]
  },
  {
   "cell_type": "code",
   "execution_count": null,
   "metadata": {},
   "outputs": [],
   "source": [
    "plt.imshow(img,'gray')\n",
    "plt.show()"
   ]
  },
  {
   "cell_type": "code",
   "execution_count": null,
   "metadata": {},
   "outputs": [],
   "source": [
    "img = img.reshape(-1)"
   ]
  },
  {
   "cell_type": "code",
   "execution_count": null,
   "metadata": {},
   "outputs": [],
   "source": [
    "img.shape"
   ]
  },
  {
   "cell_type": "code",
   "execution_count": null,
   "metadata": {},
   "outputs": [],
   "source": [
    "model.predict(np.expand_dims(img,0))"
   ]
  },
  {
   "cell_type": "code",
   "execution_count": null,
   "metadata": {},
   "outputs": [],
   "source": [
    "model.predict_classes(np.expand_dims(img,0))"
   ]
  },
  {
   "cell_type": "code",
   "execution_count": null,
   "metadata": {},
   "outputs": [],
   "source": [
    "test_y[1]"
   ]
  },
  {
   "cell_type": "code",
   "execution_count": null,
   "metadata": {},
   "outputs": [],
   "source": [
    "model.predict_classes(np.expand_dims(test_x[1],0))"
   ]
  },
  {
   "cell_type": "code",
   "execution_count": null,
   "metadata": {},
   "outputs": [],
   "source": []
  }
 ],
 "metadata": {
  "kernelspec": {
   "display_name": "Python 3",
   "language": "python",
   "name": "python3"
  },
  "language_info": {
   "codemirror_mode": {
    "name": "ipython",
    "version": 3
   },
   "file_extension": ".py",
   "mimetype": "text/x-python",
   "name": "python",
   "nbconvert_exporter": "python",
   "pygments_lexer": "ipython3",
   "version": "3.8.5"
  }
 },
 "nbformat": 4,
 "nbformat_minor": 4
}
