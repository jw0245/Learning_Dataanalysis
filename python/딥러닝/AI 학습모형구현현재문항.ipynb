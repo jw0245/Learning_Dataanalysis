{
 "cells": [
  {
   "cell_type": "code",
   "execution_count": 6,
   "id": "laughing-crest",
   "metadata": {},
   "outputs": [],
   "source": [
    "import numpy as np"
   ]
  },
  {
   "cell_type": "code",
   "execution_count": 7,
   "id": "manufactured-candy",
   "metadata": {},
   "outputs": [],
   "source": [
    "def readFile(file):\n",
    "    with open(file, encoding='utf8') as f:\n",
    "        doc = [line.replace('\\n','').split('\\t') for line in f.readlines()]\n",
    "    return doc[1:]"
   ]
  },
  {
   "cell_type": "code",
   "execution_count": 8,
   "id": "anticipated-values",
   "metadata": {},
   "outputs": [],
   "source": [
    "train_text = readFile('ratings_train.txt')\n",
    "test_text = readFile('ratings_test.txt')"
   ]
  },
  {
   "cell_type": "code",
   "execution_count": 15,
   "id": "hungry-compensation",
   "metadata": {},
   "outputs": [
    {
     "data": {
      "text/plain": [
       "(150000, 50000)"
      ]
     },
     "execution_count": 15,
     "metadata": {},
     "output_type": "execute_result"
    }
   ],
   "source": [
    "len(train_text), len(test_text)"
   ]
  },
  {
   "cell_type": "code",
   "execution_count": 14,
   "id": "floating-begin",
   "metadata": {},
   "outputs": [
    {
     "data": {
      "text/plain": [
       "'9976970'"
      ]
     },
     "execution_count": 14,
     "metadata": {},
     "output_type": "execute_result"
    }
   ],
   "source": [
    "train_text[0][0]"
   ]
  },
  {
   "cell_type": "code",
   "execution_count": 19,
   "id": "alike-ribbon",
   "metadata": {},
   "outputs": [],
   "source": [
    "def preprocessing(txt):\n",
    "    import re\n",
    "    txt = re.sub('[^ㄱ-ㅎㅏ-ㅣ가-힣 ]', '', txt)\n",
    "    sw = set() # 집합자료형 선언\n",
    "    with open('stopwords-ko.txt', encoding='utf-8') as f:\n",
    "        for w in f:\n",
    "            sw.add(w.replace('\\n',''))\n",
    "    doc = []\n",
    "    from eunjeon import Mecab\n",
    "    mecab = Mecab()\n",
    "    for word in mecab.morphs(txt):\n",
    "        if word not in sw and len(word) > 1:\n",
    "            doc.append(word)\n",
    "    return doc"
   ]
  },
  {
   "cell_type": "code",
   "execution_count": 20,
   "id": "further-contrary",
   "metadata": {},
   "outputs": [],
   "source": [
    "# nsmc 텍스트 토크나이징 함수\n",
    "def make_token(text):\n",
    "    pre_data = []\n",
    "    for row in text:\n",
    "        r = preprocessing(row[1])\n",
    "        if r :\n",
    "            pre_data.append((r,row[2]))\n",
    "    return pre_data"
   ]
  },
  {
   "cell_type": "code",
   "execution_count": 21,
   "id": "encouraging-science",
   "metadata": {},
   "outputs": [],
   "source": [
    "train_text = make_token(train_text)\n",
    "test_text = make_token(test_text)"
   ]
  },
  {
   "cell_type": "code",
   "execution_count": 22,
   "id": "assured-dialogue",
   "metadata": {},
   "outputs": [],
   "source": [
    "# 형태소추출된 데이터를 pickle 저장\n",
    "import pickle\n",
    "with open('train_text.pk', 'wb') as f:\n",
    "    pickle.dump(train_text, f)\n",
    "with open('test_text.pk', 'wb') as f:\n",
    "    pickle.dump(test_text, f)"
   ]
  },
  {
   "cell_type": "code",
   "execution_count": 23,
   "id": "opened-workplace",
   "metadata": {},
   "outputs": [],
   "source": [
    "# pickle 데이터 불러오기\n",
    "import pickle\n",
    "with open('train_text.pk', 'rb') as f:\n",
    "    train = pickle.load(f)\n",
    "with open('test_text.pk', 'rb') as f:\n",
    "    test = pickle.load(f)"
   ]
  },
  {
   "cell_type": "code",
   "execution_count": 24,
   "id": "korean-morrison",
   "metadata": {},
   "outputs": [
    {
     "data": {
      "text/plain": [
       "(146124, 48760)"
      ]
     },
     "execution_count": 24,
     "metadata": {},
     "output_type": "execute_result"
    }
   ],
   "source": [
    "len(train), len(test)"
   ]
  },
  {
   "cell_type": "code",
   "execution_count": 25,
   "id": "defensive-cooperative",
   "metadata": {},
   "outputs": [],
   "source": [
    "# import\n",
    "import tensorflow as tf\n",
    "from tensorflow.keras.preprocessing.text import Tokenizer\n",
    "from tensorflow.keras.models import Sequential\n",
    "from tensorflow.keras.layers import Dense, Embedding, LSTM\n",
    "from tensorflow.keras.preprocessing.sequence import pad_sequences"
   ]
  },
  {
   "cell_type": "code",
   "execution_count": 26,
   "id": "martial-deficit",
   "metadata": {},
   "outputs": [],
   "source": [
    "# 파라미터\n",
    "max_words = 35000\n",
    "max_len = 50\n",
    "batch_size=128\n",
    "epochs = 5"
   ]
  },
  {
   "cell_type": "code",
   "execution_count": 27,
   "id": "lovely-supply",
   "metadata": {},
   "outputs": [],
   "source": [
    "# 데이터 전처리\n",
    "# 토크나이징, 패딩(제로패딩)\n",
    "import numpy as np\n",
    "\n",
    "# 문서만 추출\n",
    "train_x = [doc for doc, _ in train]\n",
    "\n",
    "# 토크나이징\n",
    "tokenizer = Tokenizer(num_words=max_words)\n",
    "tokenizer.fit_on_texts(train_x)\n",
    "\n",
    "# 변환(LSTM모델의 입력값을 넣기 위해)\n",
    "x_train = tokenizer.texts_to_sequences(train_x)\n",
    "y_train = np.array([int(label) for _, label in train])\n",
    "\n",
    "x_test = tokenizer.texts_to_sequences([doc for doc, _ in test])\n",
    "y_test = np.array([int(label) for _, label in test])\n",
    "\n",
    "# 길이를 동일하게 맞추기\n",
    "x_train = pad_sequences(x_train, maxlen=max_len, padding='pre')\n",
    "x_test = pad_sequences(x_test, maxlen=max_len, padding='pre')\n",
    "\n",
    "# 학습가능한 형태로 변환\n",
    "train_ds = tf.data.Dataset.from_tensor_slices((x_train, y_train)).batch(batch_size)\n",
    "test_ds = tf.data.Dataset.from_tensor_slices((x_test, y_test)).batch(batch_size)"
   ]
  },
  {
   "cell_type": "code",
   "execution_count": 28,
   "id": "possible-symposium",
   "metadata": {},
   "outputs": [
    {
     "data": {
      "text/plain": [
       "<BatchDataset shapes: ((None, 50), (None,)), types: (tf.int32, tf.int32)>"
      ]
     },
     "execution_count": 28,
     "metadata": {},
     "output_type": "execute_result"
    }
   ],
   "source": [
    "train_ds"
   ]
  },
  {
   "cell_type": "code",
   "execution_count": 30,
   "id": "greatest-veteran",
   "metadata": {},
   "outputs": [],
   "source": [
    "# 모델 구현\n",
    "# 클래스로 구현하는 방법\n",
    "class MyLSTM(tf.keras.Model):\n",
    "    # 생성자\n",
    "    def __init__(self):\n",
    "        # 부모클래스의 생성자 호출\n",
    "        super().__init__()\n",
    "        self.emb = Embedding(max_words, 100)\n",
    "        self.lstm = LSTM(128, dropout=0.2, recurrent_dropout=0.2)\n",
    "        self.dense = Dense(1, activation='sigmoid')\n",
    "    \n",
    "    def call(self, x):\n",
    "        x = self.emb(x)\n",
    "        x = self.lstm(x)\n",
    "        x = self.dense(x)\n",
    "        return x"
   ]
  },
  {
   "cell_type": "code",
   "execution_count": 31,
   "id": "removed-detail",
   "metadata": {},
   "outputs": [],
   "source": [
    "# 모델객체 선언\n",
    "model = MyLSTM()"
   ]
  },
  {
   "cell_type": "code",
   "execution_count": 32,
   "id": "cubic-canberra",
   "metadata": {},
   "outputs": [],
   "source": [
    "# 모델설정\n",
    "model.compile(optimizer='adam', loss='binary_crossentropy', metrics=['acc'])"
   ]
  },
  {
   "cell_type": "code",
   "execution_count": 33,
   "id": "peripheral-archives",
   "metadata": {},
   "outputs": [],
   "source": [
    "# Early Stopping\n",
    "es = tf.keras.callbacks.EarlyStopping(monitor='val_loss',patience=3, verbose=1)\n",
    "# ModelCheckpoint\n",
    "mc = tf.keras.callbacks.ModelCheckpoint('nsmc_bestmodel.cp', monitor='val_loss', mode='min', save_best_only=True)"
   ]
  },
  {
   "cell_type": "code",
   "execution_count": 34,
   "id": "annual-addition",
   "metadata": {},
   "outputs": [
    {
     "name": "stdout",
     "output_type": "stream",
     "text": [
      "Epoch 1/5\n",
      "1142/1142 [==============================] - 229s 198ms/step - loss: 0.4694 - acc: 0.7623 - val_loss: 0.3937 - val_acc: 0.8177\n",
      "Epoch 2/5\n",
      "1142/1142 [==============================] - 222s 194ms/step - loss: 0.3468 - acc: 0.8463 - val_loss: 0.4008 - val_acc: 0.8188\n",
      "Epoch 3/5\n",
      "1142/1142 [==============================] - 225s 197ms/step - loss: 0.2970 - acc: 0.8708 - val_loss: 0.4292 - val_acc: 0.8146\n",
      "Epoch 4/5\n",
      "1142/1142 [==============================] - 229s 201ms/step - loss: 0.2481 - acc: 0.8946 - val_loss: 0.4785 - val_acc: 0.8082\n",
      "Epoch 00004: early stopping\n"
     ]
    }
   ],
   "source": [
    "# 학습\n",
    "history = model.fit(train_ds, validation_data=test_ds, epochs=epochs, batch_size=batch_size, callbacks=[es, mc])"
   ]
  },
  {
   "cell_type": "code",
   "execution_count": 35,
   "id": "swiss-facing",
   "metadata": {},
   "outputs": [
    {
     "name": "stdout",
     "output_type": "stream",
     "text": [
      "1524/1524 [==============================] - 14s 9ms/step - loss: 0.4785 - acc: 0.8082\n"
     ]
    },
    {
     "data": {
      "text/plain": [
       "[0.4785158634185791, 0.8081624507904053]"
      ]
     },
     "execution_count": 35,
     "metadata": {},
     "output_type": "execute_result"
    }
   ],
   "source": [
    "model.evaluate(x_test, y_test)"
   ]
  },
  {
   "cell_type": "code",
   "execution_count": 38,
   "id": "fifth-monster",
   "metadata": {},
   "outputs": [
    {
     "data": {
      "image/png": "[encoded data removed]",
      "text/plain": [
       "<Figure size 864x576 with 1 Axes>"
      ]
     },
     "metadata": {
      "needs_background": "light"
     },
     "output_type": "display_data"
    }
   ],
   "source": [
    "import matplotlib.pyplot as plt\n",
    "\n",
    "plt.figure(figsize=(12,8))\n",
    "plt.plot(history.history['loss'])\n",
    "plt.plot(history.history['val_loss'])\n",
    "plt.plot(history.history['acc'])\n",
    "plt.plot(history.history['val_acc'])\n",
    "plt.show()"
   ]
  },
  {
   "cell_type": "code",
   "execution_count": 59,
   "id": "educated-jaguar",
   "metadata": {},
   "outputs": [],
   "source": [
    "def predict_func(text):\n",
    "    text = preprocessing(text)\n",
    "    text = tokenizer.texts_to_sequences([text])\n",
    "    text = pad_sequences(text, maxlen=max_len, padding='pre')\n",
    "    print((model.predict(text)))"
   ]
  },
  {
   "cell_type": "code",
   "execution_count": 60,
   "id": "surprising-bernard",
   "metadata": {},
   "outputs": [
    {
     "name": "stdout",
     "output_type": "stream",
     "text": [
      "[[0.90556854]]\n"
     ]
    }
   ],
   "source": [
    "predict_func('너무 좋아요')"
   ]
  }
 ],
 "metadata": {
  "kernelspec": {
   "display_name": "Python 3",
   "language": "python",
   "name": "python3"
  },
  "language_info": {
   "codemirror_mode": {
    "name": "ipython",
    "version": 3
   },
   "file_extension": ".py",
   "mimetype": "text/x-python",
   "name": "python",
   "nbconvert_exporter": "python",
   "pygments_lexer": "ipython3",
   "version": "3.8.5"
  }
 },
 "nbformat": 4,
 "nbformat_minor": 5
}
