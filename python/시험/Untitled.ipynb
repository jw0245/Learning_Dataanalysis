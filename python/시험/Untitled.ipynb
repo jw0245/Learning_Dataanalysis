{
 "cells": [
  {
   "cell_type": "code",
   "execution_count": null,
   "metadata": {},
   "outputs": [],
   "source": [
    "check1 = 1\n",
    "\n",
    "check2 = 0\n",
    "\n",
    "check3 = 0\n",
    "\n",
    "check4 = 1"
   ]
  },
  {
   "cell_type": "code",
   "execution_count": null,
   "metadata": {},
   "outputs": [],
   "source": [
    "print(bool(check1))\n",
    "print(bool(check2))\n",
    "print(bool(check3))\n",
    "print(bool(check4))"
   ]
  },
  {
   "cell_type": "code",
   "execution_count": null,
   "metadata": {},
   "outputs": [],
   "source": [
    "'''\n",
    "사용자에게 나이(변수명 : age)를 입력받은 후, 아래의 운임요금(변수명 : fare) 기준에 맞게 버스 요금을 계산해주세요.\n",
    "\n",
    "7세 이하 : 0원\n",
    "\n",
    "8세 이상 ~ 20세 이하 : 700원\n",
    "\n",
    "21세 이상 : 1200원\n",
    "\n",
    " \n",
    "\n",
    "age = int(input('나이를 입력하세요'))\n",
    "\n",
    "fare = 0\n",
    "\n",
    "# 코드 작성\n",
    "\n",
    " \n",
    "\n",
    "'버스요금은 {}원 입니다.'.format(fare)\n",
    "'''"
   ]
  },
  {
   "cell_type": "code",
   "execution_count": null,
   "metadata": {},
   "outputs": [],
   "source": [
    "age = int(input('나이를 입력하세요'))\n",
    "fare = 0\n",
    "if(age<=7):\n",
    "    fare = 0\n",
    "elif(age<=20):\n",
    "    fare = 700\n",
    "else:\n",
    "    fare = 1200\n",
    "print('버스요금은 {}원 입니다.'.format(fare))"
   ]
  },
  {
   "cell_type": "code",
   "execution_count": null,
   "metadata": {},
   "outputs": [],
   "source": [
    "'''accounts 라는 딕셔너리의 잔액 (value) 을 total 이라는 변수에 모두 더하여 출력해주세요.\n",
    "\n",
    " \n",
    "\n",
    "accounts = {\"A계좌\": 2322000, \"B계좌\": 34443000, \"C계좌\": 6888000}\n",
    "\n",
    "# 코드 작성란\n",
    "\n",
    "total = 0\n",
    "\n",
    " \n",
    "\n",
    "# 출력\n",
    "\n",
    "print(total)\n",
    "'''"
   ]
  },
  {
   "cell_type": "code",
   "execution_count": null,
   "metadata": {},
   "outputs": [],
   "source": [
    "accounts = {\"A계좌\": 2322000, \"B계좌\": 34443000, \"C계좌\": 6888000}\n",
    "total = 0\n",
    "values_accounts = list(accounts.values())\n",
    "for i in values_accounts :\n",
    "    total +=i\n",
    "print(total)"
   ]
  },
  {
   "cell_type": "code",
   "execution_count": null,
   "metadata": {},
   "outputs": [],
   "source": [
    "'''\n",
    "\t\n",
    "아래 리스트 요소 중에 '음수' 가 있다면 0 으로 바꿔주는 코드를 List Comprehension 으로 작성하시오.\n",
    "\n",
    " \n",
    "\n",
    "numbers = [100, 200, -100, -50, 400, 700]\n",
    "\n",
    "# 코드 작성\n",
    "\n",
    " \n",
    "\n",
    "# 출력\n",
    "\n",
    "print(results)\n",
    "\n",
    "[100, 200, 0, 0, 400, 700]\n",
    "'''"
   ]
  },
  {
   "cell_type": "code",
   "execution_count": null,
   "metadata": {},
   "outputs": [],
   "source": [
    "numbers = [100, 200, -100, -50, 400, 700]\n",
    "result = [ v if v > 0 else abs(v) for v in numbers]\n",
    "print(result)"
   ]
  },
  {
   "cell_type": "code",
   "execution_count": null,
   "metadata": {},
   "outputs": [],
   "source": [
    "'''\n",
    "아래 함수를 lambda 함수로 구현하시오.\n",
    "\n",
    " \n",
    "\n",
    "def add(num):\n",
    "\n",
    "  return num + 10\n",
    "\n",
    "print(add(5))\n",
    "\n",
    " \n",
    "\n",
    "# 코드 작성\n",
    "\n",
    " \n",
    "\n",
    "print(add_lambda(5))\n",
    "\n",
    "15\n",
    "'''"
   ]
  },
  {
   "cell_type": "code",
   "execution_count": null,
   "metadata": {},
   "outputs": [],
   "source": [
    "add_lambda = lambda x : x+10\n",
    "print(add_lambda(5))"
   ]
  },
  {
   "cell_type": "code",
   "execution_count": null,
   "metadata": {},
   "outputs": [],
   "source": [
    "'''\n",
    "아래 함수 \"더하기\", \"곱하기\" 를 계산해주는 함수를 callback function 으로 구현\n",
    "\n",
    " \n",
    "\n",
    "def calc(option, num1 = 100, num2 = 100):\n",
    "\n",
    "    if option == \"더하기\":\n",
    "\n",
    "      total = num1 + num2\n",
    "\n",
    "  elif option == \"곱하기\":\n",
    "\n",
    "    total = num1 * num2\n",
    "\n",
    "return total\n",
    "\n",
    " \n",
    "\n",
    "* \"더하기\" 는 add(), \"곱하기\" 는 mul() 라는 이름의 함수로 생성\n",
    "\n",
    "* 실제 사용자가 더하기 혹은 곱하기 계산을 시키기 위해 사용할 함수 이름은 calc()\n",
    "\n",
    "* 위 샘플 함수처럼 숫자값을 입력하지 않으면 기본적으로 각각 100 을 할당\n",
    "\n",
    " \n",
    "\n",
    "# 출력 예)\n",
    "\n",
    "calc(add)\n",
    "\n",
    "200\n",
    "\n",
    " \n",
    "\n",
    "calc(mul, 3, 3)\n",
    "\n",
    "9\n",
    "\n",
    "'''"
   ]
  },
  {
   "cell_type": "code",
   "execution_count": 10,
   "metadata": {},
   "outputs": [],
   "source": [
    "def calc(func,a=100,b=100):    \n",
    "    return func(a,b)\n",
    "def add(a,b):\n",
    "    return a+b\n",
    "def mul(a,b):\n",
    "    return a*b"
   ]
  },
  {
   "cell_type": "code",
   "execution_count": 13,
   "metadata": {},
   "outputs": [
    {
     "data": {
      "text/plain": [
       "9"
      ]
     },
     "execution_count": 13,
     "metadata": {},
     "output_type": "execute_result"
    }
   ],
   "source": [
    "calc(add)\n",
    "calc(mul,3,3)"
   ]
  },
  {
   "cell_type": "code",
   "execution_count": 7,
   "metadata": {},
   "outputs": [
    {
     "name": "stdout",
     "output_type": "stream",
     "text": [
      "3 9 15 21 27 33 39 45 51 57 63 69 75 81 87 93 99 \n",
      "누적합은 867입니다.\n"
     ]
    }
   ],
   "source": [
    "n=3\n",
    "i=1\n",
    "total = 0\n",
    "while n<=100:\n",
    "    n=i*3\n",
    "    if n%2:\n",
    "        print(n, end=' ')\n",
    "        total += n\n",
    "    i += 1\n",
    "print('')\n",
    "print('누적합은 {}입니다.'.format(total))"
   ]
  },
  {
   "cell_type": "code",
   "execution_count": 8,
   "metadata": {},
   "outputs": [
    {
     "data": {
      "text/plain": [
       "0"
      ]
     },
     "execution_count": 8,
     "metadata": {},
     "output_type": "execute_result"
    }
   ],
   "source": [
    "10%2"
   ]
  },
  {
   "cell_type": "markdown",
   "metadata": {},
   "source": [
    "'''\n",
    "'''text = '''안녕하세요, 반갑습니다.\n",
    "\n",
    "모두 열심히 공부하고 계시죠?\n",
    "\n",
    "다들 좋은 결과 있길 바래요.'''\n",
    "\n",
    " \n",
    "\n",
    "출력예)\n",
    "\n",
    "안녕하세요,\n",
    "\n",
    "반갑습니다.\n",
    "\n",
    "모두\n",
    "\n",
    "열심히\n",
    "\n",
    "공부하고\n",
    "\n",
    "계시죠?\n",
    "\n",
    "다들\n",
    "\n",
    "좋은\n",
    "\n",
    "결과\n",
    "\n",
    "있길\n",
    "\n",
    "바래요.\n",
    "\n",
    "단어 개수:11\n",
    "'''"
   ]
  },
  {
   "cell_type": "code",
   "execution_count": 36,
   "metadata": {},
   "outputs": [
    {
     "data": {
      "text/plain": [
       "str"
      ]
     },
     "execution_count": 36,
     "metadata": {},
     "output_type": "execute_result"
    }
   ],
   "source": [
    "text = '''안녕하세요, 반갑습니다.\n",
    "\n",
    "모두 열심히 공부하고 계시죠?\n",
    "\n",
    "다들 좋은 결과 있길 바래요.'''\n",
    "type(text)"
   ]
  },
  {
   "cell_type": "code",
   "execution_count": 54,
   "metadata": {},
   "outputs": [
    {
     "name": "stdout",
     "output_type": "stream",
     "text": [
      "안녕하세요,\n",
      "반갑습니다.\n",
      "모두\n",
      "열심히\n",
      "공부하고\n",
      "계시죠?\n",
      "다들\n",
      "좋은\n",
      "결과\n",
      "있길\n",
      "바래요.\n",
      "단어 개수: 11\n"
     ]
    }
   ],
   "source": [
    "word = []\n",
    "word_split = []\n",
    "word_enter=text.split('\\n\\n')\n",
    "idx = 0\n",
    "for v in word_enter:\n",
    "    word_split.append(v.split(' '))\n",
    "    for i in word_split[idx]:\n",
    "        word.append(i)\n",
    "    idx +=1\n",
    "for v in word:\n",
    "    print(v)\n",
    "print(\"단어 개수:\",len(word))\n",
    "\n",
    "\n"
   ]
  },
  {
   "cell_type": "markdown",
   "metadata": {},
   "source": [
    "아래 DataFrame 에서 3번째 행 을 출력하는 코드를 작성하시오.\n",
    "\n",
    " \n",
    "\n",
    "import pandas as pd\n",
    "\n",
    "df = pd.DataFrame({\n",
    "\n",
    "    'Name': ['Huh', 'Jo', 'Park', 'Maeng'],\n",
    "\n",
    "    'Date': [pd.Timestamp('20130102'), pd.Timestamp('20170612'), pd.Timestamp('20180311'), pd.Timestamp('20191022')],\n",
    "\n",
    "    'Email': ['huh@gmail.com', 'jojo@daum.net', 'park@naver.com', 'maeng@hotmail.com'],\n",
    "\n",
    "    'Score': [70, 99, 66, 43]                                                                 \n",
    "\n",
    "})\n",
    "\n",
    " \n",
    "\n",
    " \n",
    "\n",
    "# 출력예\n",
    "\n",
    "Name Park\n",
    "\n",
    "Date 2018-03-11 00:00:00\n",
    "\n",
    "Email park@naver.com\n",
    "\n",
    "Score 66\n",
    "\n",
    "Name: 2, dtype: object"
   ]
  },
  {
   "cell_type": "code",
   "execution_count": 73,
   "metadata": {},
   "outputs": [],
   "source": [
    "import pandas as pd\n",
    "\n",
    "df = pd.DataFrame({\n",
    "\n",
    "    'Name': ['Huh', 'Jo', 'Park', 'Maeng'],\n",
    "\n",
    "    'Date': [pd.Timestamp('20130102'), pd.Timestamp('20170612'), pd.Timestamp('20180311'), pd.Timestamp('20191022')],\n",
    "\n",
    "    'Email': ['huh@gmail.com', 'jojo@daum.net', 'park@naver.com', 'maeng@hotmail.com'],\n",
    "\n",
    "    'Score': [70, 99, 66, 43]                                                                 \n",
    "\n",
    "})"
   ]
  },
  {
   "cell_type": "code",
   "execution_count": 116,
   "metadata": {},
   "outputs": [
    {
     "data": {
      "text/html": [
       "<div>\n",
       "<style scoped>\n",
       "    .dataframe tbody tr th:only-of-type {\n",
       "        vertical-align: middle;\n",
       "    }\n",
       "\n",
       "    .dataframe tbody tr th {\n",
       "        vertical-align: top;\n",
       "    }\n",
       "\n",
       "    .dataframe thead th {\n",
       "        text-align: right;\n",
       "    }\n",
       "</style>\n",
       "<table border=\"1\" class=\"dataframe\">\n",
       "  <thead>\n",
       "    <tr style=\"text-align: right;\">\n",
       "      <th></th>\n",
       "      <th>Name</th>\n",
       "      <th>Date</th>\n",
       "      <th>Email</th>\n",
       "      <th>Score</th>\n",
       "    </tr>\n",
       "  </thead>\n",
       "  <tbody>\n",
       "    <tr>\n",
       "      <th>0</th>\n",
       "      <td>Huh</td>\n",
       "      <td>2013-01-02</td>\n",
       "      <td>huh@gmail.com</td>\n",
       "      <td>70</td>\n",
       "    </tr>\n",
       "    <tr>\n",
       "      <th>1</th>\n",
       "      <td>Jo</td>\n",
       "      <td>2017-06-12</td>\n",
       "      <td>jojo@daum.net</td>\n",
       "      <td>99</td>\n",
       "    </tr>\n",
       "    <tr>\n",
       "      <th>2</th>\n",
       "      <td>Park</td>\n",
       "      <td>2018-03-11</td>\n",
       "      <td>park@naver.com</td>\n",
       "      <td>66</td>\n",
       "    </tr>\n",
       "    <tr>\n",
       "      <th>3</th>\n",
       "      <td>Maeng</td>\n",
       "      <td>2019-10-22</td>\n",
       "      <td>maeng@hotmail.com</td>\n",
       "      <td>43</td>\n",
       "    </tr>\n",
       "  </tbody>\n",
       "</table>\n",
       "</div>"
      ],
      "text/plain": [
       "    Name       Date              Email  Score\n",
       "0    Huh 2013-01-02      huh@gmail.com     70\n",
       "1     Jo 2017-06-12      jojo@daum.net     99\n",
       "2   Park 2018-03-11     park@naver.com     66\n",
       "3  Maeng 2019-10-22  maeng@hotmail.com     43"
      ]
     },
     "execution_count": 116,
     "metadata": {},
     "output_type": "execute_result"
    }
   ],
   "source": [
    "df"
   ]
  },
  {
   "cell_type": "code",
   "execution_count": 117,
   "metadata": {},
   "outputs": [
    {
     "data": {
      "text/plain": [
       "Name                    Park\n",
       "Date     2018-03-11 00:00:00\n",
       "Email         park@naver.com\n",
       "Score                     66\n",
       "Name: 2, dtype: object"
      ]
     },
     "execution_count": 117,
     "metadata": {},
     "output_type": "execute_result"
    }
   ],
   "source": [
    "df.iloc[2]"
   ]
  },
  {
   "cell_type": "code",
   "execution_count": 121,
   "metadata": {},
   "outputs": [],
   "source": [
    "import pandas as pd\n",
    "\n",
    "score_dict = {\n",
    "\n",
    "  \"Name\": [\"A\", \"B\", \"B\", \"A\", \"A\", \"A\", \"B\"],\n",
    "\n",
    "  \"Score\": [30, 60, 70, 40, 80, 20, 75]\n",
    "\n",
    "}\n",
    "\n",
    "df_score = pd.DataFrame(score_dict)"
   ]
  },
  {
   "cell_type": "code",
   "execution_count": 132,
   "metadata": {},
   "outputs": [
    {
     "data": {
      "text/html": [
       "<div>\n",
       "<style scoped>\n",
       "    .dataframe tbody tr th:only-of-type {\n",
       "        vertical-align: middle;\n",
       "    }\n",
       "\n",
       "    .dataframe tbody tr th {\n",
       "        vertical-align: top;\n",
       "    }\n",
       "\n",
       "    .dataframe thead th {\n",
       "        text-align: right;\n",
       "    }\n",
       "</style>\n",
       "<table border=\"1\" class=\"dataframe\">\n",
       "  <thead>\n",
       "    <tr style=\"text-align: right;\">\n",
       "      <th></th>\n",
       "      <th>Name</th>\n",
       "      <th>Score</th>\n",
       "    </tr>\n",
       "  </thead>\n",
       "  <tbody>\n",
       "    <tr>\n",
       "      <th>0</th>\n",
       "      <td>A</td>\n",
       "      <td>30</td>\n",
       "    </tr>\n",
       "    <tr>\n",
       "      <th>1</th>\n",
       "      <td>B</td>\n",
       "      <td>60</td>\n",
       "    </tr>\n",
       "    <tr>\n",
       "      <th>2</th>\n",
       "      <td>B</td>\n",
       "      <td>70</td>\n",
       "    </tr>\n",
       "    <tr>\n",
       "      <th>3</th>\n",
       "      <td>A</td>\n",
       "      <td>40</td>\n",
       "    </tr>\n",
       "    <tr>\n",
       "      <th>4</th>\n",
       "      <td>A</td>\n",
       "      <td>80</td>\n",
       "    </tr>\n",
       "    <tr>\n",
       "      <th>5</th>\n",
       "      <td>A</td>\n",
       "      <td>20</td>\n",
       "    </tr>\n",
       "    <tr>\n",
       "      <th>6</th>\n",
       "      <td>B</td>\n",
       "      <td>75</td>\n",
       "    </tr>\n",
       "  </tbody>\n",
       "</table>\n",
       "</div>"
      ],
      "text/plain": [
       "  Name  Score\n",
       "0    A     30\n",
       "1    B     60\n",
       "2    B     70\n",
       "3    A     40\n",
       "4    A     80\n",
       "5    A     20\n",
       "6    B     75"
      ]
     },
     "execution_count": 132,
     "metadata": {},
     "output_type": "execute_result"
    }
   ],
   "source": [
    "df_score"
   ]
  },
  {
   "cell_type": "code",
   "execution_count": 140,
   "metadata": {},
   "outputs": [],
   "source": [
    "A = df_score[df_score.Name == 'A']\n",
    "B = df_score[df_score.Name == 'B']"
   ]
  },
  {
   "cell_type": "code",
   "execution_count": 144,
   "metadata": {},
   "outputs": [],
   "source": [
    "A_avg = A['Score'].mean()\n",
    "B_avg = B['Score'].mean()\n",
    "Avg_dict = {\n",
    "\n",
    "  \"Name\": [\"A\", \"B\"],\n",
    "\n",
    "  \"Score\": [A_avg, B_avg]\n",
    "\n",
    "}\n",
    "df_avg = pd.DataFrame(Avg_dict)"
   ]
  },
  {
   "cell_type": "code",
   "execution_count": 145,
   "metadata": {},
   "outputs": [
    {
     "data": {
      "text/html": [
       "<div>\n",
       "<style scoped>\n",
       "    .dataframe tbody tr th:only-of-type {\n",
       "        vertical-align: middle;\n",
       "    }\n",
       "\n",
       "    .dataframe tbody tr th {\n",
       "        vertical-align: top;\n",
       "    }\n",
       "\n",
       "    .dataframe thead th {\n",
       "        text-align: right;\n",
       "    }\n",
       "</style>\n",
       "<table border=\"1\" class=\"dataframe\">\n",
       "  <thead>\n",
       "    <tr style=\"text-align: right;\">\n",
       "      <th></th>\n",
       "      <th>Name</th>\n",
       "      <th>Score</th>\n",
       "    </tr>\n",
       "  </thead>\n",
       "  <tbody>\n",
       "    <tr>\n",
       "      <th>0</th>\n",
       "      <td>A</td>\n",
       "      <td>42.500000</td>\n",
       "    </tr>\n",
       "    <tr>\n",
       "      <th>1</th>\n",
       "      <td>B</td>\n",
       "      <td>68.333333</td>\n",
       "    </tr>\n",
       "  </tbody>\n",
       "</table>\n",
       "</div>"
      ],
      "text/plain": [
       "  Name      Score\n",
       "0    A  42.500000\n",
       "1    B  68.333333"
      ]
     },
     "execution_count": 145,
     "metadata": {},
     "output_type": "execute_result"
    }
   ],
   "source": [
    "df_avg "
   ]
  },
  {
   "cell_type": "code",
   "execution_count": 137,
   "metadata": {},
   "outputs": [],
   "source": [
    "import pandas as pd\n",
    "data = {'name': ['Oliver', 'Harry', 'George', 'Noah'],\n",
    "        'percentage': [90, 99, 50, 65],\n",
    "        'grade': [88, 76, 95, 79]}\n",
    "df = pd.DataFrame(data)"
   ]
  },
  {
   "cell_type": "code",
   "execution_count": 138,
   "metadata": {},
   "outputs": [
    {
     "data": {
      "text/html": [
       "<div>\n",
       "<style scoped>\n",
       "    .dataframe tbody tr th:only-of-type {\n",
       "        vertical-align: middle;\n",
       "    }\n",
       "\n",
       "    .dataframe tbody tr th {\n",
       "        vertical-align: top;\n",
       "    }\n",
       "\n",
       "    .dataframe thead th {\n",
       "        text-align: right;\n",
       "    }\n",
       "</style>\n",
       "<table border=\"1\" class=\"dataframe\">\n",
       "  <thead>\n",
       "    <tr style=\"text-align: right;\">\n",
       "      <th></th>\n",
       "      <th>name</th>\n",
       "      <th>percentage</th>\n",
       "      <th>grade</th>\n",
       "    </tr>\n",
       "  </thead>\n",
       "  <tbody>\n",
       "    <tr>\n",
       "      <th>0</th>\n",
       "      <td>Oliver</td>\n",
       "      <td>90</td>\n",
       "      <td>88</td>\n",
       "    </tr>\n",
       "    <tr>\n",
       "      <th>1</th>\n",
       "      <td>Harry</td>\n",
       "      <td>99</td>\n",
       "      <td>76</td>\n",
       "    </tr>\n",
       "    <tr>\n",
       "      <th>2</th>\n",
       "      <td>George</td>\n",
       "      <td>50</td>\n",
       "      <td>95</td>\n",
       "    </tr>\n",
       "    <tr>\n",
       "      <th>3</th>\n",
       "      <td>Noah</td>\n",
       "      <td>65</td>\n",
       "      <td>79</td>\n",
       "    </tr>\n",
       "  </tbody>\n",
       "</table>\n",
       "</div>"
      ],
      "text/plain": [
       "     name  percentage  grade\n",
       "0  Oliver          90     88\n",
       "1   Harry          99     76\n",
       "2  George          50     95\n",
       "3    Noah          65     79"
      ]
     },
     "execution_count": 138,
     "metadata": {},
     "output_type": "execute_result"
    }
   ],
   "source": [
    "df"
   ]
  }
 ],
 "metadata": {
  "kernelspec": {
   "display_name": "Python 3",
   "language": "python",
   "name": "python3"
  },
  "language_info": {
   "codemirror_mode": {
    "name": "ipython",
    "version": 3
   },
   "file_extension": ".py",
   "mimetype": "text/x-python",
   "name": "python",
   "nbconvert_exporter": "python",
   "pygments_lexer": "ipython3",
   "version": "3.8.5"
  }
 },
 "nbformat": 4,
 "nbformat_minor": 4
}
