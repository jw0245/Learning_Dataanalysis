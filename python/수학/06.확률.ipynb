{
 "cells": [
  {
   "cell_type": "code",
   "execution_count": 1,
   "metadata": {},
   "outputs": [],
   "source": [
    "import numpy as np\n",
    "import matplotlib.pyplot as plt"
   ]
  },
  {
   "cell_type": "code",
   "execution_count": 2,
   "metadata": {},
   "outputs": [
    {
     "data": {
      "text/plain": [
       "set"
      ]
     },
     "execution_count": 2,
     "metadata": {},
     "output_type": "execute_result"
    }
   ],
   "source": [
    "# 집합자료형\n",
    "A = {1,2,3}\n",
    "type(A)"
   ]
  },
  {
   "cell_type": "code",
   "execution_count": 3,
   "metadata": {},
   "outputs": [
    {
     "data": {
      "text/plain": [
       "{1, 2, 3}"
      ]
     },
     "execution_count": 3,
     "metadata": {},
     "output_type": "execute_result"
    }
   ],
   "source": [
    "A = {1,2,3,1}\n",
    "A"
   ]
  },
  {
   "cell_type": "code",
   "execution_count": 4,
   "metadata": {},
   "outputs": [
    {
     "data": {
      "text/plain": [
       "[1, 2, 3, 1]"
      ]
     },
     "execution_count": 4,
     "metadata": {},
     "output_type": "execute_result"
    }
   ],
   "source": [
    "b = [1,2,3,1]\n",
    "b"
   ]
  },
  {
   "cell_type": "code",
   "execution_count": 5,
   "metadata": {},
   "outputs": [
    {
     "data": {
      "text/plain": [
       "{1, 2, 3}"
      ]
     },
     "execution_count": 5,
     "metadata": {},
     "output_type": "execute_result"
    }
   ],
   "source": [
    "set(b)"
   ]
  },
  {
   "cell_type": "code",
   "execution_count": 7,
   "metadata": {},
   "outputs": [
    {
     "data": {
      "text/plain": [
       "{'A': 1}"
      ]
     },
     "execution_count": 7,
     "metadata": {},
     "output_type": "execute_result"
    }
   ],
   "source": [
    "{'A':1}"
   ]
  },
  {
   "cell_type": "code",
   "execution_count": 8,
   "metadata": {},
   "outputs": [
    {
     "data": {
      "text/plain": [
       "frozenset({1, 2, 3})"
      ]
     },
     "execution_count": 8,
     "metadata": {},
     "output_type": "execute_result"
    }
   ],
   "source": [
    "B = frozenset(A)\n",
    "B"
   ]
  },
  {
   "cell_type": "code",
   "execution_count": 9,
   "metadata": {},
   "outputs": [
    {
     "data": {
      "text/plain": [
       "{frozenset({1, 2, 3}): 1}"
      ]
     },
     "execution_count": 9,
     "metadata": {},
     "output_type": "execute_result"
    }
   ],
   "source": [
    "{B:1} # 딕셔너리의 키로 사용 가능(immutable)"
   ]
  },
  {
   "cell_type": "code",
   "execution_count": 10,
   "metadata": {},
   "outputs": [
    {
     "data": {
      "text/plain": [
       "{1, 2, 3, 4, 6, 8}"
      ]
     },
     "execution_count": 10,
     "metadata": {},
     "output_type": "execute_result"
    }
   ],
   "source": [
    "# 합집합\n",
    "A = {1,2,3,4}\n",
    "B = {2,4,6,8}\n",
    "A.union(B)"
   ]
  },
  {
   "cell_type": "code",
   "execution_count": 11,
   "metadata": {},
   "outputs": [
    {
     "data": {
      "text/plain": [
       "{1, 2, 3, 4, 6, 8}"
      ]
     },
     "execution_count": 11,
     "metadata": {},
     "output_type": "execute_result"
    }
   ],
   "source": [
    "A | B"
   ]
  },
  {
   "cell_type": "code",
   "execution_count": 13,
   "metadata": {},
   "outputs": [
    {
     "data": {
      "text/plain": [
       "({2, 4}, {2, 4})"
      ]
     },
     "execution_count": 13,
     "metadata": {},
     "output_type": "execute_result"
    }
   ],
   "source": [
    "# 교집합\n",
    "A.intersection(B), A & B"
   ]
  },
  {
   "cell_type": "code",
   "execution_count": 15,
   "metadata": {},
   "outputs": [
    {
     "data": {
      "text/plain": [
       "(True, False)"
      ]
     },
     "execution_count": 15,
     "metadata": {},
     "output_type": "execute_result"
    }
   ],
   "source": [
    "# 부분집합\n",
    "A1 = {1,3}\n",
    "# A1이 A의 부분집합이냐\n",
    "A1.issubset(A), A1.issubset(B)"
   ]
  },
  {
   "cell_type": "code",
   "execution_count": 16,
   "metadata": {},
   "outputs": [
    {
     "data": {
      "text/plain": [
       "True"
      ]
     },
     "execution_count": 16,
     "metadata": {},
     "output_type": "execute_result"
    }
   ],
   "source": [
    "A1 <= A"
   ]
  },
  {
   "cell_type": "code",
   "execution_count": 17,
   "metadata": {},
   "outputs": [
    {
     "data": {
      "text/plain": [
       "True"
      ]
     },
     "execution_count": 17,
     "metadata": {},
     "output_type": "execute_result"
    }
   ],
   "source": [
    "A <= A"
   ]
  },
  {
   "cell_type": "code",
   "execution_count": 18,
   "metadata": {},
   "outputs": [
    {
     "data": {
      "text/plain": [
       "False"
      ]
     },
     "execution_count": 18,
     "metadata": {},
     "output_type": "execute_result"
    }
   ],
   "source": [
    "# 진부분집합\n",
    "A < A"
   ]
  },
  {
   "cell_type": "code",
   "execution_count": 19,
   "metadata": {},
   "outputs": [
    {
     "data": {
      "text/plain": [
       "({1, 3}, {1, 3})"
      ]
     },
     "execution_count": 19,
     "metadata": {},
     "output_type": "execute_result"
    }
   ],
   "source": [
    "# 차집합\n",
    "A.difference(B), A - B"
   ]
  },
  {
   "cell_type": "code",
   "execution_count": 20,
   "metadata": {},
   "outputs": [
    {
     "data": {
      "text/plain": [
       "set()"
      ]
     },
     "execution_count": 20,
     "metadata": {},
     "output_type": "execute_result"
    }
   ],
   "source": [
    "# 공집합\n",
    "e = set()\n",
    "e"
   ]
  },
  {
   "cell_type": "code",
   "execution_count": 21,
   "metadata": {},
   "outputs": [
    {
     "data": {
      "text/plain": [
       "True"
      ]
     },
     "execution_count": 21,
     "metadata": {},
     "output_type": "execute_result"
    }
   ],
   "source": [
    "e < A # 부분집합인지"
   ]
  },
  {
   "cell_type": "code",
   "execution_count": 22,
   "metadata": {},
   "outputs": [
    {
     "data": {
      "text/plain": [
       "set()"
      ]
     },
     "execution_count": 22,
     "metadata": {},
     "output_type": "execute_result"
    }
   ],
   "source": [
    "e & A # 교집합"
   ]
  },
  {
   "cell_type": "code",
   "execution_count": 23,
   "metadata": {},
   "outputs": [
    {
     "data": {
      "text/plain": [
       "{1, 2, 3, 4}"
      ]
     },
     "execution_count": 23,
     "metadata": {},
     "output_type": "execute_result"
    }
   ],
   "source": [
    "e | A # 합집합"
   ]
  },
  {
   "cell_type": "code",
   "execution_count": 24,
   "metadata": {},
   "outputs": [],
   "source": [
    "A = {1,3,5}\n",
    "B = {1,2,3}\n",
    "C = {2,4,6}"
   ]
  },
  {
   "cell_type": "code",
   "execution_count": 25,
   "metadata": {},
   "outputs": [
    {
     "data": {
      "text/plain": [
       "True"
      ]
     },
     "execution_count": 25,
     "metadata": {},
     "output_type": "execute_result"
    }
   ],
   "source": [
    "# 분배법칙\n",
    "A | (B & C) == (A|B) & (A|C)"
   ]
  },
  {
   "cell_type": "code",
   "execution_count": 26,
   "metadata": {},
   "outputs": [
    {
     "data": {
      "text/plain": [
       "True"
      ]
     },
     "execution_count": 26,
     "metadata": {},
     "output_type": "execute_result"
    }
   ],
   "source": [
    "A & (B|C) == (A&B) | (A&C)"
   ]
  },
  {
   "cell_type": "code",
   "execution_count": 30,
   "metadata": {},
   "outputs": [
    {
     "data": {
      "text/plain": [
       "(frozenset(), frozenset({'H'}), frozenset({'T'}), frozenset({'H', 'T'}))"
      ]
     },
     "execution_count": 30,
     "metadata": {},
     "output_type": "execute_result"
    }
   ],
   "source": [
    "# 동전던지기의 모든 부분집합\n",
    "A = frozenset({})\n",
    "B = frozenset({'H'})\n",
    "C = frozenset({'T'})\n",
    "D = frozenset({'H','T'})\n",
    "A,B,C,D"
   ]
  },
  {
   "cell_type": "code",
   "execution_count": 31,
   "metadata": {},
   "outputs": [
    {
     "data": {
      "text/plain": [
       "{frozenset(), frozenset({'H'}), frozenset({'T'}), frozenset({'H', 'T'})}"
      ]
     },
     "execution_count": 31,
     "metadata": {},
     "output_type": "execute_result"
    }
   ],
   "source": [
    "set([A,B,C,D])"
   ]
  },
  {
   "cell_type": "code",
   "execution_count": 35,
   "metadata": {},
   "outputs": [
    {
     "name": "stdout",
     "output_type": "stream",
     "text": [
      "0.06944444444444445\n"
     ]
    }
   ],
   "source": [
    "'''\n",
    "A : 두 주사위의 합의 8이상 \n",
    "- 2,6/3,5/3,6/4,4/4,5/4,6/5,3/5,4/5,5/5,6/6,2/6,3/6,4/6,5/6,6\n",
    "- 2,6/3,5/3,6/4,4/4,5/4,6/5,5/6,6\n",
    "15개 15/36 - 5/12\n",
    "B : 5가 나옴 : 1/6\n",
    "'''\n",
    "# 결합확률\n",
    "print((5/12) * (1/6))\n",
    "\n",
    "# 조건부확률\n"
   ]
  },
  {
   "cell_type": "code",
   "execution_count": 33,
   "metadata": {},
   "outputs": [
    {
     "data": {
      "text/plain": [
       "0.4166666666666667"
      ]
     },
     "execution_count": 33,
     "metadata": {},
     "output_type": "execute_result"
    }
   ],
   "source": [
    "(5/12) * (1/6) / (1/6)"
   ]
  },
  {
   "cell_type": "code",
   "execution_count": 34,
   "metadata": {},
   "outputs": [
    {
     "data": {
      "text/plain": [
       "0.6666666666666666"
      ]
     },
     "execution_count": 34,
     "metadata": {},
     "output_type": "execute_result"
    }
   ],
   "source": [
    "4/6"
   ]
  },
  {
   "cell_type": "code",
   "execution_count": 36,
   "metadata": {},
   "outputs": [
    {
     "data": {
      "text/plain": [
       "0.1111111111111111"
      ]
     },
     "execution_count": 36,
     "metadata": {},
     "output_type": "execute_result"
    }
   ],
   "source": [
    "#B : 1/6\n",
    "#A : 4/6\n",
    "1/6 * 4/6 # 1/9"
   ]
  },
  {
   "cell_type": "code",
   "execution_count": 38,
   "metadata": {},
   "outputs": [
    {
     "data": {
      "text/plain": [
       "0.6666666666666666"
      ]
     },
     "execution_count": 38,
     "metadata": {},
     "output_type": "execute_result"
    }
   ],
   "source": [
    "(1/9) / (1/6)"
   ]
  },
  {
   "cell_type": "code",
   "execution_count": 2,
   "metadata": {},
   "outputs": [],
   "source": [
    "import scipy as sp\n",
    "import scipy.stats"
   ]
  },
  {
   "cell_type": "code",
   "execution_count": 5,
   "metadata": {
    "collapsed": true
   },
   "outputs": [
    {
     "data": {
      "image/png": "[encoded data removed]",
      "text/plain": [
       "<Figure size 432x288 with 1 Axes>"
      ]
     },
     "metadata": {
      "needs_background": "light"
     },
     "output_type": "display_data"
    }
   ],
   "source": [
    "# 베르누이 시행(분포)\n",
    "# 확률\n",
    "m = 0.5\n",
    "r = sp.stats.bernoulli(m)\n",
    "\n",
    "x = [0,1]\n",
    "# pmf (probability mass function) : 확률질량함수(이산형확률변수)\n",
    "# pdf (probability density function) : 확률밀도함수(연속형확률변수)\n",
    "y = r.pmf(x)\n",
    "plt.bar(x, y)\n",
    "plt.show()"
   ]
  },
  {
   "cell_type": "code",
   "execution_count": 6,
   "metadata": {
    "collapsed": true
   },
   "outputs": [
    {
     "data": {
      "image/png": "[encoded data removed]",
      "text/plain": [
       "<Figure size 432x288 with 1 Axes>"
      ]
     },
     "metadata": {
      "needs_background": "light"
     },
     "output_type": "display_data"
    }
   ],
   "source": [
    "# 이항분포\n",
    "m = 0.5\n",
    "n = 10\n",
    "r = sp.stats.binom(n, m)\n",
    "x = np.arange(n)\n",
    "y = r.pmf(x)\n",
    "plt.bar(x,y)\n",
    "plt.show()"
   ]
  },
  {
   "cell_type": "code",
   "execution_count": 9,
   "metadata": {
    "collapsed": true
   },
   "outputs": [
    {
     "data": {
      "text/plain": [
       "array([[ 5,  7,  5,  9,  2,  2],\n",
       "       [ 4,  7,  8,  8,  2,  1],\n",
       "       [ 7,  7,  2,  7,  3,  4],\n",
       "       [ 1,  6,  5,  7,  7,  4],\n",
       "       [ 3, 10,  3,  8,  3,  3],\n",
       "       [ 5,  6,  3,  9,  3,  4],\n",
       "       [ 4,  6,  7,  5,  4,  4],\n",
       "       [ 6,  4, 10,  6,  4,  0],\n",
       "       [ 6,  6,  5,  8,  1,  4],\n",
       "       [ 6,  5,  8,  6,  4,  1],\n",
       "       [ 5,  8,  1,  6,  3,  7],\n",
       "       [ 8,  3,  7,  6,  4,  2],\n",
       "       [ 8,  7,  3,  4,  4,  4],\n",
       "       [ 7,  6,  4,  8,  2,  3],\n",
       "       [ 8,  6,  3,  8,  2,  3],\n",
       "       [ 7,  9,  5,  7,  1,  1],\n",
       "       [ 7,  8,  4,  7,  3,  1],\n",
       "       [ 3,  6,  8,  7,  4,  2],\n",
       "       [ 7,  5,  7,  5,  1,  5],\n",
       "       [ 5,  5,  5,  6,  4,  5],\n",
       "       [ 8,  7,  5,  5,  2,  3],\n",
       "       [ 7,  9,  6,  3,  2,  3],\n",
       "       [ 7,  7,  8,  3,  2,  3],\n",
       "       [ 9,  2,  8,  7,  2,  2],\n",
       "       [ 6,  4,  5,  7,  3,  5],\n",
       "       [ 5,  4,  4, 11,  2,  4],\n",
       "       [ 6,  7,  5,  6,  3,  3],\n",
       "       [ 4, 11,  4,  4,  4,  3],\n",
       "       [ 2,  5,  9,  9,  1,  4],\n",
       "       [ 4,  8,  5,  8,  2,  3],\n",
       "       [10,  5,  5,  4,  3,  3],\n",
       "       [ 3,  9,  5,  5,  5,  3],\n",
       "       [ 7,  2,  7,  5,  2,  7],\n",
       "       [ 4,  6,  8,  7,  1,  4],\n",
       "       [ 4,  4,  9,  7,  3,  3],\n",
       "       [ 9,  8,  2,  5,  2,  4],\n",
       "       [ 5,  6,  3,  7,  4,  5],\n",
       "       [ 5,  7,  5,  8,  3,  2],\n",
       "       [ 6,  6,  4,  7,  6,  1],\n",
       "       [ 9,  2,  4,  8,  4,  3],\n",
       "       [ 6,  6,  4,  5,  4,  5],\n",
       "       [ 8,  2,  6,  4,  6,  4],\n",
       "       [ 3,  7,  4,  6,  6,  4],\n",
       "       [ 6,  8,  5,  7,  2,  2],\n",
       "       [ 4,  3,  8,  8,  6,  1],\n",
       "       [ 8,  5,  5,  6,  2,  4],\n",
       "       [ 5,  3,  2, 10,  3,  7],\n",
       "       [ 5,  3,  5, 13,  3,  1],\n",
       "       [ 6,  5,  6,  8,  3,  2],\n",
       "       [ 7,  6,  7,  7,  2,  1],\n",
       "       [ 3,  4,  5, 10,  5,  3],\n",
       "       [ 8, 11,  7,  1,  2,  1],\n",
       "       [ 4,  8,  8,  4,  3,  3],\n",
       "       [ 9,  6,  4,  9,  2,  0],\n",
       "       [ 4,  8,  2, 11,  4,  1],\n",
       "       [ 5,  5,  7,  6,  2,  5],\n",
       "       [ 5,  7,  4,  6,  6,  2],\n",
       "       [ 8,  4,  6,  4,  4,  4],\n",
       "       [ 9,  5,  7,  4,  3,  2],\n",
       "       [ 7,  8,  7,  4,  2,  2],\n",
       "       [ 4,  5,  7,  7,  2,  5],\n",
       "       [ 8,  8,  6,  3,  3,  2],\n",
       "       [ 3,  3,  8,  6,  5,  5],\n",
       "       [ 3,  9,  9,  2,  3,  4],\n",
       "       [ 8,  8,  5,  6,  0,  3],\n",
       "       [ 4,  9,  4,  9,  1,  3],\n",
       "       [ 8,  2,  5, 12,  1,  2],\n",
       "       [ 5,  5, 12,  5,  3,  0],\n",
       "       [11,  4,  6,  6,  3,  0],\n",
       "       [ 6,  6,  1,  6,  5,  6],\n",
       "       [10,  5,  4,  6,  4,  1],\n",
       "       [ 4,  8,  3,  7,  4,  4],\n",
       "       [ 4,  5,  9,  8,  1,  3],\n",
       "       [ 8,  9,  5,  5,  2,  1],\n",
       "       [ 7,  3,  6,  6,  1,  7],\n",
       "       [ 8,  7,  6,  3,  2,  4],\n",
       "       [ 2,  7,  5,  6,  7,  3],\n",
       "       [ 9,  6,  3,  4,  2,  6],\n",
       "       [ 6,  2,  7, 10,  3,  2],\n",
       "       [ 2,  5,  7,  6,  7,  3],\n",
       "       [ 5,  5,  5,  8,  3,  4],\n",
       "       [ 4,  7,  3,  8,  3,  5],\n",
       "       [10,  5,  6,  4,  2,  3],\n",
       "       [ 5,  6,  3,  7,  7,  2],\n",
       "       [ 7,  3,  4,  9,  4,  3],\n",
       "       [ 5,  6,  8,  5,  2,  4],\n",
       "       [ 7,  4,  6,  7,  2,  4],\n",
       "       [ 3,  7,  9,  6,  3,  2],\n",
       "       [ 2,  9,  8,  5,  1,  5],\n",
       "       [ 7,  4,  8,  8,  2,  1],\n",
       "       [ 4,  7,  8,  7,  1,  3],\n",
       "       [10,  2,  6,  3,  4,  5],\n",
       "       [ 9,  3,  3, 10,  0,  5],\n",
       "       [ 8,  4,  4,  5,  4,  5],\n",
       "       [ 8,  6,  6,  3,  3,  4],\n",
       "       [12,  3,  5,  6,  2,  2],\n",
       "       [ 3,  5, 11,  3,  4,  4],\n",
       "       [10,  4,  2,  8,  2,  4],\n",
       "       [ 6,  3,  6,  6,  4,  5],\n",
       "       [ 9,  5,  4,  7,  3,  2]])"
      ]
     },
     "execution_count": 9,
     "metadata": {},
     "output_type": "execute_result"
    }
   ],
   "source": [
    "# 다항분포\n",
    "N = 30\n",
    "m = [0.2, 0.2, 0.2, 0.2, 0.1, 0.1]\n",
    "r = sp.stats.multinomial(N, m)\n",
    "\n",
    "# Random Value Sampling\n",
    "x = r.rvs(100)\n",
    "x"
   ]
  },
  {
   "cell_type": "code",
   "execution_count": 10,
   "metadata": {
    "collapsed": true
   },
   "outputs": [
    {
     "data": {
      "image/png": "[encoded data removed]",
      "text/plain": [
       "<Figure size 432x288 with 1 Axes>"
      ]
     },
     "metadata": {
      "needs_background": "light"
     },
     "output_type": "display_data"
    }
   ],
   "source": [
    "plt.boxplot(x)\n",
    "plt.show()"
   ]
  },
  {
   "cell_type": "code",
   "execution_count": 13,
   "metadata": {},
   "outputs": [
    {
     "data": {
      "image/png": "[encoded data removed]",
      "text/plain": [
       "<Figure size 432x288 with 1 Axes>"
      ]
     },
     "metadata": {
      "needs_background": "light"
     },
     "output_type": "display_data"
    }
   ],
   "source": [
    "# 정규분포\n",
    "m = 0\n",
    "std = 1\n",
    "r = sp.stats.norm(m, std)\n",
    "\n",
    "x = np.linspace(-5,5,100)\n",
    "y = r.pdf(x)\n",
    "plt.plot(x, y)\n",
    "plt.show()"
   ]
  },
  {
   "cell_type": "code",
   "execution_count": 15,
   "metadata": {},
   "outputs": [
    {
     "data": {
      "image/png": "[encoded data removed]",
      "text/plain": [
       "<Figure size 432x288 with 1 Axes>"
      ]
     },
     "metadata": {
      "needs_background": "light"
     },
     "output_type": "display_data"
    }
   ],
   "source": [
    "# 중심극한정리\n",
    "u = sp.stats.uniform()\n",
    "x = u.rvs(1000)\n",
    "plt.hist(x)\n",
    "plt.show()"
   ]
  },
  {
   "cell_type": "code",
   "execution_count": 21,
   "metadata": {
    "collapsed": true
   },
   "outputs": [
    {
     "data": {
      "image/png": "[encoded data removed]",
      "text/plain": [
       "<Figure size 432x288 with 1 Axes>"
      ]
     },
     "metadata": {
      "needs_background": "light"
     },
     "output_type": "display_data"
    }
   ],
   "source": [
    "# 균등분포를 평균\n",
    "mu = []\n",
    "for _ in range(500):\n",
    "    u = sp.stats.uniform()\n",
    "    x = u.rvs(1000)\n",
    "    mu.append(x.mean())\n",
    "plt.hist(mu)\n",
    "plt.show()"
   ]
  },
  {
   "cell_type": "code",
   "execution_count": 22,
   "metadata": {},
   "outputs": [],
   "source": [
    "# 가능도함수\n",
    "def f(m):\n",
    "    return (1/np.sqrt(2*np.pi*1))**3 * np.exp(-1* (((m-1)**2+(m-2)**2+(m-3)**2)/2))"
   ]
  },
  {
   "cell_type": "code",
   "execution_count": 26,
   "metadata": {},
   "outputs": [
    {
     "data": {
      "image/png": "[encoded data removed]",
      "text/plain": [
       "<Figure size 432x288 with 1 Axes>"
      ]
     },
     "metadata": {
      "needs_background": "light"
     },
     "output_type": "display_data"
    }
   ],
   "source": [
    "x = np.linspace(0,4,100)\n",
    "y = f(x)\n",
    "plt.plot(x,y)\n",
    "plt.show()"
   ]
  },
  {
   "cell_type": "code",
   "execution_count": null,
   "metadata": {},
   "outputs": [],
   "source": []
  }
 ],
 "metadata": {
  "kernelspec": {
   "display_name": "Python 3",
   "language": "python",
   "name": "python3"
  },
  "language_info": {
   "codemirror_mode": {
    "name": "ipython",
    "version": 3
   },
   "file_extension": ".py",
   "mimetype": "text/x-python",
   "name": "python",
   "nbconvert_exporter": "python",
   "pygments_lexer": "ipython3",
   "version": "3.8.5"
  }
 },
 "nbformat": 4,
 "nbformat_minor": 4
}
