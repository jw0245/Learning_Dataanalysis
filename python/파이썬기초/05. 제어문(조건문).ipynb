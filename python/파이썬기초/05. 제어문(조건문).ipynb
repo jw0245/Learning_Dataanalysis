{
 "cells": [
  {
   "cell_type": "markdown",
   "metadata": {},
   "source": [
    "### 조건문\n",
    "* 특정 조건을 만족하는 경우에만 수행할 작업이 있으면 사용\n",
    "* 모든 조건 boole 타입으로 작성\n",
    "* if, elif, else 키워드\n",
    "* if, elif, else 블록은 중괄호 없이, 들여쓰기로 표현\n",
    "* 블록의 시작점에는 : (콜론) 추가\n",
    "* switch 문은 존재하지 않음\n",
    "```python\n",
    "if 조건문 :\n",
    "    실행문1\n",
    "    실행문2\n",
    "```\n",
    "```python\n",
    "if 조건문:\n",
    "    실행문1\n",
    "    실행문2\n",
    "else :\n",
    "    실행문3\n",
    "```"
   ]
  },
  {
   "cell_type": "code",
   "execution_count": 6,
   "metadata": {},
   "outputs": [
    {
     "name": "stdout",
     "output_type": "stream",
     "text": [
      "택시 타자\n"
     ]
    }
   ],
   "source": [
    "# 돈이 오천원이상있으면 택시타고, \n",
    "# 그렇지 않고 천원이상있으면 버스, \n",
    "# 그렇지 않으면 걸어가자\n",
    "money = 10000\n",
    "if money >= 5000 :\n",
    "    print('택시 타자')\n",
    "elif money >= 1000 :\n",
    "    print('버스 타자')\n",
    "else :\n",
    "    print('걸어 가자')"
   ]
  },
  {
   "cell_type": "code",
   "execution_count": 13,
   "metadata": {},
   "outputs": [
    {
     "name": "stdout",
     "output_type": "stream",
     "text": [
      "짝수\n"
     ]
    }
   ],
   "source": [
    "a = 10\n",
    "# 변수 a가 짝수이면 짝수 출력, 홀수이면 홀수 출력\n",
    "if a % 2 == 0 :\n",
    "    print('짝수')\n",
    "else :\n",
    "    print('홀수')"
   ]
  },
  {
   "cell_type": "markdown",
   "metadata": {},
   "source": [
    "### 중첩 조건문\n",
    "* if문안에 if문\n",
    "* 중첩의 의미는 깊이(depth, 들여쓰기)"
   ]
  },
  {
   "cell_type": "code",
   "execution_count": 23,
   "metadata": {},
   "outputs": [
    {
     "ename": "SyntaxError",
     "evalue": "invalid syntax (<ipython-input-23-df1aa184304b>, line 5)",
     "output_type": "error",
     "traceback": [
      "\u001b[1;36m  File \u001b[1;32m\"<ipython-input-23-df1aa184304b>\"\u001b[1;36m, line \u001b[1;32m5\u001b[0m\n\u001b[1;33m    ifa == 10:\u001b[0m\n\u001b[1;37m              ^\u001b[0m\n\u001b[1;31mSyntaxError\u001b[0m\u001b[1;31m:\u001b[0m invalid syntax\n"
     ]
    }
   ],
   "source": [
    "a = 10\n",
    "b = 8\n",
    "c = 8\n",
    "\n",
    "if a == 10:\n",
    "    if b == 9 :\n",
    "        if c == 8 :\n",
    "            print('a==10 and b==9 and c==8')\n",
    "        else:\n",
    "            print('a==10 and b==9 and c!=8')\n",
    "    else :\n",
    "        print('a==10 and b!=9')"
   ]
  },
  {
   "cell_type": "code",
   "execution_count": 20,
   "metadata": {},
   "outputs": [],
   "source": [
    "if a == 10 and b == 9 and c == 8 :\n",
    "    print('참')"
   ]
  },
  {
   "cell_type": "code",
   "execution_count": 24,
   "metadata": {},
   "outputs": [
    {
     "data": {
      "text/plain": [
       "True"
      ]
     },
     "execution_count": 24,
     "metadata": {},
     "output_type": "execute_result"
    }
   ],
   "source": [
    "a == 10"
   ]
  },
  {
   "cell_type": "code",
   "execution_count": 25,
   "metadata": {},
   "outputs": [],
   "source": [
    "# if문의 조건식에는 반드시 True / False (비교연산, 논리연산, bool자료형)"
   ]
  },
  {
   "cell_type": "code",
   "execution_count": 26,
   "metadata": {},
   "outputs": [
    {
     "data": {
      "text/plain": [
       "True"
      ]
     },
     "execution_count": 26,
     "metadata": {},
     "output_type": "execute_result"
    }
   ],
   "source": [
    "a = ['python', 'java', 'c']\n",
    "'python' in a # 요소 단위 기준"
   ]
  },
  {
   "cell_type": "code",
   "execution_count": 27,
   "metadata": {},
   "outputs": [
    {
     "data": {
      "text/plain": [
       "False"
      ]
     },
     "execution_count": 27,
     "metadata": {},
     "output_type": "execute_result"
    }
   ],
   "source": [
    "'p' in a"
   ]
  },
  {
   "cell_type": "code",
   "execution_count": 28,
   "metadata": {},
   "outputs": [
    {
     "data": {
      "text/plain": [
       "True"
      ]
     },
     "execution_count": 28,
     "metadata": {},
     "output_type": "execute_result"
    }
   ],
   "source": [
    "'p' in 'python'"
   ]
  },
  {
   "cell_type": "code",
   "execution_count": 29,
   "metadata": {},
   "outputs": [
    {
     "data": {
      "text/plain": [
       "False"
      ]
     },
     "execution_count": 29,
     "metadata": {},
     "output_type": "execute_result"
    }
   ],
   "source": [
    "'jsp' in a"
   ]
  },
  {
   "cell_type": "code",
   "execution_count": 34,
   "metadata": {},
   "outputs": [
    {
     "name": "stdout",
     "output_type": "stream",
     "text": [
      "미포함\n"
     ]
    }
   ],
   "source": [
    "if 'jsp' in a : \n",
    "    print('포함')\n",
    "else : \n",
    "    print('미포함')"
   ]
  },
  {
   "cell_type": "code",
   "execution_count": 36,
   "metadata": {},
   "outputs": [
    {
     "name": "stdout",
     "output_type": "stream",
     "text": [
      "미포함\n"
     ]
    }
   ],
   "source": [
    "# 'jsp'가 포함되어 있으면 아무것도 안하고, 포함안되면 '미포함' 출력\n",
    "if 'jsp' in a : \n",
    "    pass\n",
    "else : \n",
    "    print('미포함')"
   ]
  },
  {
   "cell_type": "code",
   "execution_count": 38,
   "metadata": {},
   "outputs": [],
   "source": [
    "# 빈함수 선언\n",
    "def test():\n",
    "    pass"
   ]
  },
  {
   "cell_type": "code",
   "execution_count": 39,
   "metadata": {},
   "outputs": [
    {
     "name": "stdout",
     "output_type": "stream",
     "text": [
      "미포함\n"
     ]
    }
   ],
   "source": [
    "# 'jsp'가 포함되지 않으면 '미포함'\n",
    "if 'jsp' not in a:\n",
    "    print('미포함')"
   ]
  },
  {
   "cell_type": "code",
   "execution_count": 41,
   "metadata": {},
   "outputs": [
    {
     "name": "stdout",
     "output_type": "stream",
     "text": [
      "불합격\n"
     ]
    }
   ],
   "source": [
    "score = 59\n",
    "msg = ''\n",
    "# 60점이상이면 합격, 60미만이면 불합격 대입해서 출력\n",
    "\n",
    "if score >= 60:\n",
    "    msg = '합격'\n",
    "else :\n",
    "    msg = '불합격'\n",
    "\n",
    "print(msg)"
   ]
  },
  {
   "cell_type": "code",
   "execution_count": 42,
   "metadata": {},
   "outputs": [
    {
     "ename": "SyntaxError",
     "evalue": "invalid syntax (<ipython-input-42-193d36d9d0ae>, line 2)",
     "output_type": "error",
     "traceback": [
      "\u001b[1;36m  File \u001b[1;32m\"<ipython-input-42-193d36d9d0ae>\"\u001b[1;36m, line \u001b[1;32m2\u001b[0m\n\u001b[1;33m    msg = score >= 60 ? '합격' : '불합격'\u001b[0m\n\u001b[1;37m                      ^\u001b[0m\n\u001b[1;31mSyntaxError\u001b[0m\u001b[1;31m:\u001b[0m invalid syntax\n"
     ]
    }
   ],
   "source": [
    "# 삼항연산 사용 불가\n",
    "msg = score >= 60 ? '합격' : '불합격'"
   ]
  },
  {
   "cell_type": "code",
   "execution_count": 43,
   "metadata": {},
   "outputs": [
    {
     "data": {
      "text/plain": [
       "'불합격'"
      ]
     },
     "execution_count": 43,
     "metadata": {},
     "output_type": "execute_result"
    }
   ],
   "source": [
    "# 조건부 표현식\n",
    "# True일때 if 조건식 else False일때\n",
    "msg = '합격' if score >= 60 else '불합격'\n",
    "msg"
   ]
  },
  {
   "cell_type": "markdown",
   "metadata": {},
   "source": [
    "### if 문의 조건식이 bool 이 아닌 경우\n",
    "* 정수, 실수, 문자열, 리스트... 조건식에 사용 가능\n",
    "* False로 간주되는 값 (== 각 타입의 기본값)\n",
    "    * None\n",
    "    * 0\n",
    "    * 0.0\n",
    "    * ''\n",
    "    * [] -> 빈리스트\n",
    "    * () -> 빈튜플\n",
    "    * {} -> 빈딕셔너리\n",
    "    * set() -> 빈세트\n",
    "## 값이 있으면 True 없으면 False"
   ]
  },
  {
   "cell_type": "code",
   "execution_count": 44,
   "metadata": {},
   "outputs": [
    {
     "name": "stdout",
     "output_type": "stream",
     "text": [
      "참\n"
     ]
    }
   ],
   "source": [
    "a = 'hello'\n",
    "if a :\n",
    "    print('참')\n",
    "else :\n",
    "    print('거짓')"
   ]
  },
  {
   "cell_type": "code",
   "execution_count": 46,
   "metadata": {},
   "outputs": [
    {
     "name": "stdout",
     "output_type": "stream",
     "text": [
      "거짓\n"
     ]
    }
   ],
   "source": [
    "a = ['홍길동', '김길동', '', '최길동']\n",
    "if a[2] :\n",
    "    print('참')\n",
    "else :\n",
    "    print('거짓')"
   ]
  },
  {
   "cell_type": "code",
   "execution_count": 49,
   "metadata": {},
   "outputs": [
    {
     "name": "stdout",
     "output_type": "stream",
     "text": [
      "거짓\n"
     ]
    }
   ],
   "source": [
    "a = 0\n",
    "if a :\n",
    "    print('참')\n",
    "else :\n",
    "    print('거짓')"
   ]
  },
  {
   "cell_type": "code",
   "execution_count": 50,
   "metadata": {},
   "outputs": [
    {
     "name": "stdout",
     "output_type": "stream",
     "text": [
      "거짓\n"
     ]
    }
   ],
   "source": [
    "a = []\n",
    "if a :\n",
    "    print('참')\n",
    "else :\n",
    "    print('거짓')"
   ]
  }
 ],
 "metadata": {
  "kernelspec": {
   "display_name": "Python 3",
   "language": "python",
   "name": "python3"
  },
  "language_info": {
   "codemirror_mode": {
    "name": "ipython",
    "version": 3
   },
   "file_extension": ".py",
   "mimetype": "text/x-python",
   "name": "python",
   "nbconvert_exporter": "python",
   "pygments_lexer": "ipython3",
   "version": "3.8.5"
  }
 },
 "nbformat": 4,
 "nbformat_minor": 4
}
