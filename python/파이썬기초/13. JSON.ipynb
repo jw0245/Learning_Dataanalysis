{
 "cells": [
  {
   "cell_type": "markdown",
   "metadata": {},
   "source": [
    "### JSON\n",
    "* JavaScript Object Notation, 자바스크립트 객체 표기법\n",
    "* 데이터를 교환하는 하나의 포맷\n",
    "* 보통 웹서버와 데이터를 교환하는데 많이 사용\n",
    "* Key : Value 쌍으로(pair) 구성\n",
    "* 프로그래밍 언와와는 완벽히 독립적 (다양한 언어에서 사용 가능)\n",
    "* 구조가 단순하고, 가벼워 표준으로 사용\n",
    "* 파이썬에서는 import json 사용\n",
    "* 파이썬의 리스트, 딕셔너리와 유사\n",
    "* 자바스크립트의 배열, 객체\n",
    "* 리스트 : 배열, 딕셔너리 : 객체"
   ]
  },
  {
   "cell_type": "code",
   "execution_count": 1,
   "metadata": {},
   "outputs": [],
   "source": [
    "import json"
   ]
  },
  {
   "cell_type": "code",
   "execution_count": 3,
   "metadata": {},
   "outputs": [
    {
     "name": "stdout",
     "output_type": "stream",
     "text": [
      "[\n",
      "    {\n",
      "        \"name\":\"홍길동\",\n",
      "        \"age\":30,\n",
      "        \"gender\":\"남\"\n",
      "    },\n",
      "    {\n",
      "        \"name\":\"고길동\",\n",
      "        \"age\":20,\n",
      "        \"gender\":\"남\"\n",
      "    }\n",
      "]\n"
     ]
    }
   ],
   "source": [
    "f = open('test.json', encoding='utf-8')\n",
    "text = f.read()\n",
    "print(text)"
   ]
  },
  {
   "cell_type": "code",
   "execution_count": 4,
   "metadata": {},
   "outputs": [
    {
     "data": {
      "text/plain": [
       "[{'name': '홍길동', 'age': 30, 'gender': '남'},\n",
       " {'name': '고길동', 'age': 20, 'gender': '남'}]"
      ]
     },
     "execution_count": 4,
     "metadata": {},
     "output_type": "execute_result"
    }
   ],
   "source": [
    "# json 타입으로 변환\n",
    "data = json.loads(text)\n",
    "data"
   ]
  },
  {
   "cell_type": "code",
   "execution_count": 5,
   "metadata": {},
   "outputs": [
    {
     "data": {
      "text/plain": [
       "list"
      ]
     },
     "execution_count": 5,
     "metadata": {},
     "output_type": "execute_result"
    }
   ],
   "source": [
    "type(data)"
   ]
  },
  {
   "cell_type": "code",
   "execution_count": 6,
   "metadata": {},
   "outputs": [
    {
     "data": {
      "text/plain": [
       "dict"
      ]
     },
     "execution_count": 6,
     "metadata": {},
     "output_type": "execute_result"
    }
   ],
   "source": [
    "type(data[0])"
   ]
  },
  {
   "cell_type": "code",
   "execution_count": 7,
   "metadata": {},
   "outputs": [
    {
     "name": "stdout",
     "output_type": "stream",
     "text": [
      "홍길동 30 남\n",
      "고길동 20 남\n"
     ]
    }
   ],
   "source": [
    "for v in data:\n",
    "    print(v['name'], v['age'], v['gender'])"
   ]
  },
  {
   "cell_type": "code",
   "execution_count": 8,
   "metadata": {
    "collapsed": true
   },
   "outputs": [
    {
     "data": {
      "text/plain": [
       "\"\\n첫번째 반복 : {'name': '홍길동', 'age': 30, 'gender': '남'}\\n두번째 반복 : {'name': '고길동', 'age': 20, 'gender': '남'}\\n\""
      ]
     },
     "execution_count": 8,
     "metadata": {},
     "output_type": "execute_result"
    }
   ],
   "source": [
    "'''\n",
    "첫번째 반복 : {'name': '홍길동', 'age': 30, 'gender': '남'}\n",
    "두번째 반복 : {'name': '고길동', 'age': 20, 'gender': '남'}\n",
    "'''"
   ]
  },
  {
   "cell_type": "code",
   "execution_count": 13,
   "metadata": {},
   "outputs": [
    {
     "name": "stdout",
     "output_type": "stream",
     "text": [
      "남\n",
      "남\n"
     ]
    }
   ],
   "source": [
    "for v in data:\n",
    "    print(v['gender'])"
   ]
  },
  {
   "cell_type": "code",
   "execution_count": 10,
   "metadata": {},
   "outputs": [
    {
     "data": {
      "text/plain": [
       "'홍길동'"
      ]
     },
     "execution_count": 10,
     "metadata": {},
     "output_type": "execute_result"
    }
   ],
   "source": [
    "a = {'name': '홍길동', 'age': 30, 'gender': '남'}\n",
    "a['name']"
   ]
  },
  {
   "cell_type": "code",
   "execution_count": 14,
   "metadata": {},
   "outputs": [
    {
     "name": "stdout",
     "output_type": "stream",
     "text": [
      "[{'name': '홍길동', 'date': '2020-11-30'}, {'name': '김길동', 'date': '2020-11-29'}]\n"
     ]
    }
   ],
   "source": [
    "# 리스트안에 딕셔너리 생성\n",
    "text = [\n",
    "    {\n",
    "        \"name\":\"홍길동\",\n",
    "        \"date\":\"2020-11-30\"\n",
    "    },\n",
    "    {\n",
    "        \"name\":\"김길동\",\n",
    "        \"date\":\"2020-11-29\"\n",
    "    }\n",
    "]\n",
    "print(text)"
   ]
  },
  {
   "cell_type": "code",
   "execution_count": 15,
   "metadata": {},
   "outputs": [
    {
     "data": {
      "text/plain": [
       "'[{\"name\": \"\\\\ud64d\\\\uae38\\\\ub3d9\", \"date\": \"2020-11-30\"}, {\"name\": \"\\\\uae40\\\\uae38\\\\ub3d9\", \"date\": \"2020-11-29\"}]'"
      ]
     },
     "execution_count": 15,
     "metadata": {},
     "output_type": "execute_result"
    }
   ],
   "source": [
    "# json 인코딩\n",
    "data = json.dumps(text)\n",
    "data"
   ]
  },
  {
   "cell_type": "code",
   "execution_count": 16,
   "metadata": {},
   "outputs": [
    {
     "data": {
      "text/plain": [
       "str"
      ]
     },
     "execution_count": 16,
     "metadata": {},
     "output_type": "execute_result"
    }
   ],
   "source": [
    "type(data) # 문자열"
   ]
  },
  {
   "cell_type": "code",
   "execution_count": 17,
   "metadata": {},
   "outputs": [
    {
     "data": {
      "text/plain": [
       "list"
      ]
     },
     "execution_count": 17,
     "metadata": {},
     "output_type": "execute_result"
    }
   ],
   "source": [
    "data = json.loads(data)\n",
    "type(data)"
   ]
  },
  {
   "cell_type": "code",
   "execution_count": 18,
   "metadata": {},
   "outputs": [
    {
     "name": "stdout",
     "output_type": "stream",
     "text": [
      "홍길동 2020-11-30\n",
      "김길동 2020-11-29\n"
     ]
    }
   ],
   "source": [
    "# dumps : list -> str\n",
    "# loads : str -> list\n",
    "for v in data:\n",
    "    print(v['name'], v['date'])"
   ]
  },
  {
   "cell_type": "code",
   "execution_count": 21,
   "metadata": {},
   "outputs": [
    {
     "name": "stdout",
     "output_type": "stream",
     "text": [
      "[{'name': '홍길동', 'age': 30, 'gender': '남'}, {'name': '고길동', 'age': 20, 'gender': '남'}]\n"
     ]
    }
   ],
   "source": [
    "# loads : 문자열을 매개변수\n",
    "# load : 객체를 매개변수\n",
    "with open('test.json', encoding='utf-8') as f:\n",
    "    # 파일객체\n",
    "    data = json.load(f)\n",
    "print(data)"
   ]
  },
  {
   "cell_type": "code",
   "execution_count": 33,
   "metadata": {},
   "outputs": [
    {
     "name": "stdout",
     "output_type": "stream",
     "text": [
      "제목1입니다. 홍길동 2019-01-01 10\n",
      "제목2입니다. 고길동 2019-01-02 11\n",
      "제목3입니다. 김길동 2019-01-03 12\n"
     ]
    }
   ],
   "source": [
    "# 외부 JSON 호출\n",
    "# request 객체 import\n",
    "import urllib.request as req\n",
    "\n",
    "# url 주소\n",
    "url = 'http://withsky.co.kr/json/test.json'\n",
    "\n",
    "# request 객체 생성\n",
    "request = req.Request(url)\n",
    "# url 접속\n",
    "response = req.urlopen(request)\n",
    "\n",
    "txt = response.read().decode('utf-8')\n",
    "#print(txt)\n",
    "d = json.loads(txt)\n",
    "for v in d:\n",
    "    print(v['title'], v['name'], v['date'], v['readno'])"
   ]
  },
  {
   "cell_type": "code",
   "execution_count": 37,
   "metadata": {},
   "outputs": [
    {
     "name": "stdout",
     "output_type": "stream",
     "text": [
      "950115 4 이준희2 leejunhee\n",
      "950211 4 김희도 kimheedo\n",
      "950315 4 박동익 parkdongik\n",
      "951115 4 장성태 jangsungtae\n",
      "951215 4 하정환 hajunghwan\n",
      "960111 3 이충연 leechungyun\n",
      "960212 3 김태훈 kimtaehoon\n",
      "960315 3 이철이 leechulri\n",
      "961115 3 이여은 leeyueun\n",
      "961215 3 박재원 parkjewon\n",
      "970111 2 진영훈 kimyounghun\n",
      "970212 2 이용 kimyong\n",
      "970313 2 김종연 kimyongyoun\n",
      "971115 2 하진석 hajinsuk\n",
      "971211 2 유진성 youjinsung\n",
      "980111 1 강진 kangjin2702\n",
      "980212 1 곽종인 kwakjong\n",
      "980313 1 박동인 kimdongin\n",
      "981113 1 최정현 kimjunghyun\n",
      "981213 1 장영 kimyoung\n",
      "999998 1 홍길동2 hong2\n"
     ]
    }
   ],
   "source": [
    "url = 'http://localhost:8080/api/api/studentListJson.jsp'\n",
    "# request 객체 생성\n",
    "request = req.Request(url)\n",
    "# url 접속\n",
    "response = req.urlopen(request)\n",
    "\n",
    "txt = response.read().decode('utf-8')\n",
    "#print(txt)\n",
    "data = json.loads(txt)\n",
    "#type(data)\n",
    "for v in data['items']:\n",
    "    print(v['no'], v['grade'], v['name'], v['id'])"
   ]
  },
  {
   "cell_type": "code",
   "execution_count": null,
   "metadata": {},
   "outputs": [],
   "source": []
  }
 ],
 "metadata": {
  "kernelspec": {
   "display_name": "Python 3",
   "language": "python",
   "name": "python3"
  },
  "language_info": {
   "codemirror_mode": {
    "name": "ipython",
    "version": 3
   },
   "file_extension": ".py",
   "mimetype": "text/x-python",
   "name": "python",
   "nbconvert_exporter": "python",
   "pygments_lexer": "ipython3",
   "version": "3.8.5"
  }
 },
 "nbformat": 4,
 "nbformat_minor": 4
}
