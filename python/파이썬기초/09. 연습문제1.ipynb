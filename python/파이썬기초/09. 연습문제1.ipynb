{
 "cells": [
  {
   "cell_type": "markdown",
   "metadata": {},
   "source": [
    "1. 볼펜이 456개 있다 총 학생수가 30명인데, 모든학생이 똑같이 나눠가졌을때,\n",
    "한명당 나눠갖는 볼펜수와 나머지를 구하시오"
   ]
  },
  {
   "cell_type": "code",
   "execution_count": 7,
   "metadata": {},
   "outputs": [],
   "source": [
    "pen = 456\n",
    "s = 30\n",
    "b = int(pen / 30)"
   ]
  },
  {
   "cell_type": "code",
   "execution_count": 8,
   "metadata": {},
   "outputs": [],
   "source": [
    "c  = pen % s"
   ]
  },
  {
   "cell_type": "code",
   "execution_count": 12,
   "metadata": {},
   "outputs": [
    {
     "name": "stdout",
     "output_type": "stream",
     "text": [
      "한명이 받는 볼펜 : 15 , 남은 볼펜 : 6\n"
     ]
    }
   ],
   "source": [
    "print('한명이 받는 볼펜 : {} , 남은 볼펜 : {}'.format(b,c))"
   ]
  },
  {
   "cell_type": "markdown",
   "metadata": {},
   "source": [
    "2. 정수1234에서 일의 자리를 버리는 코드를 작성하시오.\n",
    "     \n",
    "     1234 -> 1230\n",
    "     \n",
    "     4321 -> 4320"
   ]
  },
  {
   "cell_type": "code",
   "execution_count": 15,
   "metadata": {},
   "outputs": [],
   "source": [
    "number = 1234 \n",
    "a = number - number % 10 "
   ]
  },
  {
   "cell_type": "code",
   "execution_count": 16,
   "metadata": {},
   "outputs": [
    {
     "name": "stdout",
     "output_type": "stream",
     "text": [
      "답 : 1230\n"
     ]
    }
   ],
   "source": [
    "print('답 : {}'.format(a))"
   ]
  },
  {
   "cell_type": "markdown",
   "metadata": {},
   "source": [
    "3. 윗변의 길이가 5, 아랫변의 길이가 10. 높이가 7인 사다리꼴의 넓이를 구하시오.\n",
    "사다리꼴 넓이 구하느 공식 : (윗변+아랫변)*높이/2"
   ]
  },
  {
   "cell_type": "code",
   "execution_count": 22,
   "metadata": {},
   "outputs": [
    {
     "name": "stdout",
     "output_type": "stream",
     "text": [
      "사다리꼴 넓이: 52.5\n"
     ]
    }
   ],
   "source": [
    "width = (5+10)*7/2\n",
    "print('사다리꼴 넓이:',width)"
   ]
  },
  {
   "cell_type": "markdown",
   "metadata": {},
   "source": [
    "4. 아래 리스트의 요소 중 가장 큰 수찾기"
   ]
  },
  {
   "cell_type": "code",
   "execution_count": 23,
   "metadata": {},
   "outputs": [],
   "source": [
    "a = [5 , 10, 20, 15 ,3]"
   ]
  },
  {
   "cell_type": "code",
   "execution_count": 27,
   "metadata": {},
   "outputs": [
    {
     "name": "stdout",
     "output_type": "stream",
     "text": [
      "가장 큰 값: 20\n"
     ]
    }
   ],
   "source": [
    "max = 0\n",
    "for v in a:\n",
    "    if v>=max :\n",
    "        max = v\n",
    "print('가장 큰 값:',max)        "
   ]
  },
  {
   "cell_type": "code",
   "execution_count": null,
   "metadata": {},
   "outputs": [],
   "source": []
  }
 ],
 "metadata": {
  "kernelspec": {
   "display_name": "Python 3",
   "language": "python",
   "name": "python3"
  },
  "language_info": {
   "codemirror_mode": {
    "name": "ipython",
    "version": 3
   },
   "file_extension": ".py",
   "mimetype": "text/x-python",
   "name": "python",
   "nbconvert_exporter": "python",
   "pygments_lexer": "ipython3",
   "version": "3.8.5"
  }
 },
 "nbformat": 4,
 "nbformat_minor": 4
}
