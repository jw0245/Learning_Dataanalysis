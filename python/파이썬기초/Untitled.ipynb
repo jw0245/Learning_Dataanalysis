{
 "cells": [
  {
   "cell_type": "code",
   "execution_count": null,
   "metadata": {},
   "outputs": [],
   "source": [
    "import pandas as pd\n",
    "import matplotlib\n",
    "\n",
    "#ExcelWriter\n",
    "ew =  pd.ExcelWriter('excel_chart.xlsx', engine='xlsxwriter')\n",
    "#dataframe을 시트지정\n",
    "df.to_excel(ew, index=False, sheet_name='중간고사' )\n",
    "\n",
    "#workbook, worksheet 생성\n",
    "workbook = ew.book\n",
    "worksheet = ew.sheets['중간고사']\n",
    "# 차트종류 지정\n",
    "chart = workbook.add_chart({'type':'bar'})\n",
    "# 데이터 범위 지정\n",
    "# 점수를 학생별로 \n",
    "# name: 이름 , category  x: 축, values\n",
    "chart.add(series({'name':'', 'category':'',values}))\n",
    "\n",
    "ew.save()"
   ]
  }
 ],
 "metadata": {
  "kernelspec": {
   "display_name": "Python 3",
   "language": "python",
   "name": "python3"
  },
  "language_info": {
   "codemirror_mode": {
    "name": "ipython",
    "version": 3
   },
   "file_extension": ".py",
   "mimetype": "text/x-python",
   "name": "python",
   "nbconvert_exporter": "python",
   "pygments_lexer": "ipython3",
   "version": "3.8.5"
  }
 },
 "nbformat": 4,
 "nbformat_minor": 4
}
