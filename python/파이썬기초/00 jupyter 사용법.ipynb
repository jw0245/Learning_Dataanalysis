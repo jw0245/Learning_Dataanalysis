{
 "cells": [
  {
   "cell_type": "markdown",
   "metadata": {},
   "source": [
    "### 단축키\n",
    "-- 주석 :  ctrl(cmd)+/\n",
    "-- 여러줄 주석 : 여러줄 선택후 ctral + /\n",
    "-- 실행 단축키\n",
    "    -shift + enter : 현재셀 실행후 아래 셀로 이동( 아래 셀이 존재하 지 않으면 셀추가)\n",
    "    -ctrl + enter : 현재셀 실행 후 명령 모드로 전환\n",
    "   -alt + enter :현재셀 실행후 아래셀추가\n",
    "\n",
    "- 셀 삭제 : (명령 모드) dd\n",
    "추가 a,b\n",
    "편집모드 -> 명령모드 esc\n",
    "명령모드 -> 편집모드 선택후 enter\n",
    "스타일 변경 \n",
    "    (명령모드)n: 마크타운\n",
    "    (명령모듴)y: 코드편집\n",
    "자동완성 : tab\n",
    "-툴팁(doostring)확인 : shift + tab - 설명 내용, 매개변수 확인"
   ]
  },
  {
   "cell_type": "markdown",
   "metadata": {},
   "source": [
    "### masic command\n",
    "-셀안에서 특별하게 동작하는 명령\n",
    "% : 한줄의 명령어를 실행\n",
    "- 자주사용하는 명령\n",
    "\n",
    "    -%pwd -현재경로\n",
    "    \n",
    "    -%who : 현재 선언된 변수\n",
    "    \n",
    "    -%reset :현재 선언된 변수 초기화\n",
    "    "
   ]
  },
  {
   "cell_type": "code",
   "execution_count": 2,
   "metadata": {},
   "outputs": [
    {
     "data": {
      "text/plain": [
       "'C:\\\\python\\\\base python'"
      ]
     },
     "execution_count": 2,
     "metadata": {},
     "output_type": "execute_result"
    }
   ],
   "source": [
    "%pwd\n"
   ]
  },
  {
   "cell_type": "code",
   "execution_count": 3,
   "metadata": {},
   "outputs": [],
   "source": [
    "a = 1"
   ]
  },
  {
   "cell_type": "code",
   "execution_count": 4,
   "metadata": {},
   "outputs": [
    {
     "data": {
      "text/plain": [
       "1"
      ]
     },
     "execution_count": 4,
     "metadata": {},
     "output_type": "execute_result"
    }
   ],
   "source": [
    "a"
   ]
  },
  {
   "cell_type": "code",
   "execution_count": 5,
   "metadata": {},
   "outputs": [
    {
     "name": "stdout",
     "output_type": "stream",
     "text": [
      "a\t \n"
     ]
    }
   ],
   "source": [
    "%who"
   ]
  },
  {
   "cell_type": "code",
   "execution_count": 6,
   "metadata": {},
   "outputs": [
    {
     "name": "stdout",
     "output_type": "stream",
     "text": [
      "Once deleted, variables cannot be recovered. Proceed (y/[n])? y\n"
     ]
    }
   ],
   "source": [
    "%reset"
   ]
  },
  {
   "cell_type": "code",
   "execution_count": 7,
   "metadata": {},
   "outputs": [
    {
     "name": "stdout",
     "output_type": "stream",
     "text": [
      "Interactive namespace is empty.\n"
     ]
    }
   ],
   "source": [
    "%who\n"
   ]
  },
  {
   "cell_type": "code",
   "execution_count": 8,
   "metadata": {},
   "outputs": [
    {
     "ename": "NameError",
     "evalue": "name 'a' is not defined",
     "output_type": "error",
     "traceback": [
      "\u001b[1;31m---------------------------------------------------------------------------\u001b[0m",
      "\u001b[1;31mNameError\u001b[0m                                 Traceback (most recent call last)",
      "\u001b[1;32m<ipython-input-8-3f786850e387>\u001b[0m in \u001b[0;36m<module>\u001b[1;34m\u001b[0m\n\u001b[1;32m----> 1\u001b[1;33m \u001b[0ma\u001b[0m\u001b[1;33m\u001b[0m\u001b[1;33m\u001b[0m\u001b[0m\n\u001b[0m",
      "\u001b[1;31mNameError\u001b[0m: name 'a' is not defined"
     ]
    }
   ],
   "source": [
    "a"
   ]
  },
  {
   "cell_type": "markdown",
   "metadata": {},
   "source": [
    "### shell 명령\n",
    "- jupyter 에서 쉘명령어를 싱행\n",
    "앞에 !붙여서 실행"
   ]
  },
  {
   "cell_type": "code",
   "execution_count": 9,
   "metadata": {},
   "outputs": [
    {
     "name": "stdout",
     "output_type": "stream",
     "text": [
      " C 드라이브의 볼륨에는 이름이 없습니다.\n",
      " 볼륨 일련 번호: 5A1D-E595\n",
      "\n",
      " C:\\python\\base python 디렉터리\n",
      "\n",
      "2020-11-20  오후 12:03    <DIR>          .\n",
      "2020-11-20  오후 12:03    <DIR>          ..\n",
      "2020-11-20  오전 11:14    <DIR>          .ipynb_checkpoints\n",
      "2020-11-20  오후 12:03             4,129 00 jupyter 사용법.ipynb\n",
      "               1개 파일               4,129 바이트\n",
      "               3개 디렉터리  45,262,352,384 바이트 남음\n"
     ]
    }
   ],
   "source": [
    "!dir"
   ]
  },
  {
   "cell_type": "code",
   "execution_count": null,
   "metadata": {},
   "outputs": [],
   "source": []
  }
 ],
 "metadata": {
  "kernelspec": {
   "display_name": "Python 3",
   "language": "python",
   "name": "python3"
  },
  "language_info": {
   "codemirror_mode": {
    "name": "ipython",
    "version": 3
   },
   "file_extension": ".py",
   "mimetype": "text/x-python",
   "name": "python",
   "nbconvert_exporter": "python",
   "pygments_lexer": "ipython3",
   "version": "3.8.5"
  }
 },
 "nbformat": 4,
 "nbformat_minor": 4
}
