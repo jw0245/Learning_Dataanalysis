{
 "cells": [
  {
   "cell_type": "markdown",
   "metadata": {},
   "source": [
    "### 로그인 후 데이터 수집해야하는 경우\n",
    "\n",
    "* 로그인이 되어있는 상태 : 세션이 존재"
   ]
  },
  {
   "cell_type": "code",
   "execution_count": 2,
   "metadata": {},
   "outputs": [],
   "source": [
    "import requests\n",
    "import urllib.request as req\n",
    "from bs4 import BeautifulSoup"
   ]
  },
  {
   "cell_type": "code",
   "execution_count": 7,
   "metadata": {},
   "outputs": [
    {
     "name": "stdout",
     "output_type": "stream",
     "text": [
      "젖병 세척 용품 세트 1개\n",
      "ㅅㅅㅅㅅㅅㅅㅅㅅㅅ 1개\n",
      "순한대나무 올인원 수유베개 - 민트 5개\n",
      "1개\n",
      "포대기&미니방수요 세트 2개\n",
      "똑똑놀이세트 1개\n",
      "실리콘 젖병 세척 풀세트 1개\n",
      "동물베개 - 엠마 부엉이 1개\n",
      "목베개 & 블랭킷 세트 - 스카이버드 1개\n",
      "속싸개 3장 세트 1개\n"
     ]
    }
   ],
   "source": [
    "'''\n",
    "세션 객체 생성\n",
    "세션객체 로그인페이지(로그인처리)를 호출해서 로그인 성공\n",
    "세션객체를 통해 수집하고 싶은 페이지 처리\n",
    "'''\n",
    "\n",
    "# 세션객체 생성\n",
    "sess = requests.session()\n",
    "#파라미터\n",
    "param = {'id':'test','password':'test1234'}\n",
    "url = 'http://iseoulu.sanggong.net/include/login.php'\n",
    "# post방식으로 파라미터와 함께 url 접\n",
    "res = sess.post(url,data=param)\n",
    "# 수집할 데이터가 있는 페이지\n",
    "mypage_url = 'http://iseoulu.sanggong.net/mypage/order/'\n",
    "res = sess.get(mypage_url) # 접속\n",
    "\n",
    "soup = BeautifulSoup(res.text, 'html.parser')\n",
    "names = soup.select('#sub > div.inner > div > div.product_list > table > tbody > tr > td.pro_info.line > a > div')\n",
    "for name in names:\n",
    "    print(name.get_text().strip())"
   ]
  },
  {
   "cell_type": "markdown",
   "metadata": {},
   "source": [
    "### 웹브라우저를 이용한스크래핑\n",
    "* Selenium 사용\n",
    "    * 원래 용도는 웹ui 테스트 도구\n",
    "* selenium 사용하는 이유\n",
    "    * urllib, requests 하나의 요청에대한 응답결과만 받을 수 있음\n",
    "    * 응답 후 비동기로 처리되는 경우(최근에는 ajax를 많이 사용)\n",
    "* selenium 라이브러리 설치\n",
    "* 크롬 드라이버 설치\n",
    "    *현재 크롬버전과 일치하는 드라이버 다운받아 설치\n",
    "    "
   ]
  },
  {
   "cell_type": "code",
   "execution_count": 1,
   "metadata": {},
   "outputs": [
    {
     "name": "stdout",
     "output_type": "stream",
     "text": [
      "Collecting selenium\n",
      "  Downloading selenium-3.141.0-py2.py3-none-any.whl (904 kB)\n",
      "Requirement already satisfied: urllib3 in c:\\users\\gw024\\anaconda3\\lib\\site-packages (from selenium) (1.25.11)\n",
      "Installing collected packages: selenium\n",
      "Successfully installed selenium-3.141.0\n"
     ]
    }
   ],
   "source": [
    "# selenum  설치\n",
    "!pip install selenium"
   ]
  },
  {
   "cell_type": "code",
   "execution_count": null,
   "metadata": {},
   "outputs": [],
   "source": []
  }
 ],
 "metadata": {
  "kernelspec": {
   "display_name": "Python 3",
   "language": "python",
   "name": "python3"
  },
  "language_info": {
   "codemirror_mode": {
    "name": "ipython",
    "version": 3
   },
   "file_extension": ".py",
   "mimetype": "text/x-python",
   "name": "python",
   "nbconvert_exporter": "python",
   "pygments_lexer": "ipython3",
   "version": "3.8.5"
  }
 },
 "nbformat": 4,
 "nbformat_minor": 4
}
